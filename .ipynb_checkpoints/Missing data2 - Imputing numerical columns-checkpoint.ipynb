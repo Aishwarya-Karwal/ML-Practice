{
 "cells": [
  {
   "cell_type": "code",
   "execution_count": 64,
   "id": "238222be",
   "metadata": {},
   "outputs": [],
   "source": [
    "import pandas as pd\n",
    "import numpy as np\n",
    "import matplotlib.pyplot as plt"
   ]
  },
  {
   "cell_type": "code",
   "execution_count": 65,
   "id": "fdcd6716",
   "metadata": {},
   "outputs": [],
   "source": [
    "from sklearn.model_selection import train_test_split\n",
    "from sklearn.impute import SimpleImputer\n",
    "from sklearn.compose import ColumnTransformer"
   ]
  },
  {
   "cell_type": "code",
   "execution_count": 66,
   "id": "fdc454c4",
   "metadata": {},
   "outputs": [],
   "source": [
    "df = pd.read_csv(r\"E:\\Jupyter Notebooks\\titanic_toy.csv\")"
   ]
  },
  {
   "cell_type": "code",
   "execution_count": 67,
   "id": "1f1fc3e8",
   "metadata": {},
   "outputs": [
    {
     "data": {
      "text/html": [
       "<div>\n",
       "<style scoped>\n",
       "    .dataframe tbody tr th:only-of-type {\n",
       "        vertical-align: middle;\n",
       "    }\n",
       "\n",
       "    .dataframe tbody tr th {\n",
       "        vertical-align: top;\n",
       "    }\n",
       "\n",
       "    .dataframe thead th {\n",
       "        text-align: right;\n",
       "    }\n",
       "</style>\n",
       "<table border=\"1\" class=\"dataframe\">\n",
       "  <thead>\n",
       "    <tr style=\"text-align: right;\">\n",
       "      <th></th>\n",
       "      <th>Age</th>\n",
       "      <th>Fare</th>\n",
       "      <th>Family</th>\n",
       "      <th>Survived</th>\n",
       "    </tr>\n",
       "  </thead>\n",
       "  <tbody>\n",
       "    <tr>\n",
       "      <th>0</th>\n",
       "      <td>22.0</td>\n",
       "      <td>7.2500</td>\n",
       "      <td>1</td>\n",
       "      <td>0</td>\n",
       "    </tr>\n",
       "    <tr>\n",
       "      <th>1</th>\n",
       "      <td>38.0</td>\n",
       "      <td>71.2833</td>\n",
       "      <td>1</td>\n",
       "      <td>1</td>\n",
       "    </tr>\n",
       "    <tr>\n",
       "      <th>2</th>\n",
       "      <td>26.0</td>\n",
       "      <td>7.9250</td>\n",
       "      <td>0</td>\n",
       "      <td>1</td>\n",
       "    </tr>\n",
       "    <tr>\n",
       "      <th>3</th>\n",
       "      <td>35.0</td>\n",
       "      <td>53.1000</td>\n",
       "      <td>1</td>\n",
       "      <td>1</td>\n",
       "    </tr>\n",
       "    <tr>\n",
       "      <th>4</th>\n",
       "      <td>35.0</td>\n",
       "      <td>8.0500</td>\n",
       "      <td>0</td>\n",
       "      <td>0</td>\n",
       "    </tr>\n",
       "  </tbody>\n",
       "</table>\n",
       "</div>"
      ],
      "text/plain": [
       "    Age     Fare  Family  Survived\n",
       "0  22.0   7.2500       1         0\n",
       "1  38.0  71.2833       1         1\n",
       "2  26.0   7.9250       0         1\n",
       "3  35.0  53.1000       1         1\n",
       "4  35.0   8.0500       0         0"
      ]
     },
     "execution_count": 67,
     "metadata": {},
     "output_type": "execute_result"
    }
   ],
   "source": [
    "df.head()"
   ]
  },
  {
   "cell_type": "code",
   "execution_count": 68,
   "id": "771da0e5",
   "metadata": {},
   "outputs": [
    {
     "data": {
      "text/plain": [
       "Age         177\n",
       "Fare         45\n",
       "Family        0\n",
       "Survived      0\n",
       "dtype: int64"
      ]
     },
     "execution_count": 68,
     "metadata": {},
     "output_type": "execute_result"
    }
   ],
   "source": [
    "df.isnull().sum()"
   ]
  },
  {
   "cell_type": "code",
   "execution_count": 69,
   "id": "1da02821",
   "metadata": {},
   "outputs": [
    {
     "data": {
      "text/plain": [
       "Age         0.198653\n",
       "Fare        0.050505\n",
       "Family      0.000000\n",
       "Survived    0.000000\n",
       "dtype: float64"
      ]
     },
     "execution_count": 69,
     "metadata": {},
     "output_type": "execute_result"
    }
   ],
   "source": [
    "df.isnull().mean() # this is like how much percent of null values we have "
   ]
  },
  {
   "cell_type": "code",
   "execution_count": 70,
   "id": "ac7d16cb",
   "metadata": {},
   "outputs": [
    {
     "data": {
      "text/plain": [
       "Age         19.865320\n",
       "Fare         5.050505\n",
       "Family       0.000000\n",
       "Survived     0.000000\n",
       "dtype: float64"
      ]
     },
     "execution_count": 70,
     "metadata": {},
     "output_type": "execute_result"
    }
   ],
   "source": [
    "# more clearly\n",
    "df.isnull().mean()*100"
   ]
  },
  {
   "cell_type": "markdown",
   "id": "d0bf1313",
   "metadata": {},
   "source": [
    "And as usual, before doing any transformations, do train test split"
   ]
  },
  {
   "cell_type": "code",
   "execution_count": 71,
   "id": "3d9b774a",
   "metadata": {},
   "outputs": [],
   "source": [
    "xtrain, xtest, ytrain, ytest = train_test_split(df.drop(['Survived'], axis = 1), df['Survived'], \n",
    "                                               random_state = 42, test_size = 0.2)"
   ]
  },
  {
   "cell_type": "code",
   "execution_count": 72,
   "id": "db78293d",
   "metadata": {},
   "outputs": [
    {
     "data": {
      "text/plain": [
       "((712, 3), (179, 3), (712,), (179,))"
      ]
     },
     "execution_count": 72,
     "metadata": {},
     "output_type": "execute_result"
    }
   ],
   "source": [
    "xtrain.shape, xtest.shape, ytrain.shape, ytest.shape"
   ]
  },
  {
   "cell_type": "markdown",
   "id": "c967b280",
   "metadata": {},
   "source": [
    "### Two ways to impute missing values"
   ]
  },
  {
   "cell_type": "markdown",
   "id": "169d686c",
   "metadata": {},
   "source": [
    "#### Pandas fillna"
   ]
  },
  {
   "cell_type": "markdown",
   "id": "745a9b3d",
   "metadata": {},
   "source": [
    "Now, if we have data CMAR (completely missing at random) and less than 5percent null values,\n",
    "then only it's recommended to do unvariate imputation on it.\n",
    "\n",
    "Let's prove it by doing, age col has more than 5per data misssing and applying imputation on it may \n",
    "cause problems "
   ]
  },
  {
   "cell_type": "code",
   "execution_count": 74,
   "id": "53fac57a",
   "metadata": {},
   "outputs": [
    {
     "data": {
      "text/plain": [
       "32.517787721893455"
      ]
     },
     "execution_count": 74,
     "metadata": {},
     "output_type": "execute_result"
    }
   ],
   "source": [
    "xtrain['Fare'].mean()"
   ]
  },
  {
   "cell_type": "code",
   "execution_count": 75,
   "id": "0f9eef99",
   "metadata": {},
   "outputs": [],
   "source": [
    "xtrain['mean_fare'] = xtrain['Fare'].fillna(xtrain['Fare'].mean())\n",
    "xtrain['median_fare'] = xtrain['Fare'].fillna(xtrain['Fare'].median())\n",
    "\n",
    "xtrain['mean_age'] = xtrain['Age'].fillna(xtrain['Age'].mean())\n",
    "xtrain['median_age'] = xtrain['Age'].fillna(xtrain['Age'].median())"
   ]
  },
  {
   "cell_type": "code",
   "execution_count": 76,
   "id": "f0b9ce67",
   "metadata": {},
   "outputs": [
    {
     "data": {
      "text/plain": [
       "331    45.5\n",
       "733    23.0\n",
       "382    32.0\n",
       "704    26.0\n",
       "813     6.0\n",
       "       ... \n",
       "106    21.0\n",
       "270     NaN\n",
       "860    41.0\n",
       "435    14.0\n",
       "102    21.0\n",
       "Name: Age, Length: 712, dtype: float64"
      ]
     },
     "execution_count": 76,
     "metadata": {},
     "output_type": "execute_result"
    }
   ],
   "source": [
    "xtrain['Age']"
   ]
  },
  {
   "cell_type": "code",
   "execution_count": 77,
   "id": "965f5966",
   "metadata": {},
   "outputs": [
    {
     "data": {
      "text/plain": [
       "331    False\n",
       "733    False\n",
       "382    False\n",
       "704    False\n",
       "813    False\n",
       "       ...  \n",
       "106    False\n",
       "270     True\n",
       "860    False\n",
       "435    False\n",
       "102    False\n",
       "Name: Age, Length: 712, dtype: bool"
      ]
     },
     "execution_count": 77,
     "metadata": {},
     "output_type": "execute_result"
    }
   ],
   "source": [
    "xtrain['Age'].isnull()"
   ]
  },
  {
   "cell_type": "code",
   "execution_count": 78,
   "id": "29fc3c2a",
   "metadata": {},
   "outputs": [
    {
     "data": {
      "text/plain": [
       "[331    False\n",
       " 733    False\n",
       " 382    False\n",
       " 704    False\n",
       " 813    False\n",
       "        ...  \n",
       " 106    False\n",
       " 270    False\n",
       " 860    False\n",
       " 435    False\n",
       " 102    False\n",
       " Name: Age, Length: 712, dtype: bool]"
      ]
     },
     "execution_count": 78,
     "metadata": {},
     "output_type": "execute_result"
    }
   ],
   "source": [
    "[xtrain['Age'] == 'NaN']"
   ]
  },
  {
   "cell_type": "code",
   "execution_count": 79,
   "id": "8a32ee03",
   "metadata": {},
   "outputs": [
    {
     "data": {
      "text/html": [
       "<div>\n",
       "<style scoped>\n",
       "    .dataframe tbody tr th:only-of-type {\n",
       "        vertical-align: middle;\n",
       "    }\n",
       "\n",
       "    .dataframe tbody tr th {\n",
       "        vertical-align: top;\n",
       "    }\n",
       "\n",
       "    .dataframe thead th {\n",
       "        text-align: right;\n",
       "    }\n",
       "</style>\n",
       "<table border=\"1\" class=\"dataframe\">\n",
       "  <thead>\n",
       "    <tr style=\"text-align: right;\">\n",
       "      <th></th>\n",
       "      <th>Age</th>\n",
       "      <th>Fare</th>\n",
       "      <th>Family</th>\n",
       "      <th>mean_fare</th>\n",
       "      <th>median_fare</th>\n",
       "      <th>mean_age</th>\n",
       "      <th>median_age</th>\n",
       "    </tr>\n",
       "  </thead>\n",
       "  <tbody>\n",
       "  </tbody>\n",
       "</table>\n",
       "</div>"
      ],
      "text/plain": [
       "Empty DataFrame\n",
       "Columns: [Age, Fare, Family, mean_fare, median_fare, mean_age, median_age]\n",
       "Index: []"
      ]
     },
     "execution_count": 79,
     "metadata": {},
     "output_type": "execute_result"
    }
   ],
   "source": [
    "xtrain[xtrain['Age'] == np.nan] # this i don't know why not working"
   ]
  },
  {
   "cell_type": "code",
   "execution_count": 80,
   "id": "316aca28",
   "metadata": {},
   "outputs": [
    {
     "data": {
      "text/html": [
       "<div>\n",
       "<style scoped>\n",
       "    .dataframe tbody tr th:only-of-type {\n",
       "        vertical-align: middle;\n",
       "    }\n",
       "\n",
       "    .dataframe tbody tr th {\n",
       "        vertical-align: top;\n",
       "    }\n",
       "\n",
       "    .dataframe thead th {\n",
       "        text-align: right;\n",
       "    }\n",
       "</style>\n",
       "<table border=\"1\" class=\"dataframe\">\n",
       "  <thead>\n",
       "    <tr style=\"text-align: right;\">\n",
       "      <th></th>\n",
       "      <th>Age</th>\n",
       "      <th>Fare</th>\n",
       "      <th>Family</th>\n",
       "      <th>mean_fare</th>\n",
       "      <th>median_fare</th>\n",
       "      <th>mean_age</th>\n",
       "      <th>median_age</th>\n",
       "    </tr>\n",
       "  </thead>\n",
       "  <tbody>\n",
       "    <tr>\n",
       "      <th>29</th>\n",
       "      <td>NaN</td>\n",
       "      <td>7.8958</td>\n",
       "      <td>0</td>\n",
       "      <td>7.895800</td>\n",
       "      <td>7.8958</td>\n",
       "      <td>29.498846</td>\n",
       "      <td>28.0</td>\n",
       "    </tr>\n",
       "    <tr>\n",
       "      <th>55</th>\n",
       "      <td>NaN</td>\n",
       "      <td>35.5000</td>\n",
       "      <td>0</td>\n",
       "      <td>35.500000</td>\n",
       "      <td>35.5000</td>\n",
       "      <td>29.498846</td>\n",
       "      <td>28.0</td>\n",
       "    </tr>\n",
       "    <tr>\n",
       "      <th>533</th>\n",
       "      <td>NaN</td>\n",
       "      <td>22.3583</td>\n",
       "      <td>2</td>\n",
       "      <td>22.358300</td>\n",
       "      <td>22.3583</td>\n",
       "      <td>29.498846</td>\n",
       "      <td>28.0</td>\n",
       "    </tr>\n",
       "    <tr>\n",
       "      <th>495</th>\n",
       "      <td>NaN</td>\n",
       "      <td>14.4583</td>\n",
       "      <td>0</td>\n",
       "      <td>14.458300</td>\n",
       "      <td>14.4583</td>\n",
       "      <td>29.498846</td>\n",
       "      <td>28.0</td>\n",
       "    </tr>\n",
       "    <tr>\n",
       "      <th>468</th>\n",
       "      <td>NaN</td>\n",
       "      <td>7.7250</td>\n",
       "      <td>0</td>\n",
       "      <td>7.725000</td>\n",
       "      <td>7.7250</td>\n",
       "      <td>29.498846</td>\n",
       "      <td>28.0</td>\n",
       "    </tr>\n",
       "    <tr>\n",
       "      <th>...</th>\n",
       "      <td>...</td>\n",
       "      <td>...</td>\n",
       "      <td>...</td>\n",
       "      <td>...</td>\n",
       "      <td>...</td>\n",
       "      <td>...</td>\n",
       "      <td>...</td>\n",
       "    </tr>\n",
       "    <tr>\n",
       "      <th>330</th>\n",
       "      <td>NaN</td>\n",
       "      <td>23.2500</td>\n",
       "      <td>2</td>\n",
       "      <td>23.250000</td>\n",
       "      <td>23.2500</td>\n",
       "      <td>29.498846</td>\n",
       "      <td>28.0</td>\n",
       "    </tr>\n",
       "    <tr>\n",
       "      <th>214</th>\n",
       "      <td>NaN</td>\n",
       "      <td>7.7500</td>\n",
       "      <td>1</td>\n",
       "      <td>7.750000</td>\n",
       "      <td>7.7500</td>\n",
       "      <td>29.498846</td>\n",
       "      <td>28.0</td>\n",
       "    </tr>\n",
       "    <tr>\n",
       "      <th>466</th>\n",
       "      <td>NaN</td>\n",
       "      <td>NaN</td>\n",
       "      <td>0</td>\n",
       "      <td>32.517788</td>\n",
       "      <td>14.4000</td>\n",
       "      <td>29.498846</td>\n",
       "      <td>28.0</td>\n",
       "    </tr>\n",
       "    <tr>\n",
       "      <th>121</th>\n",
       "      <td>NaN</td>\n",
       "      <td>8.0500</td>\n",
       "      <td>0</td>\n",
       "      <td>8.050000</td>\n",
       "      <td>8.0500</td>\n",
       "      <td>29.498846</td>\n",
       "      <td>28.0</td>\n",
       "    </tr>\n",
       "    <tr>\n",
       "      <th>270</th>\n",
       "      <td>NaN</td>\n",
       "      <td>31.0000</td>\n",
       "      <td>0</td>\n",
       "      <td>31.000000</td>\n",
       "      <td>31.0000</td>\n",
       "      <td>29.498846</td>\n",
       "      <td>28.0</td>\n",
       "    </tr>\n",
       "  </tbody>\n",
       "</table>\n",
       "<p>140 rows × 7 columns</p>\n",
       "</div>"
      ],
      "text/plain": [
       "     Age     Fare  Family  mean_fare  median_fare   mean_age  median_age\n",
       "29   NaN   7.8958       0   7.895800       7.8958  29.498846        28.0\n",
       "55   NaN  35.5000       0  35.500000      35.5000  29.498846        28.0\n",
       "533  NaN  22.3583       2  22.358300      22.3583  29.498846        28.0\n",
       "495  NaN  14.4583       0  14.458300      14.4583  29.498846        28.0\n",
       "468  NaN   7.7250       0   7.725000       7.7250  29.498846        28.0\n",
       "..   ...      ...     ...        ...          ...        ...         ...\n",
       "330  NaN  23.2500       2  23.250000      23.2500  29.498846        28.0\n",
       "214  NaN   7.7500       1   7.750000       7.7500  29.498846        28.0\n",
       "466  NaN      NaN       0  32.517788      14.4000  29.498846        28.0\n",
       "121  NaN   8.0500       0   8.050000       8.0500  29.498846        28.0\n",
       "270  NaN  31.0000       0  31.000000      31.0000  29.498846        28.0\n",
       "\n",
       "[140 rows x 7 columns]"
      ]
     },
     "execution_count": 80,
     "metadata": {},
     "output_type": "execute_result"
    }
   ],
   "source": [
    "xtrain[xtrain['Age'].isnull()]"
   ]
  },
  {
   "cell_type": "code",
   "execution_count": 85,
   "id": "41fcc7bb",
   "metadata": {},
   "outputs": [
    {
     "data": {
      "text/plain": [
       "(210.2517072477438, 168.8519336687225, 169.20731007048096)"
      ]
     },
     "execution_count": 85,
     "metadata": {},
     "output_type": "execute_result"
    }
   ],
   "source": [
    "# variance changed a lot\n",
    "xtrain['Age'].var(), xtrain['mean_age'].var(), xtrain['median_age'].var()"
   ]
  },
  {
   "cell_type": "code",
   "execution_count": 86,
   "id": "85304f15",
   "metadata": {},
   "outputs": [
    {
     "data": {
      "text/plain": [
       "(2761.031434948639, 2621.2323749512393, 2637.01248167777)"
      ]
     },
     "execution_count": 86,
     "metadata": {},
     "output_type": "execute_result"
    }
   ],
   "source": [
    "# variance changed a bit, would be more clear through distributions\n",
    "xtrain['Fare'].var(), xtrain['mean_fare'].var(), xtrain['median_fare'].var()"
   ]
  },
  {
   "cell_type": "code",
   "execution_count": 91,
   "id": "102dab22",
   "metadata": {},
   "outputs": [
    {
     "data": {
      "text/plain": [
       "<matplotlib.legend.Legend at 0x221e8012d90>"
      ]
     },
     "execution_count": 91,
     "metadata": {},
     "output_type": "execute_result"
    },
    {
     "data": {
      "image/png": "[encoded data removed]",
      "text/plain": [
       "<Figure size 640x480 with 1 Axes>"
      ]
     },
     "metadata": {},
     "output_type": "display_data"
    }
   ],
   "source": [
    "# Age k distribution m to fark pada h\n",
    "xtrain['Age'].plot(kind = 'kde', label = 'original')\n",
    "xtrain['mean_age'].plot(kind = 'kde', label='mean imputed')\n",
    "xtrain['median_age'].plot(kind = 'kde', label = 'median imputed')\n",
    "plt.legend()"
   ]
  },
  {
   "cell_type": "code",
   "execution_count": 93,
   "id": "d9fcd021",
   "metadata": {},
   "outputs": [
    {
     "data": {
      "text/plain": [
       "<matplotlib.legend.Legend at 0x221e8080f70>"
      ]
     },
     "execution_count": 93,
     "metadata": {},
     "output_type": "execute_result"
    },
    {
     "data": {
      "image/png": "[encoded data removed]",
      "text/plain": [
       "<Figure size 640x480 with 1 Axes>"
      ]
     },
     "metadata": {},
     "output_type": "display_data"
    }
   ],
   "source": [
    "# fare k distribution m to na k barabar fark pada h - this is good\n",
    "xtrain['Fare'].plot(kind = 'kde', label = 'original')\n",
    "xtrain['mean_fare'].plot(kind = 'kde', label='mean imputed')\n",
    "xtrain['median_fare'].plot(kind = 'kde', label = 'median imputed')\n",
    "plt.legend()"
   ]
  },
  {
   "cell_type": "code",
   "execution_count": 94,
   "id": "f04b1f5c",
   "metadata": {},
   "outputs": [
    {
     "data": {
      "text/html": [
       "<div>\n",
       "<style scoped>\n",
       "    .dataframe tbody tr th:only-of-type {\n",
       "        vertical-align: middle;\n",
       "    }\n",
       "\n",
       "    .dataframe tbody tr th {\n",
       "        vertical-align: top;\n",
       "    }\n",
       "\n",
       "    .dataframe thead th {\n",
       "        text-align: right;\n",
       "    }\n",
       "</style>\n",
       "<table border=\"1\" class=\"dataframe\">\n",
       "  <thead>\n",
       "    <tr style=\"text-align: right;\">\n",
       "      <th></th>\n",
       "      <th>Age</th>\n",
       "      <th>Fare</th>\n",
       "      <th>Family</th>\n",
       "      <th>mean_fare</th>\n",
       "      <th>median_fare</th>\n",
       "      <th>mean_age</th>\n",
       "      <th>median_age</th>\n",
       "    </tr>\n",
       "  </thead>\n",
       "  <tbody>\n",
       "    <tr>\n",
       "      <th>Age</th>\n",
       "      <td>210.251707</td>\n",
       "      <td>75.481375</td>\n",
       "      <td>-6.993325</td>\n",
       "      <td>71.193767</td>\n",
       "      <td>70.082085</td>\n",
       "      <td>210.251707</td>\n",
       "      <td>210.251707</td>\n",
       "    </tr>\n",
       "    <tr>\n",
       "      <th>Fare</th>\n",
       "      <td>75.481375</td>\n",
       "      <td>2761.031435</td>\n",
       "      <td>18.599163</td>\n",
       "      <td>2761.031435</td>\n",
       "      <td>2761.031435</td>\n",
       "      <td>60.224654</td>\n",
       "      <td>63.938058</td>\n",
       "    </tr>\n",
       "    <tr>\n",
       "      <th>Family</th>\n",
       "      <td>-6.993325</td>\n",
       "      <td>18.599163</td>\n",
       "      <td>2.830892</td>\n",
       "      <td>17.657433</td>\n",
       "      <td>17.672035</td>\n",
       "      <td>-5.616299</td>\n",
       "      <td>-5.587710</td>\n",
       "    </tr>\n",
       "    <tr>\n",
       "      <th>mean_fare</th>\n",
       "      <td>71.193767</td>\n",
       "      <td>2761.031435</td>\n",
       "      <td>17.657433</td>\n",
       "      <td>2621.232375</td>\n",
       "      <td>2621.232375</td>\n",
       "      <td>57.175304</td>\n",
       "      <td>60.700688</td>\n",
       "    </tr>\n",
       "    <tr>\n",
       "      <th>median_fare</th>\n",
       "      <td>70.082085</td>\n",
       "      <td>2761.031435</td>\n",
       "      <td>17.672035</td>\n",
       "      <td>2621.232375</td>\n",
       "      <td>2637.012482</td>\n",
       "      <td>56.282518</td>\n",
       "      <td>59.728510</td>\n",
       "    </tr>\n",
       "    <tr>\n",
       "      <th>mean_age</th>\n",
       "      <td>210.251707</td>\n",
       "      <td>60.224654</td>\n",
       "      <td>-5.616299</td>\n",
       "      <td>57.175304</td>\n",
       "      <td>56.282518</td>\n",
       "      <td>168.851934</td>\n",
       "      <td>168.851934</td>\n",
       "    </tr>\n",
       "    <tr>\n",
       "      <th>median_age</th>\n",
       "      <td>210.251707</td>\n",
       "      <td>63.938058</td>\n",
       "      <td>-5.587710</td>\n",
       "      <td>60.700688</td>\n",
       "      <td>59.728510</td>\n",
       "      <td>168.851934</td>\n",
       "      <td>169.207310</td>\n",
       "    </tr>\n",
       "  </tbody>\n",
       "</table>\n",
       "</div>"
      ],
      "text/plain": [
       "                    Age         Fare     Family    mean_fare  median_fare  \\\n",
       "Age          210.251707    75.481375  -6.993325    71.193767    70.082085   \n",
       "Fare          75.481375  2761.031435  18.599163  2761.031435  2761.031435   \n",
       "Family        -6.993325    18.599163   2.830892    17.657433    17.672035   \n",
       "mean_fare     71.193767  2761.031435  17.657433  2621.232375  2621.232375   \n",
       "median_fare   70.082085  2761.031435  17.672035  2621.232375  2637.012482   \n",
       "mean_age     210.251707    60.224654  -5.616299    57.175304    56.282518   \n",
       "median_age   210.251707    63.938058  -5.587710    60.700688    59.728510   \n",
       "\n",
       "               mean_age  median_age  \n",
       "Age          210.251707  210.251707  \n",
       "Fare          60.224654   63.938058  \n",
       "Family        -5.616299   -5.587710  \n",
       "mean_fare     57.175304   60.700688  \n",
       "median_fare   56.282518   59.728510  \n",
       "mean_age     168.851934  168.851934  \n",
       "median_age   168.851934  169.207310  "
      ]
     },
     "execution_count": 94,
     "metadata": {},
     "output_type": "execute_result"
    }
   ],
   "source": [
    "# covaiance and correlation between columns also changes after this imputation\n",
    "# but it should not change much\n",
    "xtrain.cov()"
   ]
  },
  {
   "cell_type": "code",
   "execution_count": 96,
   "id": "41d2336a",
   "metadata": {},
   "outputs": [
    {
     "data": {
      "text/html": [
       "<div>\n",
       "<style scoped>\n",
       "    .dataframe tbody tr th:only-of-type {\n",
       "        vertical-align: middle;\n",
       "    }\n",
       "\n",
       "    .dataframe tbody tr th {\n",
       "        vertical-align: top;\n",
       "    }\n",
       "\n",
       "    .dataframe thead th {\n",
       "        text-align: right;\n",
       "    }\n",
       "</style>\n",
       "<table border=\"1\" class=\"dataframe\">\n",
       "  <thead>\n",
       "    <tr style=\"text-align: right;\">\n",
       "      <th></th>\n",
       "      <th>Age</th>\n",
       "      <th>Fare</th>\n",
       "      <th>Family</th>\n",
       "      <th>mean_fare</th>\n",
       "      <th>median_fare</th>\n",
       "      <th>mean_age</th>\n",
       "      <th>median_age</th>\n",
       "    </tr>\n",
       "  </thead>\n",
       "  <tbody>\n",
       "    <tr>\n",
       "      <th>Age</th>\n",
       "      <td>1.000000</td>\n",
       "      <td>0.091482</td>\n",
       "      <td>-0.319651</td>\n",
       "      <td>0.088944</td>\n",
       "      <td>0.087232</td>\n",
       "      <td>1.000000</td>\n",
       "      <td>1.000000</td>\n",
       "    </tr>\n",
       "    <tr>\n",
       "      <th>Fare</th>\n",
       "      <td>0.091482</td>\n",
       "      <td>1.000000</td>\n",
       "      <td>0.207193</td>\n",
       "      <td>1.000000</td>\n",
       "      <td>1.000000</td>\n",
       "      <td>0.088151</td>\n",
       "      <td>0.093496</td>\n",
       "    </tr>\n",
       "    <tr>\n",
       "      <th>Family</th>\n",
       "      <td>-0.319651</td>\n",
       "      <td>0.207193</td>\n",
       "      <td>1.000000</td>\n",
       "      <td>0.204981</td>\n",
       "      <td>0.204536</td>\n",
       "      <td>-0.256883</td>\n",
       "      <td>-0.255307</td>\n",
       "    </tr>\n",
       "    <tr>\n",
       "      <th>mean_fare</th>\n",
       "      <td>0.088944</td>\n",
       "      <td>1.000000</td>\n",
       "      <td>0.204981</td>\n",
       "      <td>1.000000</td>\n",
       "      <td>0.997003</td>\n",
       "      <td>0.085941</td>\n",
       "      <td>0.091145</td>\n",
       "    </tr>\n",
       "    <tr>\n",
       "      <th>median_fare</th>\n",
       "      <td>0.087232</td>\n",
       "      <td>1.000000</td>\n",
       "      <td>0.204536</td>\n",
       "      <td>0.997003</td>\n",
       "      <td>1.000000</td>\n",
       "      <td>0.084346</td>\n",
       "      <td>0.089416</td>\n",
       "    </tr>\n",
       "    <tr>\n",
       "      <th>mean_age</th>\n",
       "      <td>1.000000</td>\n",
       "      <td>0.088151</td>\n",
       "      <td>-0.256883</td>\n",
       "      <td>0.085941</td>\n",
       "      <td>0.084346</td>\n",
       "      <td>1.000000</td>\n",
       "      <td>0.998949</td>\n",
       "    </tr>\n",
       "    <tr>\n",
       "      <th>median_age</th>\n",
       "      <td>1.000000</td>\n",
       "      <td>0.093496</td>\n",
       "      <td>-0.255307</td>\n",
       "      <td>0.091145</td>\n",
       "      <td>0.089416</td>\n",
       "      <td>0.998949</td>\n",
       "      <td>1.000000</td>\n",
       "    </tr>\n",
       "  </tbody>\n",
       "</table>\n",
       "</div>"
      ],
      "text/plain": [
       "                  Age      Fare    Family  mean_fare  median_fare  mean_age  \\\n",
       "Age          1.000000  0.091482 -0.319651   0.088944     0.087232  1.000000   \n",
       "Fare         0.091482  1.000000  0.207193   1.000000     1.000000  0.088151   \n",
       "Family      -0.319651  0.207193  1.000000   0.204981     0.204536 -0.256883   \n",
       "mean_fare    0.088944  1.000000  0.204981   1.000000     0.997003  0.085941   \n",
       "median_fare  0.087232  1.000000  0.204536   0.997003     1.000000  0.084346   \n",
       "mean_age     1.000000  0.088151 -0.256883   0.085941     0.084346  1.000000   \n",
       "median_age   1.000000  0.093496 -0.255307   0.091145     0.089416  0.998949   \n",
       "\n",
       "             median_age  \n",
       "Age            1.000000  \n",
       "Fare           0.093496  \n",
       "Family        -0.255307  \n",
       "mean_fare      0.091145  \n",
       "median_fare    0.089416  \n",
       "mean_age       0.998949  \n",
       "median_age     1.000000  "
      ]
     },
     "execution_count": 96,
     "metadata": {},
     "output_type": "execute_result"
    }
   ],
   "source": [
    "xtrain.corr()"
   ]
  },
  {
   "cell_type": "code",
   "execution_count": 98,
   "id": "7fea200b",
   "metadata": {},
   "outputs": [
    {
     "data": {
      "text/plain": [
       "<AxesSubplot:>"
      ]
     },
     "execution_count": 98,
     "metadata": {},
     "output_type": "execute_result"
    },
    {
     "data": {
      "image/png": "[encoded data removed]",
      "text/plain": [
       "<Figure size 640x480 with 1 Axes>"
      ]
     },
     "metadata": {},
     "output_type": "display_data"
    }
   ],
   "source": [
    "# values start to get treated as outliers\n",
    "xtrain[['Fare','mean_fare','median_fare']].boxplot()"
   ]
  },
  {
   "cell_type": "code",
   "execution_count": 99,
   "id": "f6176503",
   "metadata": {},
   "outputs": [
    {
     "data": {
      "text/plain": [
       "<AxesSubplot:>"
      ]
     },
     "execution_count": 99,
     "metadata": {},
     "output_type": "execute_result"
    },
    {
     "data": {
      "image/png": "[encoded data removed]",
      "text/plain": [
       "<Figure size 640x480 with 1 Axes>"
      ]
     },
     "metadata": {},
     "output_type": "display_data"
    }
   ],
   "source": [
    "xtrain[['Age','mean_age','median_age']].boxplot() # isme outliers badh gaye"
   ]
  },
  {
   "cell_type": "markdown",
   "id": "3d56c4c6",
   "metadata": {},
   "source": [
    "#### sklearn's SimpleImputer"
   ]
  },
  {
   "cell_type": "code",
   "execution_count": 100,
   "id": "0776b255",
   "metadata": {},
   "outputs": [],
   "source": [
    "xtrain, xtest, ytrain, ytest = train_test_split(df.drop(['Survived'], axis = 1), df['Survived'], \n",
    "                                               random_state = 42, test_size = 0.2)"
   ]
  },
  {
   "cell_type": "code",
   "execution_count": 101,
   "id": "ae30805a",
   "metadata": {},
   "outputs": [],
   "source": [
    "si_age = SimpleImputer() # we could also have specified diff startegy = 'mean' or 'median'\n",
    "si_fare = SimpleImputer() # creating two diff instances to avoid any confusions"
   ]
  },
  {
   "cell_type": "code",
   "execution_count": 102,
   "id": "039b53f6",
   "metadata": {},
   "outputs": [],
   "source": [
    "ct = ColumnTransformer(\n",
    "[\n",
    "    ('first', si_age, ['Age']),\n",
    "    ('second', si_fare, ['Fare'])\n",
    "], remainder = 'passthrough')"
   ]
  },
  {
   "cell_type": "code",
   "execution_count": 106,
   "id": "0352d953",
   "metadata": {},
   "outputs": [
    {
     "data": {
      "text/plain": [
       "array([[ 45.5       ,  28.5       ,   0.        ],\n",
       "       [ 23.        ,  13.        ,   0.        ],\n",
       "       [ 32.        ,   7.925     ,   0.        ],\n",
       "       ...,\n",
       "       [ 41.        ,  32.51778772,   2.        ],\n",
       "       [ 14.        , 120.        ,   3.        ],\n",
       "       [ 21.        ,  77.2875    ,   1.        ]])"
      ]
     },
     "execution_count": 106,
     "metadata": {},
     "output_type": "execute_result"
    }
   ],
   "source": [
    "ct.fit_transform(xtrain)#.shape"
   ]
  },
  {
   "cell_type": "code",
   "execution_count": 116,
   "id": "7069d966",
   "metadata": {},
   "outputs": [],
   "source": [
    "SimpleImputer?"
   ]
  },
  {
   "cell_type": "code",
   "execution_count": 109,
   "id": "8074ee08",
   "metadata": {},
   "outputs": [],
   "source": [
    "transformed_train = ct.fit_transform(xtrain)"
   ]
  },
  {
   "cell_type": "code",
   "execution_count": 111,
   "id": "69d255e1",
   "metadata": {},
   "outputs": [],
   "source": [
    "transformed_test = ct.transform(xtest)"
   ]
  },
  {
   "cell_type": "code",
   "execution_count": 112,
   "id": "a286108e",
   "metadata": {},
   "outputs": [
    {
     "data": {
      "text/plain": [
       "{'first': SimpleImputer(),\n",
       " 'second': SimpleImputer(),\n",
       " 'remainder': FunctionTransformer(accept_sparse=True, check_inverse=False,\n",
       "                     feature_names_out='one-to-one')}"
      ]
     },
     "execution_count": 112,
     "metadata": {},
     "output_type": "execute_result"
    }
   ],
   "source": [
    "ct.named_transformers_"
   ]
  },
  {
   "cell_type": "code",
   "execution_count": 114,
   "id": "71a11699",
   "metadata": {},
   "outputs": [
    {
     "data": {
      "text/plain": [
       "array([32.51778772])"
      ]
     },
     "execution_count": 114,
     "metadata": {},
     "output_type": "execute_result"
    }
   ],
   "source": [
    "ct.named_transformers_['second'].statistics_"
   ]
  },
  {
   "cell_type": "code",
   "execution_count": null,
   "id": "e464e79b",
   "metadata": {},
   "outputs": [],
   "source": []
  }
 ],
 "metadata": {
  "kernelspec": {
   "display_name": "Python 3 (ipykernel)",
   "language": "python",
   "name": "python3"
  },
  "language_info": {
   "codemirror_mode": {
    "name": "ipython",
    "version": 3
   },
   "file_extension": ".py",
   "mimetype": "text/x-python",
   "name": "python",
   "nbconvert_exporter": "python",
   "pygments_lexer": "ipython3",
   "version": "3.9.13"
  }
 },
 "nbformat": 4,
 "nbformat_minor": 5
}
