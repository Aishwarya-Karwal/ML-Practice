{
 "cells": [
  {
   "cell_type": "code",
   "execution_count": 68,
   "id": "694949cf",
   "metadata": {},
   "outputs": [],
   "source": [
    "import numpy as np\n",
    "import pandas as pd\n",
    "\n",
    "from sklearn.model_selection import train_test_split\n",
    "\n",
    "import matplotlib.pyplot as plt\n",
    "import seaborn as sns"
   ]
  },
  {
   "cell_type": "markdown",
   "id": "82c7dfd4",
   "metadata": {},
   "source": [
    "### Imputing numerical column with random data"
   ]
  },
  {
   "cell_type": "code",
   "execution_count": 69,
   "id": "435340c9",
   "metadata": {},
   "outputs": [],
   "source": [
    "df = pd.read_csv(r\"E:\\Jupyter Notebooks\\train.csv\",usecols=['Age','Fare','Survived'])"
   ]
  },
  {
   "cell_type": "code",
   "execution_count": 70,
   "id": "c33137dc",
   "metadata": {},
   "outputs": [
    {
     "data": {
      "text/html": [
       "<div>\n",
       "<style scoped>\n",
       "    .dataframe tbody tr th:only-of-type {\n",
       "        vertical-align: middle;\n",
       "    }\n",
       "\n",
       "    .dataframe tbody tr th {\n",
       "        vertical-align: top;\n",
       "    }\n",
       "\n",
       "    .dataframe thead th {\n",
       "        text-align: right;\n",
       "    }\n",
       "</style>\n",
       "<table border=\"1\" class=\"dataframe\">\n",
       "  <thead>\n",
       "    <tr style=\"text-align: right;\">\n",
       "      <th></th>\n",
       "      <th>Survived</th>\n",
       "      <th>Age</th>\n",
       "      <th>Fare</th>\n",
       "    </tr>\n",
       "  </thead>\n",
       "  <tbody>\n",
       "    <tr>\n",
       "      <th>859</th>\n",
       "      <td>0</td>\n",
       "      <td>NaN</td>\n",
       "      <td>7.2292</td>\n",
       "    </tr>\n",
       "  </tbody>\n",
       "</table>\n",
       "</div>"
      ],
      "text/plain": [
       "     Survived  Age    Fare\n",
       "859         0  NaN  7.2292"
      ]
     },
     "execution_count": 70,
     "metadata": {},
     "output_type": "execute_result"
    }
   ],
   "source": [
    "df.sample()"
   ]
  },
  {
   "cell_type": "code",
   "execution_count": 71,
   "id": "abdc6fd3",
   "metadata": {},
   "outputs": [
    {
     "data": {
      "text/plain": [
       "Survived     0.00000\n",
       "Age         19.86532\n",
       "Fare         0.00000\n",
       "dtype: float64"
      ]
     },
     "execution_count": 71,
     "metadata": {},
     "output_type": "execute_result"
    }
   ],
   "source": [
    "df.isnull().mean()*100"
   ]
  },
  {
   "cell_type": "code",
   "execution_count": 72,
   "id": "f440199f",
   "metadata": {},
   "outputs": [],
   "source": [
    "xtrain1, xtest1, ytrain1, ytest1 = train_test_split(df.drop(['Survived'],axis=1), df['Survived'], \n",
    "                                                   test_size = 0.2, random_state = 42)"
   ]
  },
  {
   "cell_type": "code",
   "execution_count": 73,
   "id": "bcd65778",
   "metadata": {},
   "outputs": [
    {
     "data": {
      "text/plain": [
       "((712, 2), (179, 2), (712,), (179,))"
      ]
     },
     "execution_count": 73,
     "metadata": {},
     "output_type": "execute_result"
    }
   ],
   "source": [
    "xtrain1.shape, xtest1.shape, ytrain1.shape, ytest1.shape"
   ]
  },
  {
   "cell_type": "code",
   "execution_count": 74,
   "id": "57ce83f5",
   "metadata": {},
   "outputs": [],
   "source": [
    "# making the copies of original columns to impute them with random values, and later comparing \n",
    "# with original\n",
    "xtrain1['ageI'] = xtrain1['Age']\n",
    "xtest1['ageI'] = xtest1['Age']"
   ]
  },
  {
   "cell_type": "code",
   "execution_count": 75,
   "id": "3edd2990",
   "metadata": {},
   "outputs": [
    {
     "data": {
      "text/html": [
       "<div>\n",
       "<style scoped>\n",
       "    .dataframe tbody tr th:only-of-type {\n",
       "        vertical-align: middle;\n",
       "    }\n",
       "\n",
       "    .dataframe tbody tr th {\n",
       "        vertical-align: top;\n",
       "    }\n",
       "\n",
       "    .dataframe thead th {\n",
       "        text-align: right;\n",
       "    }\n",
       "</style>\n",
       "<table border=\"1\" class=\"dataframe\">\n",
       "  <thead>\n",
       "    <tr style=\"text-align: right;\">\n",
       "      <th></th>\n",
       "      <th>Age</th>\n",
       "      <th>Fare</th>\n",
       "      <th>ageI</th>\n",
       "    </tr>\n",
       "  </thead>\n",
       "  <tbody>\n",
       "    <tr>\n",
       "      <th>709</th>\n",
       "      <td>NaN</td>\n",
       "      <td>15.2458</td>\n",
       "      <td>NaN</td>\n",
       "    </tr>\n",
       "    <tr>\n",
       "      <th>439</th>\n",
       "      <td>31.0</td>\n",
       "      <td>10.5000</td>\n",
       "      <td>31.0</td>\n",
       "    </tr>\n",
       "    <tr>\n",
       "      <th>840</th>\n",
       "      <td>20.0</td>\n",
       "      <td>7.9250</td>\n",
       "      <td>20.0</td>\n",
       "    </tr>\n",
       "    <tr>\n",
       "      <th>720</th>\n",
       "      <td>6.0</td>\n",
       "      <td>33.0000</td>\n",
       "      <td>6.0</td>\n",
       "    </tr>\n",
       "    <tr>\n",
       "      <th>39</th>\n",
       "      <td>14.0</td>\n",
       "      <td>11.2417</td>\n",
       "      <td>14.0</td>\n",
       "    </tr>\n",
       "    <tr>\n",
       "      <th>...</th>\n",
       "      <td>...</td>\n",
       "      <td>...</td>\n",
       "      <td>...</td>\n",
       "    </tr>\n",
       "    <tr>\n",
       "      <th>433</th>\n",
       "      <td>17.0</td>\n",
       "      <td>7.1250</td>\n",
       "      <td>17.0</td>\n",
       "    </tr>\n",
       "    <tr>\n",
       "      <th>773</th>\n",
       "      <td>NaN</td>\n",
       "      <td>7.2250</td>\n",
       "      <td>NaN</td>\n",
       "    </tr>\n",
       "    <tr>\n",
       "      <th>25</th>\n",
       "      <td>38.0</td>\n",
       "      <td>31.3875</td>\n",
       "      <td>38.0</td>\n",
       "    </tr>\n",
       "    <tr>\n",
       "      <th>84</th>\n",
       "      <td>17.0</td>\n",
       "      <td>10.5000</td>\n",
       "      <td>17.0</td>\n",
       "    </tr>\n",
       "    <tr>\n",
       "      <th>10</th>\n",
       "      <td>4.0</td>\n",
       "      <td>16.7000</td>\n",
       "      <td>4.0</td>\n",
       "    </tr>\n",
       "  </tbody>\n",
       "</table>\n",
       "<p>179 rows × 3 columns</p>\n",
       "</div>"
      ],
      "text/plain": [
       "      Age     Fare  ageI\n",
       "709   NaN  15.2458   NaN\n",
       "439  31.0  10.5000  31.0\n",
       "840  20.0   7.9250  20.0\n",
       "720   6.0  33.0000   6.0\n",
       "39   14.0  11.2417  14.0\n",
       "..    ...      ...   ...\n",
       "433  17.0   7.1250  17.0\n",
       "773   NaN   7.2250   NaN\n",
       "25   38.0  31.3875  38.0\n",
       "84   17.0  10.5000  17.0\n",
       "10    4.0  16.7000   4.0\n",
       "\n",
       "[179 rows x 3 columns]"
      ]
     },
     "execution_count": 75,
     "metadata": {},
     "output_type": "execute_result"
    }
   ],
   "source": [
    "xtest1"
   ]
  },
  {
   "cell_type": "markdown",
   "id": "056f178c",
   "metadata": {},
   "source": [
    "pick all null values from ageI and fill this with random values from original age column"
   ]
  },
  {
   "cell_type": "code",
   "execution_count": 76,
   "id": "2dfde32b",
   "metadata": {},
   "outputs": [
    {
     "data": {
      "text/plain": [
       "Age     140\n",
       "Fare      0\n",
       "ageI    140\n",
       "dtype: int64"
      ]
     },
     "execution_count": 76,
     "metadata": {},
     "output_type": "execute_result"
    }
   ],
   "source": [
    "xtrain1.isnull().sum()"
   ]
  },
  {
   "cell_type": "code",
   "execution_count": 77,
   "id": "c068a4fc",
   "metadata": {},
   "outputs": [
    {
     "data": {
      "text/plain": [
       "Age     140\n",
       "Fare      0\n",
       "ageI    140\n",
       "dtype: int64"
      ]
     },
     "execution_count": 77,
     "metadata": {},
     "output_type": "execute_result"
    }
   ],
   "source": [
    "xtrain1.isnull().sum()"
   ]
  },
  {
   "cell_type": "code",
   "execution_count": 78,
   "id": "132b887b",
   "metadata": {},
   "outputs": [
    {
     "data": {
      "text/plain": [
       "29    NaN\n",
       "55    NaN\n",
       "533   NaN\n",
       "495   NaN\n",
       "468   NaN\n",
       "       ..\n",
       "330   NaN\n",
       "214   NaN\n",
       "466   NaN\n",
       "121   NaN\n",
       "270   NaN\n",
       "Name: ageI, Length: 140, dtype: float64"
      ]
     },
     "execution_count": 78,
     "metadata": {},
     "output_type": "execute_result"
    }
   ],
   "source": [
    "xtrain1[xtrain1['Age'].isnull()]['ageI']"
   ]
  },
  {
   "cell_type": "code",
   "execution_count": 79,
   "id": "80b6a551",
   "metadata": {},
   "outputs": [
    {
     "data": {
      "text/plain": [
       "array([ 2.  , 15.  , 26.  , 36.  , 35.  , 39.  , 42.  , 28.  ,  0.75,\n",
       "       19.  , 31.  , 18.  ,  2.  , 55.5 , 16.  , 50.  , 32.5 , 32.  ,\n",
       "       38.  , 30.  , 21.  , 30.  , 22.  , 18.  ,  5.  , 33.  , 20.  ,\n",
       "       24.  , 42.  , 19.  , 45.  , 54.  , 45.  , 49.  , 21.  , 18.  ,\n",
       "       17.  , 27.  , 21.  , 23.  , 24.  , 36.  , 26.  , 26.  , 24.  ,\n",
       "       18.  ,  2.  , 54.  ,  8.  , 62.  , 25.  , 30.  , 48.  , 28.  ,\n",
       "       31.  , 27.  , 22.  , 61.  , 50.  , 21.  ,  1.  ,  2.  , 21.  ,\n",
       "       18.  , 36.  ,  2.  , 45.  , 24.  , 31.  , 50.  , 34.  , 33.  ,\n",
       "       24.  , 51.  , 33.  , 54.  , 22.  ,  7.  , 19.  , 17.  , 16.  ,\n",
       "       38.  , 33.  , 35.  , 30.  , 34.  , 41.  , 40.5 , 23.  ,  4.  ,\n",
       "       21.  , 25.  , 55.  , 26.  , 28.  , 25.  , 19.  , 45.  , 32.  ,\n",
       "        4.  , 21.  , 50.  , 24.  , 25.  , 25.  , 24.  , 23.  ,  1.  ,\n",
       "       46.  , 31.  , 29.  ,  0.83, 29.  , 46.  , 36.  , 41.  , 34.  ,\n",
       "       54.  , 19.  , 40.5 , 29.  , 34.  ,  0.92, 52.  , 28.  , 45.  ,\n",
       "       44.  , 29.  , 63.  , 22.  , 28.  , 62.  ,  4.  , 26.  , 27.  ,\n",
       "       27.  , 16.  , 17.  , 19.  , 34.  ])"
      ]
     },
     "execution_count": 79,
     "metadata": {},
     "output_type": "execute_result"
    }
   ],
   "source": [
    "xtrain1.dropna()['Age'].sample(xtrain1['Age'].isnull().sum()).values"
   ]
  },
  {
   "cell_type": "code",
   "execution_count": 80,
   "id": "d18a007e",
   "metadata": {},
   "outputs": [],
   "source": [
    "xtrain1['ageI'][xtrain1['Age'].isnull()] = xtrain1.dropna()['Age'].sample(xtrain1['Age'].isnull().sum()).values\n",
    "xtest1['ageI'][xtest1['Age'].isnull()] = xtest1['Age'].dropna().sample(xtest1['Age'].isnull().sum()).values"
   ]
  },
  {
   "cell_type": "markdown",
   "id": "fc5eccac",
   "metadata": {},
   "source": [
    "xtrain1[xtrain1['Age'].isnull()]['ageI'] = xtrain1.dropna()\n",
    "['Age'].sample(xtrain1['Age'].isnull().sum()).values\n",
    "\n",
    "xtrain1[xtrain1['Age'].isnull()] - creates a new DataFrame consisting of rows where Age is null.\n",
    "\n",
    "['ageI'] then selects the 'ageI' column from this new DataFrame.\n",
    "\n",
    "so this format did not update the xtrain1's ageI column's nan values when we tried to."
   ]
  },
  {
   "cell_type": "code",
   "execution_count": 81,
   "id": "903fad42",
   "metadata": {},
   "outputs": [
    {
     "data": {
      "text/html": [
       "<div>\n",
       "<style scoped>\n",
       "    .dataframe tbody tr th:only-of-type {\n",
       "        vertical-align: middle;\n",
       "    }\n",
       "\n",
       "    .dataframe tbody tr th {\n",
       "        vertical-align: top;\n",
       "    }\n",
       "\n",
       "    .dataframe thead th {\n",
       "        text-align: right;\n",
       "    }\n",
       "</style>\n",
       "<table border=\"1\" class=\"dataframe\">\n",
       "  <thead>\n",
       "    <tr style=\"text-align: right;\">\n",
       "      <th></th>\n",
       "      <th>Age</th>\n",
       "      <th>Fare</th>\n",
       "      <th>ageI</th>\n",
       "    </tr>\n",
       "  </thead>\n",
       "  <tbody>\n",
       "    <tr>\n",
       "      <th>106</th>\n",
       "      <td>21.0</td>\n",
       "      <td>7.6500</td>\n",
       "      <td>21.0</td>\n",
       "    </tr>\n",
       "    <tr>\n",
       "      <th>270</th>\n",
       "      <td>NaN</td>\n",
       "      <td>31.0000</td>\n",
       "      <td>28.0</td>\n",
       "    </tr>\n",
       "    <tr>\n",
       "      <th>860</th>\n",
       "      <td>41.0</td>\n",
       "      <td>14.1083</td>\n",
       "      <td>41.0</td>\n",
       "    </tr>\n",
       "    <tr>\n",
       "      <th>435</th>\n",
       "      <td>14.0</td>\n",
       "      <td>120.0000</td>\n",
       "      <td>14.0</td>\n",
       "    </tr>\n",
       "    <tr>\n",
       "      <th>102</th>\n",
       "      <td>21.0</td>\n",
       "      <td>77.2875</td>\n",
       "      <td>21.0</td>\n",
       "    </tr>\n",
       "  </tbody>\n",
       "</table>\n",
       "</div>"
      ],
      "text/plain": [
       "      Age      Fare  ageI\n",
       "106  21.0    7.6500  21.0\n",
       "270   NaN   31.0000  28.0\n",
       "860  41.0   14.1083  41.0\n",
       "435  14.0  120.0000  14.0\n",
       "102  21.0   77.2875  21.0"
      ]
     },
     "execution_count": 81,
     "metadata": {},
     "output_type": "execute_result"
    }
   ],
   "source": [
    "xtrain1.tail()"
   ]
  },
  {
   "cell_type": "code",
   "execution_count": 82,
   "id": "bef4d65c",
   "metadata": {},
   "outputs": [
    {
     "data": {
      "text/html": [
       "<div>\n",
       "<style scoped>\n",
       "    .dataframe tbody tr th:only-of-type {\n",
       "        vertical-align: middle;\n",
       "    }\n",
       "\n",
       "    .dataframe tbody tr th {\n",
       "        vertical-align: top;\n",
       "    }\n",
       "\n",
       "    .dataframe thead th {\n",
       "        text-align: right;\n",
       "    }\n",
       "</style>\n",
       "<table border=\"1\" class=\"dataframe\">\n",
       "  <thead>\n",
       "    <tr style=\"text-align: right;\">\n",
       "      <th></th>\n",
       "      <th>Age</th>\n",
       "      <th>Fare</th>\n",
       "      <th>ageI</th>\n",
       "    </tr>\n",
       "  </thead>\n",
       "  <tbody>\n",
       "    <tr>\n",
       "      <th>709</th>\n",
       "      <td>NaN</td>\n",
       "      <td>15.2458</td>\n",
       "      <td>28.0</td>\n",
       "    </tr>\n",
       "    <tr>\n",
       "      <th>439</th>\n",
       "      <td>31.0</td>\n",
       "      <td>10.5000</td>\n",
       "      <td>31.0</td>\n",
       "    </tr>\n",
       "    <tr>\n",
       "      <th>840</th>\n",
       "      <td>20.0</td>\n",
       "      <td>7.9250</td>\n",
       "      <td>20.0</td>\n",
       "    </tr>\n",
       "    <tr>\n",
       "      <th>720</th>\n",
       "      <td>6.0</td>\n",
       "      <td>33.0000</td>\n",
       "      <td>6.0</td>\n",
       "    </tr>\n",
       "    <tr>\n",
       "      <th>39</th>\n",
       "      <td>14.0</td>\n",
       "      <td>11.2417</td>\n",
       "      <td>14.0</td>\n",
       "    </tr>\n",
       "    <tr>\n",
       "      <th>...</th>\n",
       "      <td>...</td>\n",
       "      <td>...</td>\n",
       "      <td>...</td>\n",
       "    </tr>\n",
       "    <tr>\n",
       "      <th>433</th>\n",
       "      <td>17.0</td>\n",
       "      <td>7.1250</td>\n",
       "      <td>17.0</td>\n",
       "    </tr>\n",
       "    <tr>\n",
       "      <th>773</th>\n",
       "      <td>NaN</td>\n",
       "      <td>7.2250</td>\n",
       "      <td>66.0</td>\n",
       "    </tr>\n",
       "    <tr>\n",
       "      <th>25</th>\n",
       "      <td>38.0</td>\n",
       "      <td>31.3875</td>\n",
       "      <td>38.0</td>\n",
       "    </tr>\n",
       "    <tr>\n",
       "      <th>84</th>\n",
       "      <td>17.0</td>\n",
       "      <td>10.5000</td>\n",
       "      <td>17.0</td>\n",
       "    </tr>\n",
       "    <tr>\n",
       "      <th>10</th>\n",
       "      <td>4.0</td>\n",
       "      <td>16.7000</td>\n",
       "      <td>4.0</td>\n",
       "    </tr>\n",
       "  </tbody>\n",
       "</table>\n",
       "<p>179 rows × 3 columns</p>\n",
       "</div>"
      ],
      "text/plain": [
       "      Age     Fare  ageI\n",
       "709   NaN  15.2458  28.0\n",
       "439  31.0  10.5000  31.0\n",
       "840  20.0   7.9250  20.0\n",
       "720   6.0  33.0000   6.0\n",
       "39   14.0  11.2417  14.0\n",
       "..    ...      ...   ...\n",
       "433  17.0   7.1250  17.0\n",
       "773   NaN   7.2250  66.0\n",
       "25   38.0  31.3875  38.0\n",
       "84   17.0  10.5000  17.0\n",
       "10    4.0  16.7000   4.0\n",
       "\n",
       "[179 rows x 3 columns]"
      ]
     },
     "execution_count": 82,
     "metadata": {},
     "output_type": "execute_result"
    }
   ],
   "source": [
    "xtest1"
   ]
  },
  {
   "cell_type": "markdown",
   "id": "70fe9c05",
   "metadata": {},
   "source": [
    "`comparing the two distributions`"
   ]
  },
  {
   "cell_type": "code",
   "execution_count": 83,
   "id": "98969d73",
   "metadata": {},
   "outputs": [
    {
     "name": "stderr",
     "output_type": "stream",
     "text": [
      "E:\\data_science_apps\\lib\\site-packages\\seaborn\\distributions.py:2619: FutureWarning: `distplot` is a deprecated function and will be removed in a future version. Please adapt your code to use either `displot` (a figure-level function with similar flexibility) or `kdeplot` (an axes-level function for kernel density plots).\n",
      "  warnings.warn(msg, FutureWarning)\n",
      "E:\\data_science_apps\\lib\\site-packages\\seaborn\\distributions.py:2619: FutureWarning: `distplot` is a deprecated function and will be removed in a future version. Please adapt your code to use either `displot` (a figure-level function with similar flexibility) or `kdeplot` (an axes-level function for kernel density plots).\n",
      "  warnings.warn(msg, FutureWarning)\n"
     ]
    },
    {
     "data": {
      "image/png": "[encoded data removed]",
      "text/plain": [
       "<Figure size 640x480 with 1 Axes>"
      ]
     },
     "metadata": {},
     "output_type": "display_data"
    }
   ],
   "source": [
    "sns.distplot(xtrain1['ageI'], hist = False, label = \"imputed\")\n",
    "sns.distplot(xtrain1['Age'], hist = False, label = \"original\")\n",
    "\n",
    "plt.legend()\n",
    "plt.show()"
   ]
  },
  {
   "cell_type": "code",
   "execution_count": 84,
   "id": "67ad1afd",
   "metadata": {},
   "outputs": [],
   "source": [
    "# we can see there is not much change in distribution"
   ]
  },
  {
   "cell_type": "code",
   "execution_count": 85,
   "id": "bcd5c1f6",
   "metadata": {},
   "outputs": [
    {
     "data": {
      "text/html": [
       "<div>\n",
       "<style scoped>\n",
       "    .dataframe tbody tr th:only-of-type {\n",
       "        vertical-align: middle;\n",
       "    }\n",
       "\n",
       "    .dataframe tbody tr th {\n",
       "        vertical-align: top;\n",
       "    }\n",
       "\n",
       "    .dataframe thead th {\n",
       "        text-align: right;\n",
       "    }\n",
       "</style>\n",
       "<table border=\"1\" class=\"dataframe\">\n",
       "  <thead>\n",
       "    <tr style=\"text-align: right;\">\n",
       "      <th></th>\n",
       "      <th>Age</th>\n",
       "      <th>Fare</th>\n",
       "      <th>ageI</th>\n",
       "    </tr>\n",
       "  </thead>\n",
       "  <tbody>\n",
       "    <tr>\n",
       "      <th>Age</th>\n",
       "      <td>210.251707</td>\n",
       "      <td>71.580633</td>\n",
       "      <td>210.251707</td>\n",
       "    </tr>\n",
       "    <tr>\n",
       "      <th>Fare</th>\n",
       "      <td>71.580633</td>\n",
       "      <td>2700.831981</td>\n",
       "      <td>55.150830</td>\n",
       "    </tr>\n",
       "    <tr>\n",
       "      <th>ageI</th>\n",
       "      <td>210.251707</td>\n",
       "      <td>55.150830</td>\n",
       "      <td>212.488556</td>\n",
       "    </tr>\n",
       "  </tbody>\n",
       "</table>\n",
       "</div>"
      ],
      "text/plain": [
       "             Age         Fare        ageI\n",
       "Age   210.251707    71.580633  210.251707\n",
       "Fare   71.580633  2700.831981   55.150830\n",
       "ageI  210.251707    55.150830  212.488556"
      ]
     },
     "execution_count": 85,
     "metadata": {},
     "output_type": "execute_result"
    }
   ],
   "source": [
    "# covariance changes \n",
    "xtrain1.cov()"
   ]
  },
  {
   "cell_type": "code",
   "execution_count": 86,
   "id": "a99f5391",
   "metadata": {},
   "outputs": [
    {
     "data": {
      "text/plain": [
       "(212.48855616871316, 210.2517072477438)"
      ]
     },
     "execution_count": 86,
     "metadata": {},
     "output_type": "execute_result"
    }
   ],
   "source": [
    "# variance changes a little\n",
    "xtrain1['ageI'].var(), xtrain1['Age'].var()"
   ]
  },
  {
   "cell_type": "code",
   "execution_count": 87,
   "id": "e03d15ff",
   "metadata": {},
   "outputs": [
    {
     "data": {
      "text/plain": [
       "<AxesSubplot:>"
      ]
     },
     "execution_count": 87,
     "metadata": {},
     "output_type": "execute_result"
    },
    {
     "data": {
      "image/png": "[encoded data removed]",
      "text/plain": [
       "<Figure size 640x480 with 1 Axes>"
      ]
     },
     "metadata": {},
     "output_type": "display_data"
    }
   ],
   "source": [
    "# outliers almost remain the same\n",
    "xtrain1.drop(['Fare'], axis = 1).boxplot()"
   ]
  },
  {
   "cell_type": "markdown",
   "id": "75fce274",
   "metadata": {},
   "source": [
    "### Note : \n",
    "In production code , when a user gives a value for fare and missing value for age, then our random no. generator that we achieved using the sample method , may generate different values of age for the same  fare given at different times.\n",
    "\n",
    "This can result in different predictions each time\n",
    "\n",
    "So, if we want to generate the same age value for the same fare value we can use random state parameter like shown in below cell."
   ]
  },
  {
   "cell_type": "markdown",
   "id": "80cf39a4",
   "metadata": {},
   "source": [
    "#### chatgpt explained this above statement thus :\n",
    "random_state_value = 42  # You can choose any integer value\n",
    "xtrain1.loc[xtrain1['Age'].isnull(), 'ageI'] = xtrain1.dropna()['Age'].sample(\n",
    "    xtrain1['Age'].isnull().sum(),\n",
    "    random_state=random_state_value\n",
    ").values\n"
   ]
  },
  {
   "cell_type": "markdown",
   "id": "b66b03ec",
   "metadata": {},
   "source": [
    "random_state: This parameter is used to seed the random number generator. By setting it to a specific integer (e.g., 42), you ensure that the random sampling is reproducible.\n",
    "Every time you run the code with the same random_state, the same values will be generated for filling in the missing Age values."
   ]
  },
  {
   "cell_type": "code",
   "execution_count": 88,
   "id": "29b0ae1f",
   "metadata": {},
   "outputs": [
    {
     "data": {
      "text/plain": [
       "636    32.0\n",
       "Name: Age, dtype: float64"
      ]
     },
     "execution_count": 88,
     "metadata": {},
     "output_type": "execute_result"
    }
   ],
   "source": [
    "xtrain1['Age'].dropna().sample(1,random_state = int(xtrain1['Fare'][0]))"
   ]
  },
  {
   "cell_type": "markdown",
   "id": "ce3305ed",
   "metadata": {},
   "source": [
    "this below code was suggested by chatgpt to do the above task"
   ]
  },
  {
   "cell_type": "markdown",
   "id": "f5e1ea37",
   "metadata": {},
   "source": [
    "import pandas as pd\n",
    "import numpy as np\n",
    "\n",
    "#### Sample DataFrame\n",
    "data = {'Age': [22, np.nan, 24, np.nan, 30], 'Fare': [7.25, 71.83, 8.05, 51.86, 21.07]}\n",
    "xtrain1 = pd.DataFrame(data)\n",
    "\n",
    "#### Create 'ageI' column as a copy of 'Age'\n",
    "xtrain1['ageI'] = xtrain1['Age']\n",
    "\n",
    "#### Function to fill missing Age values based on Fare\n",
    "def fill_missing_age(row, df):\n",
    "    if pd.isnull(row['Age']):\n",
    "        random_state_value = int(row['Fare'])  # Convert Fare to integer for seeding\n",
    "        return df['Age'].dropna().sample(1, random_state=random_state_value).values[0]\n",
    "    else:\n",
    "        return row['Age']\n",
    "\n",
    "#### Apply the function to each row\n",
    "xtrain1['ageI'] = xtrain1.apply(lambda row: fill_missing_age(row, xtrain1), axis=1)\n",
    "\n",
    "print(xtrain1)\n"
   ]
  },
  {
   "cell_type": "markdown",
   "id": "5c4715ee",
   "metadata": {},
   "source": [
    "### Imputing categorical column with random data"
   ]
  },
  {
   "cell_type": "code",
   "execution_count": 89,
   "id": "c3e6c852",
   "metadata": {},
   "outputs": [],
   "source": [
    "df2 = pd.read_csv(r\"E:\\Jupyter Notebooks\\catMissingdata.csv\", usecols = ['GarageQual','FireplaceQu', 'SalePrice'])"
   ]
  },
  {
   "cell_type": "code",
   "execution_count": 90,
   "id": "f5ec4169",
   "metadata": {},
   "outputs": [
    {
     "data": {
      "text/html": [
       "<div>\n",
       "<style scoped>\n",
       "    .dataframe tbody tr th:only-of-type {\n",
       "        vertical-align: middle;\n",
       "    }\n",
       "\n",
       "    .dataframe tbody tr th {\n",
       "        vertical-align: top;\n",
       "    }\n",
       "\n",
       "    .dataframe thead th {\n",
       "        text-align: right;\n",
       "    }\n",
       "</style>\n",
       "<table border=\"1\" class=\"dataframe\">\n",
       "  <thead>\n",
       "    <tr style=\"text-align: right;\">\n",
       "      <th></th>\n",
       "      <th>FireplaceQu</th>\n",
       "      <th>GarageQual</th>\n",
       "      <th>SalePrice</th>\n",
       "    </tr>\n",
       "  </thead>\n",
       "  <tbody>\n",
       "    <tr>\n",
       "      <th>684</th>\n",
       "      <td>NaN</td>\n",
       "      <td>TA</td>\n",
       "      <td>221000</td>\n",
       "    </tr>\n",
       "  </tbody>\n",
       "</table>\n",
       "</div>"
      ],
      "text/plain": [
       "    FireplaceQu GarageQual  SalePrice\n",
       "684         NaN         TA     221000"
      ]
     },
     "execution_count": 90,
     "metadata": {},
     "output_type": "execute_result"
    }
   ],
   "source": [
    "df2.sample()"
   ]
  },
  {
   "cell_type": "code",
   "execution_count": 97,
   "id": "05130cb3",
   "metadata": {},
   "outputs": [
    {
     "data": {
      "text/plain": [
       "FireplaceQu    47.260274\n",
       "GarageQual      5.547945\n",
       "SalePrice       0.000000\n",
       "dtype: float64"
      ]
     },
     "execution_count": 97,
     "metadata": {},
     "output_type": "execute_result"
    }
   ],
   "source": [
    "df2.isnull().mean()*100"
   ]
  },
  {
   "cell_type": "code",
   "execution_count": 117,
   "id": "8815d6af",
   "metadata": {},
   "outputs": [],
   "source": [
    "x = df2 # keeping saleprice as well in this for use later during plotting\n",
    "y = df2['SalePrice'] "
   ]
  },
  {
   "cell_type": "code",
   "execution_count": 118,
   "id": "d5cacb07",
   "metadata": {},
   "outputs": [],
   "source": [
    "xtrain2, xtest2, ytrain2, ytest2 = train_test_split(x,y, \n",
    "                                                   test_size = 0.2, random_state = 42)"
   ]
  },
  {
   "cell_type": "code",
   "execution_count": 119,
   "id": "cef8f4fe",
   "metadata": {},
   "outputs": [],
   "source": [
    "# remember we have to do same things for xtest as well\n",
    "xtrain2['GarageQualI'] = xtrain2['GarageQual']\n",
    "xtrain2['FireplaceQuI'] = xtrain2['FireplaceQu']"
   ]
  },
  {
   "cell_type": "code",
   "execution_count": 120,
   "id": "91194ed5",
   "metadata": {},
   "outputs": [],
   "source": [
    "xtrain2.loc[xtrain2['GarageQual'].isnull(), 'GarageQualI'] = xtrain2['GarageQual'].dropna().sample(xtrain2['GarageQual'].isnull().sum()).values\n",
    "xtrain2.loc[xtrain2['FireplaceQu'].isnull(), 'FireplaceQuI'] = xtrain2['FireplaceQu'].dropna().sample(xtrain2['FireplaceQu'].isnull().sum()).values"
   ]
  },
  {
   "cell_type": "code",
   "execution_count": 121,
   "id": "1e3600eb",
   "metadata": {},
   "outputs": [
    {
     "data": {
      "text/html": [
       "<div>\n",
       "<style scoped>\n",
       "    .dataframe tbody tr th:only-of-type {\n",
       "        vertical-align: middle;\n",
       "    }\n",
       "\n",
       "    .dataframe tbody tr th {\n",
       "        vertical-align: top;\n",
       "    }\n",
       "\n",
       "    .dataframe thead th {\n",
       "        text-align: right;\n",
       "    }\n",
       "</style>\n",
       "<table border=\"1\" class=\"dataframe\">\n",
       "  <thead>\n",
       "    <tr style=\"text-align: right;\">\n",
       "      <th></th>\n",
       "      <th>FireplaceQu</th>\n",
       "      <th>GarageQual</th>\n",
       "      <th>SalePrice</th>\n",
       "      <th>GarageQualI</th>\n",
       "      <th>FireplaceQuI</th>\n",
       "    </tr>\n",
       "  </thead>\n",
       "  <tbody>\n",
       "    <tr>\n",
       "      <th>254</th>\n",
       "      <td>NaN</td>\n",
       "      <td>TA</td>\n",
       "      <td>145000</td>\n",
       "      <td>TA</td>\n",
       "      <td>Gd</td>\n",
       "    </tr>\n",
       "    <tr>\n",
       "      <th>1066</th>\n",
       "      <td>TA</td>\n",
       "      <td>TA</td>\n",
       "      <td>178000</td>\n",
       "      <td>TA</td>\n",
       "      <td>TA</td>\n",
       "    </tr>\n",
       "    <tr>\n",
       "      <th>638</th>\n",
       "      <td>NaN</td>\n",
       "      <td>NaN</td>\n",
       "      <td>85000</td>\n",
       "      <td>TA</td>\n",
       "      <td>TA</td>\n",
       "    </tr>\n",
       "    <tr>\n",
       "      <th>799</th>\n",
       "      <td>TA</td>\n",
       "      <td>TA</td>\n",
       "      <td>175000</td>\n",
       "      <td>TA</td>\n",
       "      <td>TA</td>\n",
       "    </tr>\n",
       "    <tr>\n",
       "      <th>380</th>\n",
       "      <td>Gd</td>\n",
       "      <td>TA</td>\n",
       "      <td>127000</td>\n",
       "      <td>TA</td>\n",
       "      <td>Gd</td>\n",
       "    </tr>\n",
       "    <tr>\n",
       "      <th>...</th>\n",
       "      <td>...</td>\n",
       "      <td>...</td>\n",
       "      <td>...</td>\n",
       "      <td>...</td>\n",
       "      <td>...</td>\n",
       "    </tr>\n",
       "    <tr>\n",
       "      <th>1095</th>\n",
       "      <td>Gd</td>\n",
       "      <td>TA</td>\n",
       "      <td>176432</td>\n",
       "      <td>TA</td>\n",
       "      <td>Gd</td>\n",
       "    </tr>\n",
       "    <tr>\n",
       "      <th>1130</th>\n",
       "      <td>TA</td>\n",
       "      <td>TA</td>\n",
       "      <td>135000</td>\n",
       "      <td>TA</td>\n",
       "      <td>TA</td>\n",
       "    </tr>\n",
       "    <tr>\n",
       "      <th>1294</th>\n",
       "      <td>NaN</td>\n",
       "      <td>TA</td>\n",
       "      <td>115000</td>\n",
       "      <td>TA</td>\n",
       "      <td>Gd</td>\n",
       "    </tr>\n",
       "    <tr>\n",
       "      <th>860</th>\n",
       "      <td>Gd</td>\n",
       "      <td>TA</td>\n",
       "      <td>189950</td>\n",
       "      <td>TA</td>\n",
       "      <td>Gd</td>\n",
       "    </tr>\n",
       "    <tr>\n",
       "      <th>1126</th>\n",
       "      <td>TA</td>\n",
       "      <td>TA</td>\n",
       "      <td>174000</td>\n",
       "      <td>TA</td>\n",
       "      <td>TA</td>\n",
       "    </tr>\n",
       "  </tbody>\n",
       "</table>\n",
       "<p>1168 rows × 5 columns</p>\n",
       "</div>"
      ],
      "text/plain": [
       "     FireplaceQu GarageQual  SalePrice GarageQualI FireplaceQuI\n",
       "254          NaN         TA     145000          TA           Gd\n",
       "1066          TA         TA     178000          TA           TA\n",
       "638          NaN        NaN      85000          TA           TA\n",
       "799           TA         TA     175000          TA           TA\n",
       "380           Gd         TA     127000          TA           Gd\n",
       "...          ...        ...        ...         ...          ...\n",
       "1095          Gd         TA     176432          TA           Gd\n",
       "1130          TA         TA     135000          TA           TA\n",
       "1294         NaN         TA     115000          TA           Gd\n",
       "860           Gd         TA     189950          TA           Gd\n",
       "1126          TA         TA     174000          TA           TA\n",
       "\n",
       "[1168 rows x 5 columns]"
      ]
     },
     "execution_count": 121,
     "metadata": {},
     "output_type": "execute_result"
    }
   ],
   "source": [
    "xtrain2"
   ]
  },
  {
   "cell_type": "markdown",
   "id": "0eb7d237",
   "metadata": {},
   "source": [
    "for catrgorical columns we check if the distribution of the values in each of its categories has sustained even after imputation or not \n",
    "\n",
    "to judge whether such an imputation technique was worth doing"
   ]
  },
  {
   "cell_type": "code",
   "execution_count": 122,
   "id": "f8a82ae5",
   "metadata": {},
   "outputs": [
    {
     "data": {
      "text/html": [
       "<div>\n",
       "<style scoped>\n",
       "    .dataframe tbody tr th:only-of-type {\n",
       "        vertical-align: middle;\n",
       "    }\n",
       "\n",
       "    .dataframe tbody tr th {\n",
       "        vertical-align: top;\n",
       "    }\n",
       "\n",
       "    .dataframe thead th {\n",
       "        text-align: right;\n",
       "    }\n",
       "</style>\n",
       "<table border=\"1\" class=\"dataframe\">\n",
       "  <thead>\n",
       "    <tr style=\"text-align: right;\">\n",
       "      <th></th>\n",
       "      <th>FireplaceQuI</th>\n",
       "      <th>FireplaceQu</th>\n",
       "    </tr>\n",
       "  </thead>\n",
       "  <tbody>\n",
       "    <tr>\n",
       "      <th>Gd</th>\n",
       "      <td>0.487158</td>\n",
       "      <td>0.261130</td>\n",
       "    </tr>\n",
       "    <tr>\n",
       "      <th>TA</th>\n",
       "      <td>0.408390</td>\n",
       "      <td>0.215753</td>\n",
       "    </tr>\n",
       "    <tr>\n",
       "      <th>Fa</th>\n",
       "      <td>0.046233</td>\n",
       "      <td>0.023116</td>\n",
       "    </tr>\n",
       "    <tr>\n",
       "      <th>Ex</th>\n",
       "      <td>0.031678</td>\n",
       "      <td>0.017979</td>\n",
       "    </tr>\n",
       "    <tr>\n",
       "      <th>Po</th>\n",
       "      <td>0.026541</td>\n",
       "      <td>0.013699</td>\n",
       "    </tr>\n",
       "  </tbody>\n",
       "</table>\n",
       "</div>"
      ],
      "text/plain": [
       "    FireplaceQuI  FireplaceQu\n",
       "Gd      0.487158     0.261130\n",
       "TA      0.408390     0.215753\n",
       "Fa      0.046233     0.023116\n",
       "Ex      0.031678     0.017979\n",
       "Po      0.026541     0.013699"
      ]
     },
     "execution_count": 122,
     "metadata": {},
     "output_type": "execute_result"
    }
   ],
   "source": [
    "pd.concat([xtrain2['FireplaceQuI'].value_counts()/len(xtrain2['FireplaceQu']),\n",
    "           xtrain2['FireplaceQu'].value_counts()/len(xtrain2['FireplaceQu'])], axis =1 )"
   ]
  },
  {
   "cell_type": "code",
   "execution_count": 123,
   "id": "0bef547b",
   "metadata": {},
   "outputs": [
    {
     "data": {
      "text/html": [
       "<div>\n",
       "<style scoped>\n",
       "    .dataframe tbody tr th:only-of-type {\n",
       "        vertical-align: middle;\n",
       "    }\n",
       "\n",
       "    .dataframe tbody tr th {\n",
       "        vertical-align: top;\n",
       "    }\n",
       "\n",
       "    .dataframe thead th {\n",
       "        text-align: right;\n",
       "    }\n",
       "</style>\n",
       "<table border=\"1\" class=\"dataframe\">\n",
       "  <thead>\n",
       "    <tr style=\"text-align: right;\">\n",
       "      <th></th>\n",
       "      <th>GarageQual</th>\n",
       "      <th>GarageQualI</th>\n",
       "    </tr>\n",
       "  </thead>\n",
       "  <tbody>\n",
       "    <tr>\n",
       "      <th>TA</th>\n",
       "      <td>0.898973</td>\n",
       "      <td>0.951199</td>\n",
       "    </tr>\n",
       "    <tr>\n",
       "      <th>Fa</th>\n",
       "      <td>0.030822</td>\n",
       "      <td>0.032534</td>\n",
       "    </tr>\n",
       "    <tr>\n",
       "      <th>Gd</th>\n",
       "      <td>0.011130</td>\n",
       "      <td>0.011986</td>\n",
       "    </tr>\n",
       "    <tr>\n",
       "      <th>Ex</th>\n",
       "      <td>0.002568</td>\n",
       "      <td>0.002568</td>\n",
       "    </tr>\n",
       "    <tr>\n",
       "      <th>Po</th>\n",
       "      <td>0.001712</td>\n",
       "      <td>0.001712</td>\n",
       "    </tr>\n",
       "  </tbody>\n",
       "</table>\n",
       "</div>"
      ],
      "text/plain": [
       "    GarageQual  GarageQualI\n",
       "TA    0.898973     0.951199\n",
       "Fa    0.030822     0.032534\n",
       "Gd    0.011130     0.011986\n",
       "Ex    0.002568     0.002568\n",
       "Po    0.001712     0.001712"
      ]
     },
     "execution_count": 123,
     "metadata": {},
     "output_type": "execute_result"
    }
   ],
   "source": [
    "pd.concat([xtrain2['GarageQual'].value_counts()/len(xtrain2['GarageQual']), \n",
    "          xtrain2['GarageQualI'].value_counts()/len(xtrain2['GarageQual'])], axis=1)"
   ]
  },
  {
   "cell_type": "markdown",
   "id": "57ea740c",
   "metadata": {},
   "source": [
    "there is little change for each category for GarageQual\twhile there is a huge change for each category for FireplaceQu , thus we can't think of this imputation for the GarageQual column"
   ]
  },
  {
   "cell_type": "code",
   "execution_count": 124,
   "id": "98bc0a49",
   "metadata": {},
   "outputs": [
    {
     "data": {
      "text/html": [
       "<div>\n",
       "<style scoped>\n",
       "    .dataframe tbody tr th:only-of-type {\n",
       "        vertical-align: middle;\n",
       "    }\n",
       "\n",
       "    .dataframe tbody tr th {\n",
       "        vertical-align: top;\n",
       "    }\n",
       "\n",
       "    .dataframe thead th {\n",
       "        text-align: right;\n",
       "    }\n",
       "</style>\n",
       "<table border=\"1\" class=\"dataframe\">\n",
       "  <thead>\n",
       "    <tr style=\"text-align: right;\">\n",
       "      <th></th>\n",
       "      <th>FireplaceQu</th>\n",
       "      <th>GarageQual</th>\n",
       "      <th>SalePrice</th>\n",
       "      <th>GarageQualI</th>\n",
       "      <th>FireplaceQuI</th>\n",
       "    </tr>\n",
       "  </thead>\n",
       "  <tbody>\n",
       "    <tr>\n",
       "      <th>254</th>\n",
       "      <td>NaN</td>\n",
       "      <td>TA</td>\n",
       "      <td>145000</td>\n",
       "      <td>TA</td>\n",
       "      <td>Gd</td>\n",
       "    </tr>\n",
       "    <tr>\n",
       "      <th>1066</th>\n",
       "      <td>TA</td>\n",
       "      <td>TA</td>\n",
       "      <td>178000</td>\n",
       "      <td>TA</td>\n",
       "      <td>TA</td>\n",
       "    </tr>\n",
       "    <tr>\n",
       "      <th>638</th>\n",
       "      <td>NaN</td>\n",
       "      <td>NaN</td>\n",
       "      <td>85000</td>\n",
       "      <td>TA</td>\n",
       "      <td>TA</td>\n",
       "    </tr>\n",
       "    <tr>\n",
       "      <th>799</th>\n",
       "      <td>TA</td>\n",
       "      <td>TA</td>\n",
       "      <td>175000</td>\n",
       "      <td>TA</td>\n",
       "      <td>TA</td>\n",
       "    </tr>\n",
       "    <tr>\n",
       "      <th>380</th>\n",
       "      <td>Gd</td>\n",
       "      <td>TA</td>\n",
       "      <td>127000</td>\n",
       "      <td>TA</td>\n",
       "      <td>Gd</td>\n",
       "    </tr>\n",
       "    <tr>\n",
       "      <th>...</th>\n",
       "      <td>...</td>\n",
       "      <td>...</td>\n",
       "      <td>...</td>\n",
       "      <td>...</td>\n",
       "      <td>...</td>\n",
       "    </tr>\n",
       "    <tr>\n",
       "      <th>1095</th>\n",
       "      <td>Gd</td>\n",
       "      <td>TA</td>\n",
       "      <td>176432</td>\n",
       "      <td>TA</td>\n",
       "      <td>Gd</td>\n",
       "    </tr>\n",
       "    <tr>\n",
       "      <th>1130</th>\n",
       "      <td>TA</td>\n",
       "      <td>TA</td>\n",
       "      <td>135000</td>\n",
       "      <td>TA</td>\n",
       "      <td>TA</td>\n",
       "    </tr>\n",
       "    <tr>\n",
       "      <th>1294</th>\n",
       "      <td>NaN</td>\n",
       "      <td>TA</td>\n",
       "      <td>115000</td>\n",
       "      <td>TA</td>\n",
       "      <td>Gd</td>\n",
       "    </tr>\n",
       "    <tr>\n",
       "      <th>860</th>\n",
       "      <td>Gd</td>\n",
       "      <td>TA</td>\n",
       "      <td>189950</td>\n",
       "      <td>TA</td>\n",
       "      <td>Gd</td>\n",
       "    </tr>\n",
       "    <tr>\n",
       "      <th>1126</th>\n",
       "      <td>TA</td>\n",
       "      <td>TA</td>\n",
       "      <td>174000</td>\n",
       "      <td>TA</td>\n",
       "      <td>TA</td>\n",
       "    </tr>\n",
       "  </tbody>\n",
       "</table>\n",
       "<p>1168 rows × 5 columns</p>\n",
       "</div>"
      ],
      "text/plain": [
       "     FireplaceQu GarageQual  SalePrice GarageQualI FireplaceQuI\n",
       "254          NaN         TA     145000          TA           Gd\n",
       "1066          TA         TA     178000          TA           TA\n",
       "638          NaN        NaN      85000          TA           TA\n",
       "799           TA         TA     175000          TA           TA\n",
       "380           Gd         TA     127000          TA           Gd\n",
       "...          ...        ...        ...         ...          ...\n",
       "1095          Gd         TA     176432          TA           Gd\n",
       "1130          TA         TA     135000          TA           TA\n",
       "1294         NaN         TA     115000          TA           Gd\n",
       "860           Gd         TA     189950          TA           Gd\n",
       "1126          TA         TA     174000          TA           TA\n",
       "\n",
       "[1168 rows x 5 columns]"
      ]
     },
     "execution_count": 124,
     "metadata": {},
     "output_type": "execute_result"
    }
   ],
   "source": [
    "xtrain2"
   ]
  },
  {
   "cell_type": "code",
   "execution_count": 133,
   "id": "a54fae46",
   "metadata": {},
   "outputs": [
    {
     "data": {
      "text/plain": [
       "254     145000\n",
       "1066    178000\n",
       "799     175000\n",
       "380     127000\n",
       "303     149900\n",
       "         ...  \n",
       "1095    176432\n",
       "1130    135000\n",
       "1294    115000\n",
       "860     189950\n",
       "1126    174000\n",
       "Name: SalePrice, Length: 1050, dtype: int64"
      ]
     },
     "execution_count": 133,
     "metadata": {},
     "output_type": "execute_result"
    }
   ],
   "source": [
    "# distributions after random imputation\n",
    "# we can't plot the distribution of saleprice according to all the categories in a column\n",
    "# rather we would have to pick one category at a time, to plot the distribution of saleprice for that category\n",
    "\n",
    "xtrain2[xtrain2['GarageQual']=='TA']['SalePrice'] # this extracts only those values of saleprice \n",
    "# where the dataframe has this as the category value for the above column\n",
    "# so now we can plot the distribiuion or pdf of the saleprice column"
   ]
  },
  {
   "cell_type": "code",
   "execution_count": 136,
   "id": "b788a36c",
   "metadata": {},
   "outputs": [
    {
     "name": "stdout",
     "output_type": "stream",
     "text": [
      "nan\n",
      "TA\n",
      "Gd\n",
      "Fa\n",
      "Ex\n",
      "Po\n"
     ]
    }
   ],
   "source": [
    "# we can see the presence of nan as a category so we remove this to see the distribution in below cell\n",
    "for col in xtrain2.FireplaceQu.unique():\n",
    "    print(col)"
   ]
  },
  {
   "cell_type": "code",
   "execution_count": 143,
   "id": "28d0d967",
   "metadata": {},
   "outputs": [
    {
     "name": "stderr",
     "output_type": "stream",
     "text": [
      "E:\\data_science_apps\\lib\\site-packages\\seaborn\\distributions.py:2619: FutureWarning: `distplot` is a deprecated function and will be removed in a future version. Please adapt your code to use either `displot` (a figure-level function with similar flexibility) or `kdeplot` (an axes-level function for kernel density plots).\n",
      "  warnings.warn(msg, FutureWarning)\n",
      "E:\\data_science_apps\\lib\\site-packages\\seaborn\\distributions.py:2619: FutureWarning: `distplot` is a deprecated function and will be removed in a future version. Please adapt your code to use either `displot` (a figure-level function with similar flexibility) or `kdeplot` (an axes-level function for kernel density plots).\n",
      "  warnings.warn(msg, FutureWarning)\n",
      "E:\\data_science_apps\\lib\\site-packages\\seaborn\\distributions.py:2619: FutureWarning: `distplot` is a deprecated function and will be removed in a future version. Please adapt your code to use either `displot` (a figure-level function with similar flexibility) or `kdeplot` (an axes-level function for kernel density plots).\n",
      "  warnings.warn(msg, FutureWarning)\n",
      "E:\\data_science_apps\\lib\\site-packages\\seaborn\\distributions.py:2619: FutureWarning: `distplot` is a deprecated function and will be removed in a future version. Please adapt your code to use either `displot` (a figure-level function with similar flexibility) or `kdeplot` (an axes-level function for kernel density plots).\n",
      "  warnings.warn(msg, FutureWarning)\n",
      "E:\\data_science_apps\\lib\\site-packages\\seaborn\\distributions.py:2619: FutureWarning: `distplot` is a deprecated function and will be removed in a future version. Please adapt your code to use either `displot` (a figure-level function with similar flexibility) or `kdeplot` (an axes-level function for kernel density plots).\n",
      "  warnings.warn(msg, FutureWarning)\n"
     ]
    },
    {
     "data": {
      "image/png": "[encoded data removed]",
      "text/plain": [
       "<Figure size 640x480 with 1 Axes>"
      ]
     },
     "metadata": {},
     "output_type": "display_data"
    }
   ],
   "source": [
    "for cat in xtrain2.FireplaceQu.dropna().unique():\n",
    "    sns.distplot(xtrain2[xtrain2['FireplaceQu'] == cat]['SalePrice'], hist = False, label = cat)\n",
    "    plt.legend()\n",
    "    plt.title('FireplaceQu')"
   ]
  },
  {
   "cell_type": "code",
   "execution_count": 147,
   "id": "415dc299",
   "metadata": {},
   "outputs": [
    {
     "name": "stderr",
     "output_type": "stream",
     "text": [
      "E:\\data_science_apps\\lib\\site-packages\\seaborn\\distributions.py:2619: FutureWarning: `distplot` is a deprecated function and will be removed in a future version. Please adapt your code to use either `displot` (a figure-level function with similar flexibility) or `kdeplot` (an axes-level function for kernel density plots).\n",
      "  warnings.warn(msg, FutureWarning)\n",
      "E:\\data_science_apps\\lib\\site-packages\\seaborn\\distributions.py:2619: FutureWarning: `distplot` is a deprecated function and will be removed in a future version. Please adapt your code to use either `displot` (a figure-level function with similar flexibility) or `kdeplot` (an axes-level function for kernel density plots).\n",
      "  warnings.warn(msg, FutureWarning)\n",
      "E:\\data_science_apps\\lib\\site-packages\\seaborn\\distributions.py:2619: FutureWarning: `distplot` is a deprecated function and will be removed in a future version. Please adapt your code to use either `displot` (a figure-level function with similar flexibility) or `kdeplot` (an axes-level function for kernel density plots).\n",
      "  warnings.warn(msg, FutureWarning)\n",
      "E:\\data_science_apps\\lib\\site-packages\\seaborn\\distributions.py:2619: FutureWarning: `distplot` is a deprecated function and will be removed in a future version. Please adapt your code to use either `displot` (a figure-level function with similar flexibility) or `kdeplot` (an axes-level function for kernel density plots).\n",
      "  warnings.warn(msg, FutureWarning)\n",
      "E:\\data_science_apps\\lib\\site-packages\\seaborn\\distributions.py:2619: FutureWarning: `distplot` is a deprecated function and will be removed in a future version. Please adapt your code to use either `displot` (a figure-level function with similar flexibility) or `kdeplot` (an axes-level function for kernel density plots).\n",
      "  warnings.warn(msg, FutureWarning)\n"
     ]
    },
    {
     "data": {
      "image/png": "[encoded data removed]",
      "text/plain": [
       "<Figure size 640x480 with 1 Axes>"
      ]
     },
     "metadata": {},
     "output_type": "display_data"
    }
   ],
   "source": [
    "for cat in xtrain2.FireplaceQuI.unique():\n",
    "    sns.distplot(xtrain2[xtrain2['FireplaceQuI']==cat]['SalePrice'], hist = False, label = cat)\n",
    "    plt.legend()\n",
    "    plt.title('FireplaceQuI')"
   ]
  },
  {
   "cell_type": "code",
   "execution_count": 148,
   "id": "62bb4eef",
   "metadata": {},
   "outputs": [],
   "source": [
    "# category wise distributions have changed a lot , as we have observed above while normalizing the value_counts by dividing by len "
   ]
  },
  {
   "cell_type": "code",
   "execution_count": null,
   "id": "3e83b090",
   "metadata": {},
   "outputs": [],
   "source": []
  }
 ],
 "metadata": {
  "kernelspec": {
   "display_name": "Python 3 (ipykernel)",
   "language": "python",
   "name": "python3"
  },
  "language_info": {
   "codemirror_mode": {
    "name": "ipython",
    "version": 3
   },
   "file_extension": ".py",
   "mimetype": "text/x-python",
   "name": "python",
   "nbconvert_exporter": "python",
   "pygments_lexer": "ipython3",
   "version": "3.9.13"
  }
 },
 "nbformat": 4,
 "nbformat_minor": 5
}
