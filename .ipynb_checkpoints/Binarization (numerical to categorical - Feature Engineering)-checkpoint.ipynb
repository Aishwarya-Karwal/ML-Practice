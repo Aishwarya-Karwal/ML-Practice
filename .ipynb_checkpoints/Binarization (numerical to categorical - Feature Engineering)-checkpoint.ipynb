{
 "cells": [
  {
   "cell_type": "code",
   "execution_count": 44,
   "id": "36b51ead",
   "metadata": {},
   "outputs": [],
   "source": [
    "import numpy as np\n",
    "import pandas as pd"
   ]
  },
  {
   "cell_type": "code",
   "execution_count": 45,
   "id": "3ce0f365",
   "metadata": {},
   "outputs": [],
   "source": [
    "from sklearn.preprocessing import Binarizer\n",
    "from sklearn.model_selection import train_test_split,cross_val_score\n",
    "from sklearn.tree import DecisionTreeClassifier\n",
    "\n",
    "from sklearn.metrics import accuracy_score\n",
    "\n",
    "from sklearn.compose import ColumnTransformer"
   ]
  },
  {
   "cell_type": "code",
   "execution_count": 46,
   "id": "05935446",
   "metadata": {},
   "outputs": [],
   "source": [
    "df = pd.read_csv(r\"E:\\Jupyter Notebooks\\train.csv\", usecols = ['Age','Fare','SibSp','Parch','Survived'])"
   ]
  },
  {
   "cell_type": "code",
   "execution_count": 47,
   "id": "9f991b3c",
   "metadata": {},
   "outputs": [
    {
     "data": {
      "text/html": [
       "<div>\n",
       "<style scoped>\n",
       "    .dataframe tbody tr th:only-of-type {\n",
       "        vertical-align: middle;\n",
       "    }\n",
       "\n",
       "    .dataframe tbody tr th {\n",
       "        vertical-align: top;\n",
       "    }\n",
       "\n",
       "    .dataframe thead th {\n",
       "        text-align: right;\n",
       "    }\n",
       "</style>\n",
       "<table border=\"1\" class=\"dataframe\">\n",
       "  <thead>\n",
       "    <tr style=\"text-align: right;\">\n",
       "      <th></th>\n",
       "      <th>Survived</th>\n",
       "      <th>Age</th>\n",
       "      <th>SibSp</th>\n",
       "      <th>Parch</th>\n",
       "      <th>Fare</th>\n",
       "    </tr>\n",
       "  </thead>\n",
       "  <tbody>\n",
       "    <tr>\n",
       "      <th>0</th>\n",
       "      <td>0</td>\n",
       "      <td>22.0</td>\n",
       "      <td>1</td>\n",
       "      <td>0</td>\n",
       "      <td>7.2500</td>\n",
       "    </tr>\n",
       "    <tr>\n",
       "      <th>1</th>\n",
       "      <td>1</td>\n",
       "      <td>38.0</td>\n",
       "      <td>1</td>\n",
       "      <td>0</td>\n",
       "      <td>71.2833</td>\n",
       "    </tr>\n",
       "    <tr>\n",
       "      <th>2</th>\n",
       "      <td>1</td>\n",
       "      <td>26.0</td>\n",
       "      <td>0</td>\n",
       "      <td>0</td>\n",
       "      <td>7.9250</td>\n",
       "    </tr>\n",
       "    <tr>\n",
       "      <th>3</th>\n",
       "      <td>1</td>\n",
       "      <td>35.0</td>\n",
       "      <td>1</td>\n",
       "      <td>0</td>\n",
       "      <td>53.1000</td>\n",
       "    </tr>\n",
       "    <tr>\n",
       "      <th>4</th>\n",
       "      <td>0</td>\n",
       "      <td>35.0</td>\n",
       "      <td>0</td>\n",
       "      <td>0</td>\n",
       "      <td>8.0500</td>\n",
       "    </tr>\n",
       "  </tbody>\n",
       "</table>\n",
       "</div>"
      ],
      "text/plain": [
       "   Survived   Age  SibSp  Parch     Fare\n",
       "0         0  22.0      1      0   7.2500\n",
       "1         1  38.0      1      0  71.2833\n",
       "2         1  26.0      0      0   7.9250\n",
       "3         1  35.0      1      0  53.1000\n",
       "4         0  35.0      0      0   8.0500"
      ]
     },
     "execution_count": 47,
     "metadata": {},
     "output_type": "execute_result"
    }
   ],
   "source": [
    "df.head()"
   ]
  },
  {
   "cell_type": "code",
   "execution_count": 48,
   "id": "9e2f1dd2",
   "metadata": {},
   "outputs": [
    {
     "data": {
      "text/plain": [
       "(891, 5)"
      ]
     },
     "execution_count": 48,
     "metadata": {},
     "output_type": "execute_result"
    }
   ],
   "source": [
    "df.shape"
   ]
  },
  {
   "cell_type": "code",
   "execution_count": 49,
   "id": "8848fe30",
   "metadata": {},
   "outputs": [
    {
     "data": {
      "text/plain": [
       "Survived      0\n",
       "Age         177\n",
       "SibSp         0\n",
       "Parch         0\n",
       "Fare          0\n",
       "dtype: int64"
      ]
     },
     "execution_count": 49,
     "metadata": {},
     "output_type": "execute_result"
    }
   ],
   "source": [
    "df.isnull().sum()"
   ]
  },
  {
   "cell_type": "code",
   "execution_count": 50,
   "id": "225d6dca",
   "metadata": {},
   "outputs": [],
   "source": [
    "df.dropna(inplace = True)"
   ]
  },
  {
   "cell_type": "code",
   "execution_count": 51,
   "id": "8e97fbbb",
   "metadata": {},
   "outputs": [
    {
     "data": {
      "text/plain": [
       "(714, 5)"
      ]
     },
     "execution_count": 51,
     "metadata": {},
     "output_type": "execute_result"
    }
   ],
   "source": [
    "df.shape"
   ]
  },
  {
   "cell_type": "code",
   "execution_count": 52,
   "id": "248e1f59",
   "metadata": {},
   "outputs": [
    {
     "data": {
      "text/plain": [
       "Survived    0\n",
       "Age         0\n",
       "SibSp       0\n",
       "Parch       0\n",
       "Fare        0\n",
       "dtype: int64"
      ]
     },
     "execution_count": 52,
     "metadata": {},
     "output_type": "execute_result"
    }
   ],
   "source": [
    "df.isnull().sum()"
   ]
  },
  {
   "cell_type": "code",
   "execution_count": 53,
   "id": "a1167872",
   "metadata": {},
   "outputs": [],
   "source": [
    "df['family'] = df['SibSp'] + df['Parch']"
   ]
  },
  {
   "cell_type": "code",
   "execution_count": 54,
   "id": "f6fd8c71",
   "metadata": {},
   "outputs": [
    {
     "data": {
      "text/html": [
       "<div>\n",
       "<style scoped>\n",
       "    .dataframe tbody tr th:only-of-type {\n",
       "        vertical-align: middle;\n",
       "    }\n",
       "\n",
       "    .dataframe tbody tr th {\n",
       "        vertical-align: top;\n",
       "    }\n",
       "\n",
       "    .dataframe thead th {\n",
       "        text-align: right;\n",
       "    }\n",
       "</style>\n",
       "<table border=\"1\" class=\"dataframe\">\n",
       "  <thead>\n",
       "    <tr style=\"text-align: right;\">\n",
       "      <th></th>\n",
       "      <th>Survived</th>\n",
       "      <th>Age</th>\n",
       "      <th>SibSp</th>\n",
       "      <th>Parch</th>\n",
       "      <th>Fare</th>\n",
       "      <th>family</th>\n",
       "    </tr>\n",
       "  </thead>\n",
       "  <tbody>\n",
       "    <tr>\n",
       "      <th>0</th>\n",
       "      <td>0</td>\n",
       "      <td>22.0</td>\n",
       "      <td>1</td>\n",
       "      <td>0</td>\n",
       "      <td>7.2500</td>\n",
       "      <td>1</td>\n",
       "    </tr>\n",
       "    <tr>\n",
       "      <th>1</th>\n",
       "      <td>1</td>\n",
       "      <td>38.0</td>\n",
       "      <td>1</td>\n",
       "      <td>0</td>\n",
       "      <td>71.2833</td>\n",
       "      <td>1</td>\n",
       "    </tr>\n",
       "    <tr>\n",
       "      <th>2</th>\n",
       "      <td>1</td>\n",
       "      <td>26.0</td>\n",
       "      <td>0</td>\n",
       "      <td>0</td>\n",
       "      <td>7.9250</td>\n",
       "      <td>0</td>\n",
       "    </tr>\n",
       "    <tr>\n",
       "      <th>3</th>\n",
       "      <td>1</td>\n",
       "      <td>35.0</td>\n",
       "      <td>1</td>\n",
       "      <td>0</td>\n",
       "      <td>53.1000</td>\n",
       "      <td>1</td>\n",
       "    </tr>\n",
       "    <tr>\n",
       "      <th>4</th>\n",
       "      <td>0</td>\n",
       "      <td>35.0</td>\n",
       "      <td>0</td>\n",
       "      <td>0</td>\n",
       "      <td>8.0500</td>\n",
       "      <td>0</td>\n",
       "    </tr>\n",
       "    <tr>\n",
       "      <th>...</th>\n",
       "      <td>...</td>\n",
       "      <td>...</td>\n",
       "      <td>...</td>\n",
       "      <td>...</td>\n",
       "      <td>...</td>\n",
       "      <td>...</td>\n",
       "    </tr>\n",
       "    <tr>\n",
       "      <th>885</th>\n",
       "      <td>0</td>\n",
       "      <td>39.0</td>\n",
       "      <td>0</td>\n",
       "      <td>5</td>\n",
       "      <td>29.1250</td>\n",
       "      <td>5</td>\n",
       "    </tr>\n",
       "    <tr>\n",
       "      <th>886</th>\n",
       "      <td>0</td>\n",
       "      <td>27.0</td>\n",
       "      <td>0</td>\n",
       "      <td>0</td>\n",
       "      <td>13.0000</td>\n",
       "      <td>0</td>\n",
       "    </tr>\n",
       "    <tr>\n",
       "      <th>887</th>\n",
       "      <td>1</td>\n",
       "      <td>19.0</td>\n",
       "      <td>0</td>\n",
       "      <td>0</td>\n",
       "      <td>30.0000</td>\n",
       "      <td>0</td>\n",
       "    </tr>\n",
       "    <tr>\n",
       "      <th>889</th>\n",
       "      <td>1</td>\n",
       "      <td>26.0</td>\n",
       "      <td>0</td>\n",
       "      <td>0</td>\n",
       "      <td>30.0000</td>\n",
       "      <td>0</td>\n",
       "    </tr>\n",
       "    <tr>\n",
       "      <th>890</th>\n",
       "      <td>0</td>\n",
       "      <td>32.0</td>\n",
       "      <td>0</td>\n",
       "      <td>0</td>\n",
       "      <td>7.7500</td>\n",
       "      <td>0</td>\n",
       "    </tr>\n",
       "  </tbody>\n",
       "</table>\n",
       "<p>714 rows × 6 columns</p>\n",
       "</div>"
      ],
      "text/plain": [
       "     Survived   Age  SibSp  Parch     Fare  family\n",
       "0           0  22.0      1      0   7.2500       1\n",
       "1           1  38.0      1      0  71.2833       1\n",
       "2           1  26.0      0      0   7.9250       0\n",
       "3           1  35.0      1      0  53.1000       1\n",
       "4           0  35.0      0      0   8.0500       0\n",
       "..        ...   ...    ...    ...      ...     ...\n",
       "885         0  39.0      0      5  29.1250       5\n",
       "886         0  27.0      0      0  13.0000       0\n",
       "887         1  19.0      0      0  30.0000       0\n",
       "889         1  26.0      0      0  30.0000       0\n",
       "890         0  32.0      0      0   7.7500       0\n",
       "\n",
       "[714 rows x 6 columns]"
      ]
     },
     "execution_count": 54,
     "metadata": {},
     "output_type": "execute_result"
    }
   ],
   "source": [
    "df"
   ]
  },
  {
   "cell_type": "code",
   "execution_count": 55,
   "id": "8671c6b4",
   "metadata": {},
   "outputs": [
    {
     "data": {
      "text/plain": [
       "0    404\n",
       "1    139\n",
       "2     93\n",
       "3     27\n",
       "5     22\n",
       "6     12\n",
       "4     11\n",
       "7      6\n",
       "Name: family, dtype: int64"
      ]
     },
     "execution_count": 55,
     "metadata": {},
     "output_type": "execute_result"
    }
   ],
   "source": [
    "df['family'].value_counts()"
   ]
  },
  {
   "cell_type": "code",
   "execution_count": 56,
   "id": "8bbde46c",
   "metadata": {},
   "outputs": [
    {
     "data": {
      "text/plain": [
       "<AxesSubplot:>"
      ]
     },
     "execution_count": 56,
     "metadata": {},
     "output_type": "execute_result"
    },
    {
     "data": {
      "image/png": "[encoded data removed]",
      "text/plain": [
       "<Figure size 640x480 with 1 Axes>"
      ]
     },
     "metadata": {},
     "output_type": "display_data"
    }
   ],
   "source": [
    "df['family'].hist()"
   ]
  },
  {
   "cell_type": "code",
   "execution_count": 57,
   "id": "64b8d9b0",
   "metadata": {},
   "outputs": [],
   "source": [
    "df.drop(columns=['SibSp','Parch'],inplace=True)\n"
   ]
  },
  {
   "cell_type": "code",
   "execution_count": 58,
   "id": "f9111280",
   "metadata": {},
   "outputs": [
    {
     "data": {
      "text/html": [
       "<div>\n",
       "<style scoped>\n",
       "    .dataframe tbody tr th:only-of-type {\n",
       "        vertical-align: middle;\n",
       "    }\n",
       "\n",
       "    .dataframe tbody tr th {\n",
       "        vertical-align: top;\n",
       "    }\n",
       "\n",
       "    .dataframe thead th {\n",
       "        text-align: right;\n",
       "    }\n",
       "</style>\n",
       "<table border=\"1\" class=\"dataframe\">\n",
       "  <thead>\n",
       "    <tr style=\"text-align: right;\">\n",
       "      <th></th>\n",
       "      <th>Survived</th>\n",
       "      <th>Age</th>\n",
       "      <th>Fare</th>\n",
       "      <th>family</th>\n",
       "    </tr>\n",
       "  </thead>\n",
       "  <tbody>\n",
       "    <tr>\n",
       "      <th>0</th>\n",
       "      <td>0</td>\n",
       "      <td>22.0</td>\n",
       "      <td>7.2500</td>\n",
       "      <td>1</td>\n",
       "    </tr>\n",
       "    <tr>\n",
       "      <th>1</th>\n",
       "      <td>1</td>\n",
       "      <td>38.0</td>\n",
       "      <td>71.2833</td>\n",
       "      <td>1</td>\n",
       "    </tr>\n",
       "    <tr>\n",
       "      <th>2</th>\n",
       "      <td>1</td>\n",
       "      <td>26.0</td>\n",
       "      <td>7.9250</td>\n",
       "      <td>0</td>\n",
       "    </tr>\n",
       "    <tr>\n",
       "      <th>3</th>\n",
       "      <td>1</td>\n",
       "      <td>35.0</td>\n",
       "      <td>53.1000</td>\n",
       "      <td>1</td>\n",
       "    </tr>\n",
       "    <tr>\n",
       "      <th>4</th>\n",
       "      <td>0</td>\n",
       "      <td>35.0</td>\n",
       "      <td>8.0500</td>\n",
       "      <td>0</td>\n",
       "    </tr>\n",
       "    <tr>\n",
       "      <th>...</th>\n",
       "      <td>...</td>\n",
       "      <td>...</td>\n",
       "      <td>...</td>\n",
       "      <td>...</td>\n",
       "    </tr>\n",
       "    <tr>\n",
       "      <th>885</th>\n",
       "      <td>0</td>\n",
       "      <td>39.0</td>\n",
       "      <td>29.1250</td>\n",
       "      <td>5</td>\n",
       "    </tr>\n",
       "    <tr>\n",
       "      <th>886</th>\n",
       "      <td>0</td>\n",
       "      <td>27.0</td>\n",
       "      <td>13.0000</td>\n",
       "      <td>0</td>\n",
       "    </tr>\n",
       "    <tr>\n",
       "      <th>887</th>\n",
       "      <td>1</td>\n",
       "      <td>19.0</td>\n",
       "      <td>30.0000</td>\n",
       "      <td>0</td>\n",
       "    </tr>\n",
       "    <tr>\n",
       "      <th>889</th>\n",
       "      <td>1</td>\n",
       "      <td>26.0</td>\n",
       "      <td>30.0000</td>\n",
       "      <td>0</td>\n",
       "    </tr>\n",
       "    <tr>\n",
       "      <th>890</th>\n",
       "      <td>0</td>\n",
       "      <td>32.0</td>\n",
       "      <td>7.7500</td>\n",
       "      <td>0</td>\n",
       "    </tr>\n",
       "  </tbody>\n",
       "</table>\n",
       "<p>714 rows × 4 columns</p>\n",
       "</div>"
      ],
      "text/plain": [
       "     Survived   Age     Fare  family\n",
       "0           0  22.0   7.2500       1\n",
       "1           1  38.0  71.2833       1\n",
       "2           1  26.0   7.9250       0\n",
       "3           1  35.0  53.1000       1\n",
       "4           0  35.0   8.0500       0\n",
       "..        ...   ...      ...     ...\n",
       "885         0  39.0  29.1250       5\n",
       "886         0  27.0  13.0000       0\n",
       "887         1  19.0  30.0000       0\n",
       "889         1  26.0  30.0000       0\n",
       "890         0  32.0   7.7500       0\n",
       "\n",
       "[714 rows x 4 columns]"
      ]
     },
     "execution_count": 58,
     "metadata": {},
     "output_type": "execute_result"
    }
   ],
   "source": [
    "df"
   ]
  },
  {
   "cell_type": "markdown",
   "id": "53fa699e",
   "metadata": {},
   "source": [
    "### train test split"
   ]
  },
  {
   "cell_type": "code",
   "execution_count": 59,
   "id": "5da90953",
   "metadata": {},
   "outputs": [],
   "source": [
    "xtrain, xtest, ytrain, ytest = train_test_split(df.iloc[:,1:], df.iloc[:,0]\n",
    "                                               , test_size = 0.3, random_state = 42)"
   ]
  },
  {
   "cell_type": "code",
   "execution_count": 60,
   "id": "458e3bba",
   "metadata": {},
   "outputs": [
    {
     "data": {
      "text/plain": [
       "((499, 3), (215, 3), (499,), (215,))"
      ]
     },
     "execution_count": 60,
     "metadata": {},
     "output_type": "execute_result"
    }
   ],
   "source": [
    "xtrain.shape, xtest.shape, ytrain.shape, ytest.shape"
   ]
  },
  {
   "cell_type": "markdown",
   "id": "48d44943",
   "metadata": {},
   "source": [
    "### model fitting and accuracy check before binarization"
   ]
  },
  {
   "cell_type": "code",
   "execution_count": 61,
   "id": "f027f84b",
   "metadata": {},
   "outputs": [
    {
     "name": "stdout",
     "output_type": "stream",
     "text": [
      "0.645142857142857\n"
     ]
    }
   ],
   "source": [
    "clf = DecisionTreeClassifier()\n",
    "\n",
    "clf.fit(xtrain, ytrain)\n",
    "ypred1 = clf.predict(xtest)\n",
    "\n",
    "print(np.mean(cross_val_score(clf, xtrain, ytrain, scoring = 'accuracy', cv = 10)))"
   ]
  },
  {
   "cell_type": "markdown",
   "id": "57bc8c38",
   "metadata": {},
   "source": [
    "### binarizing"
   ]
  },
  {
   "cell_type": "markdown",
   "id": "267bbdb2",
   "metadata": {},
   "source": [
    "Binarization is a common operation on text count data where the analyst can decide to only consider the presence or absence of a feature rather than a quantified number of occurrences for instance."
   ]
  },
  {
   "cell_type": "code",
   "execution_count": 62,
   "id": "a5e62ca7",
   "metadata": {},
   "outputs": [
    {
     "data": {
      "text/html": [
       "<div>\n",
       "<style scoped>\n",
       "    .dataframe tbody tr th:only-of-type {\n",
       "        vertical-align: middle;\n",
       "    }\n",
       "\n",
       "    .dataframe tbody tr th {\n",
       "        vertical-align: top;\n",
       "    }\n",
       "\n",
       "    .dataframe thead th {\n",
       "        text-align: right;\n",
       "    }\n",
       "</style>\n",
       "<table border=\"1\" class=\"dataframe\">\n",
       "  <thead>\n",
       "    <tr style=\"text-align: right;\">\n",
       "      <th></th>\n",
       "      <th>Age</th>\n",
       "      <th>Fare</th>\n",
       "      <th>family</th>\n",
       "    </tr>\n",
       "  </thead>\n",
       "  <tbody>\n",
       "    <tr>\n",
       "      <th>37</th>\n",
       "      <td>21.0</td>\n",
       "      <td>8.0500</td>\n",
       "      <td>0</td>\n",
       "    </tr>\n",
       "    <tr>\n",
       "      <th>58</th>\n",
       "      <td>5.0</td>\n",
       "      <td>27.7500</td>\n",
       "      <td>3</td>\n",
       "    </tr>\n",
       "    <tr>\n",
       "      <th>57</th>\n",
       "      <td>28.5</td>\n",
       "      <td>7.2292</td>\n",
       "      <td>0</td>\n",
       "    </tr>\n",
       "    <tr>\n",
       "      <th>94</th>\n",
       "      <td>59.0</td>\n",
       "      <td>7.2500</td>\n",
       "      <td>0</td>\n",
       "    </tr>\n",
       "    <tr>\n",
       "      <th>209</th>\n",
       "      <td>40.0</td>\n",
       "      <td>31.0000</td>\n",
       "      <td>0</td>\n",
       "    </tr>\n",
       "    <tr>\n",
       "      <th>...</th>\n",
       "      <td>...</td>\n",
       "      <td>...</td>\n",
       "      <td>...</td>\n",
       "    </tr>\n",
       "    <tr>\n",
       "      <th>92</th>\n",
       "      <td>46.0</td>\n",
       "      <td>61.1750</td>\n",
       "      <td>1</td>\n",
       "    </tr>\n",
       "    <tr>\n",
       "      <th>134</th>\n",
       "      <td>25.0</td>\n",
       "      <td>13.0000</td>\n",
       "      <td>0</td>\n",
       "    </tr>\n",
       "    <tr>\n",
       "      <th>337</th>\n",
       "      <td>41.0</td>\n",
       "      <td>134.5000</td>\n",
       "      <td>0</td>\n",
       "    </tr>\n",
       "    <tr>\n",
       "      <th>548</th>\n",
       "      <td>33.0</td>\n",
       "      <td>20.5250</td>\n",
       "      <td>2</td>\n",
       "    </tr>\n",
       "    <tr>\n",
       "      <th>130</th>\n",
       "      <td>33.0</td>\n",
       "      <td>7.8958</td>\n",
       "      <td>0</td>\n",
       "    </tr>\n",
       "  </tbody>\n",
       "</table>\n",
       "<p>499 rows × 3 columns</p>\n",
       "</div>"
      ],
      "text/plain": [
       "      Age      Fare  family\n",
       "37   21.0    8.0500       0\n",
       "58    5.0   27.7500       3\n",
       "57   28.5    7.2292       0\n",
       "94   59.0    7.2500       0\n",
       "209  40.0   31.0000       0\n",
       "..    ...       ...     ...\n",
       "92   46.0   61.1750       1\n",
       "134  25.0   13.0000       0\n",
       "337  41.0  134.5000       0\n",
       "548  33.0   20.5250       2\n",
       "130  33.0    7.8958       0\n",
       "\n",
       "[499 rows x 3 columns]"
      ]
     },
     "execution_count": 62,
     "metadata": {},
     "output_type": "execute_result"
    }
   ],
   "source": [
    "xtrain"
   ]
  },
  {
   "cell_type": "code",
   "execution_count": 63,
   "id": "0da42189",
   "metadata": {},
   "outputs": [],
   "source": [
    "ct = ColumnTransformer([\n",
    "    ('binary', Binarizer(copy = False), [2])\n",
    "], remainder = 'passthrough')"
   ]
  },
  {
   "cell_type": "code",
   "execution_count": 64,
   "id": "af0a6747",
   "metadata": {},
   "outputs": [],
   "source": [
    "xtrainT = ct.fit_transform(xtrain)"
   ]
  },
  {
   "cell_type": "code",
   "execution_count": 65,
   "id": "8be41156",
   "metadata": {},
   "outputs": [
    {
     "data": {
      "text/plain": [
       "array([[  0.    ,  21.    ,   8.05  ],\n",
       "       [  1.    ,   5.    ,  27.75  ],\n",
       "       [  0.    ,  28.5   ,   7.2292],\n",
       "       ...,\n",
       "       [  0.    ,  41.    , 134.5   ],\n",
       "       [  1.    ,  33.    ,  20.525 ],\n",
       "       [  0.    ,  33.    ,   7.8958]])"
      ]
     },
     "execution_count": 65,
     "metadata": {},
     "output_type": "execute_result"
    }
   ],
   "source": [
    "xtrainT"
   ]
  },
  {
   "cell_type": "code",
   "execution_count": 68,
   "id": "227a0e7e",
   "metadata": {},
   "outputs": [
    {
     "data": {
      "text/html": [
       "<div>\n",
       "<style scoped>\n",
       "    .dataframe tbody tr th:only-of-type {\n",
       "        vertical-align: middle;\n",
       "    }\n",
       "\n",
       "    .dataframe tbody tr th {\n",
       "        vertical-align: top;\n",
       "    }\n",
       "\n",
       "    .dataframe thead th {\n",
       "        text-align: right;\n",
       "    }\n",
       "</style>\n",
       "<table border=\"1\" class=\"dataframe\">\n",
       "  <thead>\n",
       "    <tr style=\"text-align: right;\">\n",
       "      <th></th>\n",
       "      <th>Age</th>\n",
       "      <th>Fare</th>\n",
       "      <th>family</th>\n",
       "    </tr>\n",
       "  </thead>\n",
       "  <tbody>\n",
       "    <tr>\n",
       "      <th>149</th>\n",
       "      <td>42.0</td>\n",
       "      <td>13.0000</td>\n",
       "      <td>0</td>\n",
       "    </tr>\n",
       "    <tr>\n",
       "      <th>407</th>\n",
       "      <td>3.0</td>\n",
       "      <td>18.7500</td>\n",
       "      <td>2</td>\n",
       "    </tr>\n",
       "    <tr>\n",
       "      <th>53</th>\n",
       "      <td>29.0</td>\n",
       "      <td>26.0000</td>\n",
       "      <td>1</td>\n",
       "    </tr>\n",
       "    <tr>\n",
       "      <th>369</th>\n",
       "      <td>24.0</td>\n",
       "      <td>69.3000</td>\n",
       "      <td>0</td>\n",
       "    </tr>\n",
       "    <tr>\n",
       "      <th>818</th>\n",
       "      <td>43.0</td>\n",
       "      <td>6.4500</td>\n",
       "      <td>0</td>\n",
       "    </tr>\n",
       "    <tr>\n",
       "      <th>...</th>\n",
       "      <td>...</td>\n",
       "      <td>...</td>\n",
       "      <td>...</td>\n",
       "    </tr>\n",
       "    <tr>\n",
       "      <th>676</th>\n",
       "      <td>24.5</td>\n",
       "      <td>8.0500</td>\n",
       "      <td>0</td>\n",
       "    </tr>\n",
       "    <tr>\n",
       "      <th>493</th>\n",
       "      <td>71.0</td>\n",
       "      <td>49.5042</td>\n",
       "      <td>0</td>\n",
       "    </tr>\n",
       "    <tr>\n",
       "      <th>479</th>\n",
       "      <td>2.0</td>\n",
       "      <td>12.2875</td>\n",
       "      <td>1</td>\n",
       "    </tr>\n",
       "    <tr>\n",
       "      <th>278</th>\n",
       "      <td>7.0</td>\n",
       "      <td>29.1250</td>\n",
       "      <td>5</td>\n",
       "    </tr>\n",
       "    <tr>\n",
       "      <th>174</th>\n",
       "      <td>56.0</td>\n",
       "      <td>30.6958</td>\n",
       "      <td>0</td>\n",
       "    </tr>\n",
       "  </tbody>\n",
       "</table>\n",
       "<p>215 rows × 3 columns</p>\n",
       "</div>"
      ],
      "text/plain": [
       "      Age     Fare  family\n",
       "149  42.0  13.0000       0\n",
       "407   3.0  18.7500       2\n",
       "53   29.0  26.0000       1\n",
       "369  24.0  69.3000       0\n",
       "818  43.0   6.4500       0\n",
       "..    ...      ...     ...\n",
       "676  24.5   8.0500       0\n",
       "493  71.0  49.5042       0\n",
       "479   2.0  12.2875       1\n",
       "278   7.0  29.1250       5\n",
       "174  56.0  30.6958       0\n",
       "\n",
       "[215 rows x 3 columns]"
      ]
     },
     "execution_count": 68,
     "metadata": {},
     "output_type": "execute_result"
    }
   ],
   "source": [
    "xtest"
   ]
  },
  {
   "cell_type": "code",
   "execution_count": 66,
   "id": "f768cf93",
   "metadata": {},
   "outputs": [],
   "source": [
    "xtestT = ct.transform(xtest)"
   ]
  },
  {
   "cell_type": "code",
   "execution_count": 67,
   "id": "a2c6f3f5",
   "metadata": {},
   "outputs": [
    {
     "data": {
      "text/plain": [
       "array([[0.000000e+00, 4.200000e+01, 1.300000e+01],\n",
       "       [1.000000e+00, 3.000000e+00, 1.875000e+01],\n",
       "       [1.000000e+00, 2.900000e+01, 2.600000e+01],\n",
       "       [0.000000e+00, 2.400000e+01, 6.930000e+01],\n",
       "       [0.000000e+00, 4.300000e+01, 6.450000e+00],\n",
       "       [1.000000e+00, 8.000000e+00, 3.675000e+01],\n",
       "       [1.000000e+00, 3.300000e+01, 1.585000e+01],\n",
       "       [1.000000e+00, 5.400000e+01, 2.300000e+01],\n",
       "       [0.000000e+00, 2.800000e+01, 7.895800e+00],\n",
       "       [0.000000e+00, 2.300000e+01, 7.925000e+00],\n",
       "       [1.000000e+00, 1.700000e+01, 5.700000e+01],\n",
       "       [0.000000e+00, 3.250000e+01, 1.300000e+01],\n",
       "       [1.000000e+00, 3.100000e+01, 5.700000e+01],\n",
       "       [0.000000e+00, 3.800000e+01, 7.895800e+00],\n",
       "       [0.000000e+00, 3.500000e+01, 5.123292e+02],\n",
       "       [1.000000e+00, 2.300000e+01, 1.150000e+01],\n",
       "       [0.000000e+00, 2.350000e+01, 7.229200e+00],\n",
       "       [1.000000e+00, 1.600000e+01, 5.797920e+01],\n",
       "       [0.000000e+00, 2.700000e+01, 1.300000e+01],\n",
       "       [1.000000e+00, 5.400000e+01, 5.940000e+01],\n",
       "       [1.000000e+00, 1.600000e+01, 4.690000e+01],\n",
       "       [1.000000e+00, 5.000000e+01, 2.600000e+01],\n",
       "       [1.000000e+00, 9.000000e+00, 1.524580e+01],\n",
       "       [0.000000e+00, 3.500000e+01, 5.123292e+02],\n",
       "       [0.000000e+00, 2.200000e+01, 9.350000e+00],\n",
       "       [0.000000e+00, 1.700000e+01, 8.662500e+00],\n",
       "       [0.000000e+00, 1.600000e+01, 9.500000e+00],\n",
       "       [1.000000e+00, 2.600000e+01, 2.057500e+01],\n",
       "       [1.000000e+00, 1.450000e+01, 1.445420e+01],\n",
       "       [0.000000e+00, 3.800000e+01, 8.662500e+00],\n",
       "       [1.000000e+00, 2.100000e+01, 9.825000e+00],\n",
       "       [1.000000e+00, 9.000000e+00, 3.437500e+01],\n",
       "       [0.000000e+00, 3.600000e+01, 2.638750e+01],\n",
       "       [0.000000e+00, 3.500000e+01, 7.125000e+00],\n",
       "       [1.000000e+00, 3.700000e+01, 7.925000e+00],\n",
       "       [1.000000e+00, 3.600000e+01, 1.740000e+01],\n",
       "       [1.000000e+00, 3.400000e+01, 2.600000e+01],\n",
       "       [0.000000e+00, 5.600000e+01, 3.550000e+01],\n",
       "       [0.000000e+00, 6.100000e+01, 3.350000e+01],\n",
       "       [0.000000e+00, 5.100000e+01, 7.750000e+00],\n",
       "       [1.000000e+00, 9.000000e+00, 2.052500e+01],\n",
       "       [0.000000e+00, 2.000000e+01, 7.925000e+00],\n",
       "       [1.000000e+00, 3.600000e+01, 1.200000e+02],\n",
       "       [0.000000e+00, 5.400000e+01, 1.400000e+01],\n",
       "       [1.000000e+00, 5.200000e+01, 7.965000e+01],\n",
       "       [0.000000e+00, 2.900000e+01, 1.050000e+01],\n",
       "       [1.000000e+00, 3.400000e+01, 3.250000e+01],\n",
       "       [1.000000e+00, 2.100000e+01, 3.437500e+01],\n",
       "       [0.000000e+00, 4.000000e+01, 0.000000e+00],\n",
       "       [1.000000e+00, 4.800000e+01, 3.960000e+01],\n",
       "       [1.000000e+00, 3.700000e+01, 5.310000e+01],\n",
       "       [0.000000e+00, 2.400000e+01, 1.300000e+01],\n",
       "       [1.000000e+00, 2.700000e+01, 5.310000e+01],\n",
       "       [0.000000e+00, 2.800000e+01, 2.252500e+01],\n",
       "       [0.000000e+00, 2.500000e+01, 7.050000e+00],\n",
       "       [0.000000e+00, 5.700000e+01, 1.050000e+01],\n",
       "       [0.000000e+00, 2.800000e+01, 4.710000e+01],\n",
       "       [1.000000e+00, 3.000000e+00, 3.138750e+01],\n",
       "       [1.000000e+00, 2.600000e+01, 7.854200e+00],\n",
       "       [0.000000e+00, 6.200000e+01, 1.050000e+01],\n",
       "       [0.000000e+00, 5.800000e+01, 2.655000e+01],\n",
       "       [0.000000e+00, 2.500000e+01, 7.741700e+00],\n",
       "       [1.000000e+00, 4.500000e+01, 2.625000e+01],\n",
       "       [0.000000e+00, 1.700000e+01, 8.662500e+00],\n",
       "       [0.000000e+00, 1.900000e+01, 1.050000e+01],\n",
       "       [0.000000e+00, 4.700000e+01, 2.558750e+01],\n",
       "       [1.000000e+00, 6.000000e+00, 1.247500e+01],\n",
       "       [1.000000e+00, 2.200000e+01, 5.500000e+01],\n",
       "       [0.000000e+00, 3.100000e+01, 7.925000e+00],\n",
       "       [0.000000e+00, 3.300000e+01, 5.000000e+00],\n",
       "       [0.000000e+00, 1.700000e+01, 8.662500e+00],\n",
       "       [0.000000e+00, 6.200000e+01, 8.000000e+01],\n",
       "       [1.000000e+00, 1.600000e+01, 2.025000e+01],\n",
       "       [0.000000e+00, 2.000000e+01, 4.012500e+00],\n",
       "       [0.000000e+00, 4.500000e+01, 6.975000e+00],\n",
       "       [1.000000e+00, 2.000000e+01, 7.925000e+00],\n",
       "       [0.000000e+00, 1.900000e+01, 1.050000e+01],\n",
       "       [0.000000e+00, 1.800000e+01, 7.750000e+00],\n",
       "       [0.000000e+00, 3.050000e+01, 7.750000e+00],\n",
       "       [1.000000e+00, 1.100000e+01, 1.200000e+02],\n",
       "       [1.000000e+00, 1.100000e+01, 3.127500e+01],\n",
       "       [1.000000e+00, 3.100000e+01, 5.200000e+01],\n",
       "       [1.000000e+00, 4.000000e+01, 9.475000e+00],\n",
       "       [0.000000e+00, 1.900000e+01, 1.017080e+01],\n",
       "       [0.000000e+00, 2.500000e+01, 7.895800e+00],\n",
       "       [0.000000e+00, 2.000000e+01, 8.662500e+00],\n",
       "       [1.000000e+00, 9.000000e+00, 3.127500e+01],\n",
       "       [0.000000e+00, 4.050000e+01, 7.750000e+00],\n",
       "       [0.000000e+00, 1.900000e+01, 7.650000e+00],\n",
       "       [0.000000e+00, 2.100000e+01, 7.350000e+01],\n",
       "       [0.000000e+00, 4.500000e+01, 2.655000e+01],\n",
       "       [0.000000e+00, 3.800000e+01, 2.275250e+02],\n",
       "       [0.000000e+00, 5.000000e+01, 1.050000e+01],\n",
       "       [1.000000e+00, 2.900000e+01, 7.045800e+00],\n",
       "       [1.000000e+00, 3.400000e+01, 2.300000e+01],\n",
       "       [0.000000e+00, 2.600000e+01, 7.925000e+00],\n",
       "       [0.000000e+00, 2.400000e+01, 8.315830e+01],\n",
       "       [0.000000e+00, 2.900000e+01, 3.000000e+01],\n",
       "       [0.000000e+00, 3.000000e+01, 1.300000e+01],\n",
       "       [1.000000e+00, 3.900000e+01, 2.912500e+01],\n",
       "       [0.000000e+00, 2.800000e+01, 1.300000e+01],\n",
       "       [0.000000e+00, 1.900000e+01, 2.600000e+01],\n",
       "       [0.000000e+00, 3.000000e+01, 7.225000e+00],\n",
       "       [1.000000e+00, 3.000000e+00, 2.107500e+01],\n",
       "       [1.000000e+00, 4.000000e+00, 3.900000e+01],\n",
       "       [1.000000e+00, 3.400000e+01, 2.100000e+01],\n",
       "       [0.000000e+00, 2.000000e+01, 7.854200e+00],\n",
       "       [1.000000e+00, 3.600000e+01, 7.885000e+01],\n",
       "       [0.000000e+00, 4.400000e+01, 7.925000e+00],\n",
       "       [1.000000e+00, 4.000000e+01, 3.900000e+01],\n",
       "       [0.000000e+00, 2.800000e+01, 5.649580e+01],\n",
       "       [0.000000e+00, 2.100000e+01, 7.925000e+00],\n",
       "       [1.000000e+00, 9.000000e+00, 3.138750e+01],\n",
       "       [0.000000e+00, 5.200000e+01, 3.050000e+01],\n",
       "       [0.000000e+00, 1.700000e+01, 7.125000e+00],\n",
       "       [0.000000e+00, 3.000000e+01, 1.247500e+01],\n",
       "       [1.000000e+00, 3.200000e+01, 1.585000e+01],\n",
       "       [1.000000e+00, 1.400000e+01, 1.124170e+01],\n",
       "       [0.000000e+00, 2.900000e+01, 8.050000e+00],\n",
       "       [0.000000e+00, 4.300000e+01, 8.050000e+00],\n",
       "       [1.000000e+00, 1.700000e+01, 1.089000e+02],\n",
       "       [1.000000e+00, 1.100000e+01, 4.690000e+01],\n",
       "       [1.000000e+00, 2.500000e+01, 1.780000e+01],\n",
       "       [0.000000e+00, 2.000000e+01, 7.854200e+00],\n",
       "       [1.000000e+00, 2.500000e+01, 1.515500e+02],\n",
       "       [0.000000e+00, 2.600000e+01, 7.887500e+00],\n",
       "       [0.000000e+00, 2.100000e+01, 8.662500e+00],\n",
       "       [0.000000e+00, 1.700000e+01, 1.200000e+01],\n",
       "       [0.000000e+00, 2.900000e+01, 7.875000e+00],\n",
       "       [0.000000e+00, 4.400000e+01, 2.772080e+01],\n",
       "       [1.000000e+00, 2.500000e+01, 7.775000e+00],\n",
       "       [1.000000e+00, 2.800000e+01, 7.925000e+00],\n",
       "       [0.000000e+00, 2.600000e+01, 1.878750e+01],\n",
       "       [0.000000e+00, 3.400000e+01, 1.050000e+01],\n",
       "       [1.000000e+00, 2.000000e+00, 2.107500e+01],\n",
       "       [0.000000e+00, 2.200000e+01, 7.250000e+00],\n",
       "       [0.000000e+00, 3.300000e+01, 9.500000e+00],\n",
       "       [1.000000e+00, 3.700000e+01, 2.970000e+01],\n",
       "       [1.000000e+00, 1.000000e+01, 2.790000e+01],\n",
       "       [1.000000e+00, 1.000000e+00, 3.968750e+01],\n",
       "       [0.000000e+00, 3.500000e+01, 7.050000e+00],\n",
       "       [0.000000e+00, 2.100000e+01, 1.050000e+01],\n",
       "       [1.000000e+00, 1.900000e+01, 2.628330e+01],\n",
       "       [1.000000e+00, 3.100000e+01, 2.052500e+01],\n",
       "       [1.000000e+00, 2.600000e+01, 1.445420e+01],\n",
       "       [1.000000e+00, 3.000000e+01, 1.610000e+01],\n",
       "       [0.000000e+00, 3.300000e+01, 7.775000e+00],\n",
       "       [0.000000e+00, 2.500000e+01, 1.300000e+01],\n",
       "       [0.000000e+00, 4.000000e+01, 2.772080e+01],\n",
       "       [0.000000e+00, 2.200000e+01, 7.895800e+00],\n",
       "       [1.000000e+00, 4.200000e+01, 2.700000e+01],\n",
       "       [0.000000e+00, 3.100000e+01, 8.683300e+00],\n",
       "       [1.000000e+00, 1.800000e+01, 6.495800e+00],\n",
       "       [0.000000e+00, 2.200000e+01, 7.250000e+00],\n",
       "       [0.000000e+00, 1.600000e+01, 9.216700e+00],\n",
       "       [0.000000e+00, 2.800000e+01, 7.895800e+00],\n",
       "       [1.000000e+00, 1.700000e+01, 7.925000e+00],\n",
       "       [1.000000e+00, 2.900000e+01, 2.772080e+01],\n",
       "       [1.000000e+00, 6.000000e+00, 3.300000e+01],\n",
       "       [1.000000e+00, 4.900000e+01, 5.692920e+01],\n",
       "       [0.000000e+00, 2.400000e+01, 7.495800e+00],\n",
       "       [0.000000e+00, 2.800000e+01, 7.895800e+00],\n",
       "       [1.000000e+00, 2.400000e+01, 1.610000e+01],\n",
       "       [1.000000e+00, 4.000000e+01, 1.345000e+02],\n",
       "       [0.000000e+00, 3.400000e+01, 1.300000e+01],\n",
       "       [1.000000e+00, 1.800000e+01, 1.300000e+01],\n",
       "       [1.000000e+00, 3.900000e+01, 8.315830e+01],\n",
       "       [0.000000e+00, 3.200000e+01, 7.854200e+00],\n",
       "       [1.000000e+00, 1.900000e+01, 9.107920e+01],\n",
       "       [0.000000e+00, 2.200000e+01, 9.000000e+00],\n",
       "       [0.000000e+00, 5.800000e+01, 2.970000e+01],\n",
       "       [1.000000e+00, 1.900000e+01, 2.600000e+01],\n",
       "       [1.000000e+00, 1.800000e+01, 1.800000e+01],\n",
       "       [1.000000e+00, 2.400000e+01, 1.450000e+01],\n",
       "       [1.000000e+00, 4.000000e+00, 8.185830e+01],\n",
       "       [1.000000e+00, 2.200000e+01, 2.900000e+01],\n",
       "       [0.000000e+00, 5.200000e+01, 1.300000e+01],\n",
       "       [0.000000e+00, 2.000000e+01, 9.845800e+00],\n",
       "       [0.000000e+00, 3.600000e+01, 1.050000e+01],\n",
       "       [0.000000e+00, 3.500000e+01, 1.050000e+01],\n",
       "       [1.000000e+00, 5.000000e+00, 1.925830e+01],\n",
       "       [1.000000e+00, 3.200000e+01, 1.550000e+01],\n",
       "       [1.000000e+00, 1.800000e+01, 2.623750e+02],\n",
       "       [0.000000e+00, 2.800000e+01, 2.655000e+01],\n",
       "       [0.000000e+00, 2.200000e+01, 7.520800e+00],\n",
       "       [0.000000e+00, 3.000000e+01, 1.050000e+01],\n",
       "       [0.000000e+00, 2.600000e+01, 7.885000e+01],\n",
       "       [1.000000e+00, 3.600000e+01, 5.123292e+02],\n",
       "       [0.000000e+00, 2.300000e+01, 1.379170e+01],\n",
       "       [0.000000e+00, 4.800000e+01, 1.300000e+01],\n",
       "       [0.000000e+00, 3.200000e+01, 5.649580e+01],\n",
       "       [1.000000e+00, 2.000000e+00, 1.046250e+01],\n",
       "       [1.000000e+00, 2.200000e+01, 4.157920e+01],\n",
       "       [0.000000e+00, 1.800000e+01, 7.495800e+00],\n",
       "       [1.000000e+00, 2.400000e+01, 1.925830e+01],\n",
       "       [0.000000e+00, 3.000000e+01, 2.775000e+01],\n",
       "       [0.000000e+00, 3.000000e+01, 7.250000e+00],\n",
       "       [1.000000e+00, 3.400000e+01, 1.440000e+01],\n",
       "       [1.000000e+00, 3.600000e+01, 7.100000e+01],\n",
       "       [1.000000e+00, 4.700000e+01, 1.450000e+01],\n",
       "       [0.000000e+00, 1.900000e+01, 6.750000e+00],\n",
       "       [0.000000e+00, 2.700000e+01, 6.975000e+00],\n",
       "       [0.000000e+00, 2.200000e+01, 7.225000e+00],\n",
       "       [1.000000e+00, 4.200000e-01, 8.516700e+00],\n",
       "       [0.000000e+00, 2.800000e+01, 1.300000e+01],\n",
       "       [1.000000e+00, 2.900000e+01, 2.100000e+01],\n",
       "       [1.000000e+00, 2.700000e+01, 1.113330e+01],\n",
       "       [0.000000e+00, 1.700000e+01, 1.445830e+01],\n",
       "       [1.000000e+00, 6.000000e+01, 3.900000e+01],\n",
       "       [0.000000e+00, 3.000000e+01, 1.064250e+02],\n",
       "       [0.000000e+00, 2.450000e+01, 8.050000e+00],\n",
       "       [0.000000e+00, 7.100000e+01, 4.950420e+01],\n",
       "       [1.000000e+00, 2.000000e+00, 1.228750e+01],\n",
       "       [1.000000e+00, 7.000000e+00, 2.912500e+01],\n",
       "       [0.000000e+00, 5.600000e+01, 3.069580e+01]])"
      ]
     },
     "execution_count": 67,
     "metadata": {},
     "output_type": "execute_result"
    }
   ],
   "source": [
    "xtestT"
   ]
  },
  {
   "cell_type": "code",
   "execution_count": 70,
   "id": "c154a8db",
   "metadata": {},
   "outputs": [
    {
     "data": {
      "text/plain": [
       "0.6473469387755102"
      ]
     },
     "execution_count": 70,
     "metadata": {},
     "output_type": "execute_result"
    }
   ],
   "source": [
    "clf = DecisionTreeClassifier()\n",
    "clf.fit(xtrainT,ytrain)\n",
    "y_pred2 = clf.predict(xtestT)\n",
    "\n",
    "np.mean(cross_val_score(DecisionTreeClassifier(),xtrainT,ytrain,cv=10,scoring='accuracy'))"
   ]
  },
  {
   "cell_type": "code",
   "execution_count": 71,
   "id": "2a7d0c1a",
   "metadata": {},
   "outputs": [],
   "source": [
    "# this was just an example on how to use binarization, so the results are with just a small\n",
    "# improvement in accuracy"
   ]
  },
  {
   "cell_type": "code",
   "execution_count": 72,
   "id": "e381b327",
   "metadata": {},
   "outputs": [],
   "source": [
    "# thanks !"
   ]
  }
 ],
 "metadata": {
  "kernelspec": {
   "display_name": "Python 3 (ipykernel)",
   "language": "python",
   "name": "python3"
  },
  "language_info": {
   "codemirror_mode": {
    "name": "ipython",
    "version": 3
   },
   "file_extension": ".py",
   "mimetype": "text/x-python",
   "name": "python",
   "nbconvert_exporter": "python",
   "pygments_lexer": "ipython3",
   "version": "3.9.13"
  }
 },
 "nbformat": 4,
 "nbformat_minor": 5
}
