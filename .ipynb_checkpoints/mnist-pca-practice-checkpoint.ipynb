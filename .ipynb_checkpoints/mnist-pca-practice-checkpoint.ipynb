{
 "cells": [
  {
   "cell_type": "markdown",
   "metadata": {},
   "source": [
    "This code is there in <a href=\"https://www.kaggle.com/code/aishwaryakarwal/mnist-pca-practice/edit\">kaggle notebook"
   ]
  },
  {
   "cell_type": "code",
   "execution_count": 1,
   "metadata": {
    "_cell_guid": "b1076dfc-b9ad-4769-8c92-a6c4dae69d19",
    "_uuid": "8f2839f25d086af736a60e9eeb907d3b93b6e0e5",
    "execution": {
     "iopub.execute_input": "2024-07-24T06:28:25.718997Z",
     "iopub.status.busy": "2024-07-24T06:28:25.718281Z",
     "iopub.status.idle": "2024-07-24T06:28:26.910621Z",
     "shell.execute_reply": "2024-07-24T06:28:26.909345Z",
     "shell.execute_reply.started": "2024-07-24T06:28:25.718963Z"
    }
   },
   "outputs": [],
   "source": [
    "# This Python 3 environment comes with many helpful analytics libraries installed\n",
    "# It is defined by the kaggle/python Docker image: https://github.com/kaggle/docker-python\n",
    "# For example, here's several helpful packages to load\n",
    "\n",
    "import numpy as np # linear algebra\n",
    "import pandas as pd # data processing, CSV file I/O (e.g. pd.read_csv)\n",
    "\n",
    "# Input data files are available in the read-only \"../input/\" directory\n",
    "# For example, running this (by clicking run or pressing Shift+Enter) will list all files under the input directory\n",
    "\n",
    "import os\n",
    "for dirname, _, filenames in os.walk('/kaggle/input'):\n",
    "    for filename in filenames:\n",
    "        print(os.path.join(dirname, filename))\n",
    "\n",
    "# You can write up to 20GB to the current directory (/kaggle/working/) that gets preserved as output when you create a version using \"Save & Run All\" \n",
    "# You can also write temporary files to /kaggle/temp/, but they won't be saved outside of the current session"
   ]
  },
  {
   "cell_type": "code",
   "execution_count": 2,
   "metadata": {
    "execution": {
     "iopub.execute_input": "2024-07-24T06:28:50.780686Z",
     "iopub.status.busy": "2024-07-24T06:28:50.779656Z",
     "iopub.status.idle": "2024-07-24T06:28:54.629748Z",
     "shell.execute_reply": "2024-07-24T06:28:54.628656Z",
     "shell.execute_reply.started": "2024-07-24T06:28:50.780638Z"
    }
   },
   "outputs": [
    {
     "ename": "FileNotFoundError",
     "evalue": "[Errno 2] No such file or directory: '/kaggle/input/digit-recognizer/train.csv'",
     "output_type": "error",
     "traceback": [
      "\u001b[1;31m---------------------------------------------------------------------------\u001b[0m",
      "\u001b[1;31mFileNotFoundError\u001b[0m                         Traceback (most recent call last)",
      "Input \u001b[1;32mIn [2]\u001b[0m, in \u001b[0;36m<cell line: 1>\u001b[1;34m()\u001b[0m\n\u001b[1;32m----> 1\u001b[0m df \u001b[38;5;241m=\u001b[39m \u001b[43mpd\u001b[49m\u001b[38;5;241;43m.\u001b[39;49m\u001b[43mread_csv\u001b[49m\u001b[43m(\u001b[49m\u001b[38;5;124;43mr\u001b[39;49m\u001b[38;5;124;43m\"\u001b[39;49m\u001b[38;5;124;43m/kaggle/input/digit-recognizer/train.csv\u001b[39;49m\u001b[38;5;124;43m\"\u001b[39;49m\u001b[43m)\u001b[49m\n",
      "File \u001b[1;32mE:\\data_science_apps\\lib\\site-packages\\pandas\\util\\_decorators.py:311\u001b[0m, in \u001b[0;36mdeprecate_nonkeyword_arguments.<locals>.decorate.<locals>.wrapper\u001b[1;34m(*args, **kwargs)\u001b[0m\n\u001b[0;32m    305\u001b[0m \u001b[38;5;28;01mif\u001b[39;00m \u001b[38;5;28mlen\u001b[39m(args) \u001b[38;5;241m>\u001b[39m num_allow_args:\n\u001b[0;32m    306\u001b[0m     warnings\u001b[38;5;241m.\u001b[39mwarn(\n\u001b[0;32m    307\u001b[0m         msg\u001b[38;5;241m.\u001b[39mformat(arguments\u001b[38;5;241m=\u001b[39marguments),\n\u001b[0;32m    308\u001b[0m         \u001b[38;5;167;01mFutureWarning\u001b[39;00m,\n\u001b[0;32m    309\u001b[0m         stacklevel\u001b[38;5;241m=\u001b[39mstacklevel,\n\u001b[0;32m    310\u001b[0m     )\n\u001b[1;32m--> 311\u001b[0m \u001b[38;5;28;01mreturn\u001b[39;00m func(\u001b[38;5;241m*\u001b[39margs, \u001b[38;5;241m*\u001b[39m\u001b[38;5;241m*\u001b[39mkwargs)\n",
      "File \u001b[1;32mE:\\data_science_apps\\lib\\site-packages\\pandas\\io\\parsers\\readers.py:680\u001b[0m, in \u001b[0;36mread_csv\u001b[1;34m(filepath_or_buffer, sep, delimiter, header, names, index_col, usecols, squeeze, prefix, mangle_dupe_cols, dtype, engine, converters, true_values, false_values, skipinitialspace, skiprows, skipfooter, nrows, na_values, keep_default_na, na_filter, verbose, skip_blank_lines, parse_dates, infer_datetime_format, keep_date_col, date_parser, dayfirst, cache_dates, iterator, chunksize, compression, thousands, decimal, lineterminator, quotechar, quoting, doublequote, escapechar, comment, encoding, encoding_errors, dialect, error_bad_lines, warn_bad_lines, on_bad_lines, delim_whitespace, low_memory, memory_map, float_precision, storage_options)\u001b[0m\n\u001b[0;32m    665\u001b[0m kwds_defaults \u001b[38;5;241m=\u001b[39m _refine_defaults_read(\n\u001b[0;32m    666\u001b[0m     dialect,\n\u001b[0;32m    667\u001b[0m     delimiter,\n\u001b[1;32m   (...)\u001b[0m\n\u001b[0;32m    676\u001b[0m     defaults\u001b[38;5;241m=\u001b[39m{\u001b[38;5;124m\"\u001b[39m\u001b[38;5;124mdelimiter\u001b[39m\u001b[38;5;124m\"\u001b[39m: \u001b[38;5;124m\"\u001b[39m\u001b[38;5;124m,\u001b[39m\u001b[38;5;124m\"\u001b[39m},\n\u001b[0;32m    677\u001b[0m )\n\u001b[0;32m    678\u001b[0m kwds\u001b[38;5;241m.\u001b[39mupdate(kwds_defaults)\n\u001b[1;32m--> 680\u001b[0m \u001b[38;5;28;01mreturn\u001b[39;00m \u001b[43m_read\u001b[49m\u001b[43m(\u001b[49m\u001b[43mfilepath_or_buffer\u001b[49m\u001b[43m,\u001b[49m\u001b[43m \u001b[49m\u001b[43mkwds\u001b[49m\u001b[43m)\u001b[49m\n",
      "File \u001b[1;32mE:\\data_science_apps\\lib\\site-packages\\pandas\\io\\parsers\\readers.py:575\u001b[0m, in \u001b[0;36m_read\u001b[1;34m(filepath_or_buffer, kwds)\u001b[0m\n\u001b[0;32m    572\u001b[0m _validate_names(kwds\u001b[38;5;241m.\u001b[39mget(\u001b[38;5;124m\"\u001b[39m\u001b[38;5;124mnames\u001b[39m\u001b[38;5;124m\"\u001b[39m, \u001b[38;5;28;01mNone\u001b[39;00m))\n\u001b[0;32m    574\u001b[0m \u001b[38;5;66;03m# Create the parser.\u001b[39;00m\n\u001b[1;32m--> 575\u001b[0m parser \u001b[38;5;241m=\u001b[39m TextFileReader(filepath_or_buffer, \u001b[38;5;241m*\u001b[39m\u001b[38;5;241m*\u001b[39mkwds)\n\u001b[0;32m    577\u001b[0m \u001b[38;5;28;01mif\u001b[39;00m chunksize \u001b[38;5;129;01mor\u001b[39;00m iterator:\n\u001b[0;32m    578\u001b[0m     \u001b[38;5;28;01mreturn\u001b[39;00m parser\n",
      "File \u001b[1;32mE:\\data_science_apps\\lib\\site-packages\\pandas\\io\\parsers\\readers.py:934\u001b[0m, in \u001b[0;36mTextFileReader.__init__\u001b[1;34m(self, f, engine, **kwds)\u001b[0m\n\u001b[0;32m    931\u001b[0m     \u001b[38;5;28mself\u001b[39m\u001b[38;5;241m.\u001b[39moptions[\u001b[38;5;124m\"\u001b[39m\u001b[38;5;124mhas_index_names\u001b[39m\u001b[38;5;124m\"\u001b[39m] \u001b[38;5;241m=\u001b[39m kwds[\u001b[38;5;124m\"\u001b[39m\u001b[38;5;124mhas_index_names\u001b[39m\u001b[38;5;124m\"\u001b[39m]\n\u001b[0;32m    933\u001b[0m \u001b[38;5;28mself\u001b[39m\u001b[38;5;241m.\u001b[39mhandles: IOHandles \u001b[38;5;241m|\u001b[39m \u001b[38;5;28;01mNone\u001b[39;00m \u001b[38;5;241m=\u001b[39m \u001b[38;5;28;01mNone\u001b[39;00m\n\u001b[1;32m--> 934\u001b[0m \u001b[38;5;28mself\u001b[39m\u001b[38;5;241m.\u001b[39m_engine \u001b[38;5;241m=\u001b[39m \u001b[38;5;28;43mself\u001b[39;49m\u001b[38;5;241;43m.\u001b[39;49m\u001b[43m_make_engine\u001b[49m\u001b[43m(\u001b[49m\u001b[43mf\u001b[49m\u001b[43m,\u001b[49m\u001b[43m \u001b[49m\u001b[38;5;28;43mself\u001b[39;49m\u001b[38;5;241;43m.\u001b[39;49m\u001b[43mengine\u001b[49m\u001b[43m)\u001b[49m\n",
      "File \u001b[1;32mE:\\data_science_apps\\lib\\site-packages\\pandas\\io\\parsers\\readers.py:1218\u001b[0m, in \u001b[0;36mTextFileReader._make_engine\u001b[1;34m(self, f, engine)\u001b[0m\n\u001b[0;32m   1214\u001b[0m     mode \u001b[38;5;241m=\u001b[39m \u001b[38;5;124m\"\u001b[39m\u001b[38;5;124mrb\u001b[39m\u001b[38;5;124m\"\u001b[39m\n\u001b[0;32m   1215\u001b[0m \u001b[38;5;66;03m# error: No overload variant of \"get_handle\" matches argument types\u001b[39;00m\n\u001b[0;32m   1216\u001b[0m \u001b[38;5;66;03m# \"Union[str, PathLike[str], ReadCsvBuffer[bytes], ReadCsvBuffer[str]]\"\u001b[39;00m\n\u001b[0;32m   1217\u001b[0m \u001b[38;5;66;03m# , \"str\", \"bool\", \"Any\", \"Any\", \"Any\", \"Any\", \"Any\"\u001b[39;00m\n\u001b[1;32m-> 1218\u001b[0m \u001b[38;5;28mself\u001b[39m\u001b[38;5;241m.\u001b[39mhandles \u001b[38;5;241m=\u001b[39m \u001b[43mget_handle\u001b[49m\u001b[43m(\u001b[49m\u001b[43m  \u001b[49m\u001b[38;5;66;43;03m# type: ignore[call-overload]\u001b[39;49;00m\n\u001b[0;32m   1219\u001b[0m \u001b[43m    \u001b[49m\u001b[43mf\u001b[49m\u001b[43m,\u001b[49m\n\u001b[0;32m   1220\u001b[0m \u001b[43m    \u001b[49m\u001b[43mmode\u001b[49m\u001b[43m,\u001b[49m\n\u001b[0;32m   1221\u001b[0m \u001b[43m    \u001b[49m\u001b[43mencoding\u001b[49m\u001b[38;5;241;43m=\u001b[39;49m\u001b[38;5;28;43mself\u001b[39;49m\u001b[38;5;241;43m.\u001b[39;49m\u001b[43moptions\u001b[49m\u001b[38;5;241;43m.\u001b[39;49m\u001b[43mget\u001b[49m\u001b[43m(\u001b[49m\u001b[38;5;124;43m\"\u001b[39;49m\u001b[38;5;124;43mencoding\u001b[39;49m\u001b[38;5;124;43m\"\u001b[39;49m\u001b[43m,\u001b[49m\u001b[43m \u001b[49m\u001b[38;5;28;43;01mNone\u001b[39;49;00m\u001b[43m)\u001b[49m\u001b[43m,\u001b[49m\n\u001b[0;32m   1222\u001b[0m \u001b[43m    \u001b[49m\u001b[43mcompression\u001b[49m\u001b[38;5;241;43m=\u001b[39;49m\u001b[38;5;28;43mself\u001b[39;49m\u001b[38;5;241;43m.\u001b[39;49m\u001b[43moptions\u001b[49m\u001b[38;5;241;43m.\u001b[39;49m\u001b[43mget\u001b[49m\u001b[43m(\u001b[49m\u001b[38;5;124;43m\"\u001b[39;49m\u001b[38;5;124;43mcompression\u001b[39;49m\u001b[38;5;124;43m\"\u001b[39;49m\u001b[43m,\u001b[49m\u001b[43m \u001b[49m\u001b[38;5;28;43;01mNone\u001b[39;49;00m\u001b[43m)\u001b[49m\u001b[43m,\u001b[49m\n\u001b[0;32m   1223\u001b[0m \u001b[43m    \u001b[49m\u001b[43mmemory_map\u001b[49m\u001b[38;5;241;43m=\u001b[39;49m\u001b[38;5;28;43mself\u001b[39;49m\u001b[38;5;241;43m.\u001b[39;49m\u001b[43moptions\u001b[49m\u001b[38;5;241;43m.\u001b[39;49m\u001b[43mget\u001b[49m\u001b[43m(\u001b[49m\u001b[38;5;124;43m\"\u001b[39;49m\u001b[38;5;124;43mmemory_map\u001b[39;49m\u001b[38;5;124;43m\"\u001b[39;49m\u001b[43m,\u001b[49m\u001b[43m \u001b[49m\u001b[38;5;28;43;01mFalse\u001b[39;49;00m\u001b[43m)\u001b[49m\u001b[43m,\u001b[49m\n\u001b[0;32m   1224\u001b[0m \u001b[43m    \u001b[49m\u001b[43mis_text\u001b[49m\u001b[38;5;241;43m=\u001b[39;49m\u001b[43mis_text\u001b[49m\u001b[43m,\u001b[49m\n\u001b[0;32m   1225\u001b[0m \u001b[43m    \u001b[49m\u001b[43merrors\u001b[49m\u001b[38;5;241;43m=\u001b[39;49m\u001b[38;5;28;43mself\u001b[39;49m\u001b[38;5;241;43m.\u001b[39;49m\u001b[43moptions\u001b[49m\u001b[38;5;241;43m.\u001b[39;49m\u001b[43mget\u001b[49m\u001b[43m(\u001b[49m\u001b[38;5;124;43m\"\u001b[39;49m\u001b[38;5;124;43mencoding_errors\u001b[39;49m\u001b[38;5;124;43m\"\u001b[39;49m\u001b[43m,\u001b[49m\u001b[43m \u001b[49m\u001b[38;5;124;43m\"\u001b[39;49m\u001b[38;5;124;43mstrict\u001b[39;49m\u001b[38;5;124;43m\"\u001b[39;49m\u001b[43m)\u001b[49m\u001b[43m,\u001b[49m\n\u001b[0;32m   1226\u001b[0m \u001b[43m    \u001b[49m\u001b[43mstorage_options\u001b[49m\u001b[38;5;241;43m=\u001b[39;49m\u001b[38;5;28;43mself\u001b[39;49m\u001b[38;5;241;43m.\u001b[39;49m\u001b[43moptions\u001b[49m\u001b[38;5;241;43m.\u001b[39;49m\u001b[43mget\u001b[49m\u001b[43m(\u001b[49m\u001b[38;5;124;43m\"\u001b[39;49m\u001b[38;5;124;43mstorage_options\u001b[39;49m\u001b[38;5;124;43m\"\u001b[39;49m\u001b[43m,\u001b[49m\u001b[43m \u001b[49m\u001b[38;5;28;43;01mNone\u001b[39;49;00m\u001b[43m)\u001b[49m\u001b[43m,\u001b[49m\n\u001b[0;32m   1227\u001b[0m \u001b[43m\u001b[49m\u001b[43m)\u001b[49m\n\u001b[0;32m   1228\u001b[0m \u001b[38;5;28;01massert\u001b[39;00m \u001b[38;5;28mself\u001b[39m\u001b[38;5;241m.\u001b[39mhandles \u001b[38;5;129;01mis\u001b[39;00m \u001b[38;5;129;01mnot\u001b[39;00m \u001b[38;5;28;01mNone\u001b[39;00m\n\u001b[0;32m   1229\u001b[0m f \u001b[38;5;241m=\u001b[39m \u001b[38;5;28mself\u001b[39m\u001b[38;5;241m.\u001b[39mhandles\u001b[38;5;241m.\u001b[39mhandle\n",
      "File \u001b[1;32mE:\\data_science_apps\\lib\\site-packages\\pandas\\io\\common.py:786\u001b[0m, in \u001b[0;36mget_handle\u001b[1;34m(path_or_buf, mode, encoding, compression, memory_map, is_text, errors, storage_options)\u001b[0m\n\u001b[0;32m    781\u001b[0m \u001b[38;5;28;01melif\u001b[39;00m \u001b[38;5;28misinstance\u001b[39m(handle, \u001b[38;5;28mstr\u001b[39m):\n\u001b[0;32m    782\u001b[0m     \u001b[38;5;66;03m# Check whether the filename is to be opened in binary mode.\u001b[39;00m\n\u001b[0;32m    783\u001b[0m     \u001b[38;5;66;03m# Binary mode does not support 'encoding' and 'newline'.\u001b[39;00m\n\u001b[0;32m    784\u001b[0m     \u001b[38;5;28;01mif\u001b[39;00m ioargs\u001b[38;5;241m.\u001b[39mencoding \u001b[38;5;129;01mand\u001b[39;00m \u001b[38;5;124m\"\u001b[39m\u001b[38;5;124mb\u001b[39m\u001b[38;5;124m\"\u001b[39m \u001b[38;5;129;01mnot\u001b[39;00m \u001b[38;5;129;01min\u001b[39;00m ioargs\u001b[38;5;241m.\u001b[39mmode:\n\u001b[0;32m    785\u001b[0m         \u001b[38;5;66;03m# Encoding\u001b[39;00m\n\u001b[1;32m--> 786\u001b[0m         handle \u001b[38;5;241m=\u001b[39m \u001b[38;5;28;43mopen\u001b[39;49m\u001b[43m(\u001b[49m\n\u001b[0;32m    787\u001b[0m \u001b[43m            \u001b[49m\u001b[43mhandle\u001b[49m\u001b[43m,\u001b[49m\n\u001b[0;32m    788\u001b[0m \u001b[43m            \u001b[49m\u001b[43mioargs\u001b[49m\u001b[38;5;241;43m.\u001b[39;49m\u001b[43mmode\u001b[49m\u001b[43m,\u001b[49m\n\u001b[0;32m    789\u001b[0m \u001b[43m            \u001b[49m\u001b[43mencoding\u001b[49m\u001b[38;5;241;43m=\u001b[39;49m\u001b[43mioargs\u001b[49m\u001b[38;5;241;43m.\u001b[39;49m\u001b[43mencoding\u001b[49m\u001b[43m,\u001b[49m\n\u001b[0;32m    790\u001b[0m \u001b[43m            \u001b[49m\u001b[43merrors\u001b[49m\u001b[38;5;241;43m=\u001b[39;49m\u001b[43merrors\u001b[49m\u001b[43m,\u001b[49m\n\u001b[0;32m    791\u001b[0m \u001b[43m            \u001b[49m\u001b[43mnewline\u001b[49m\u001b[38;5;241;43m=\u001b[39;49m\u001b[38;5;124;43m\"\u001b[39;49m\u001b[38;5;124;43m\"\u001b[39;49m\u001b[43m,\u001b[49m\n\u001b[0;32m    792\u001b[0m \u001b[43m        \u001b[49m\u001b[43m)\u001b[49m\n\u001b[0;32m    793\u001b[0m     \u001b[38;5;28;01melse\u001b[39;00m:\n\u001b[0;32m    794\u001b[0m         \u001b[38;5;66;03m# Binary mode\u001b[39;00m\n\u001b[0;32m    795\u001b[0m         handle \u001b[38;5;241m=\u001b[39m \u001b[38;5;28mopen\u001b[39m(handle, ioargs\u001b[38;5;241m.\u001b[39mmode)\n",
      "\u001b[1;31mFileNotFoundError\u001b[0m: [Errno 2] No such file or directory: '/kaggle/input/digit-recognizer/train.csv'"
     ]
    }
   ],
   "source": [
    "df = pd.read_csv(r\"/kaggle/input/digit-recognizer/train.csv\")"
   ]
  },
  {
   "cell_type": "code",
   "execution_count": 3,
   "metadata": {
    "execution": {
     "iopub.execute_input": "2024-07-24T06:29:31.210232Z",
     "iopub.status.busy": "2024-07-24T06:29:31.209776Z",
     "iopub.status.idle": "2024-07-24T06:29:31.217881Z",
     "shell.execute_reply": "2024-07-24T06:29:31.216765Z",
     "shell.execute_reply.started": "2024-07-24T06:29:31.210200Z"
    }
   },
   "outputs": [
    {
     "data": {
      "text/plain": [
       "(42000, 785)"
      ]
     },
     "execution_count": 3,
     "metadata": {},
     "output_type": "execute_result"
    }
   ],
   "source": [
    "df.shape"
   ]
  },
  {
   "cell_type": "code",
   "execution_count": 4,
   "metadata": {
    "execution": {
     "iopub.execute_input": "2024-07-24T06:29:40.543349Z",
     "iopub.status.busy": "2024-07-24T06:29:40.542837Z",
     "iopub.status.idle": "2024-07-24T06:29:40.581268Z",
     "shell.execute_reply": "2024-07-24T06:29:40.580037Z",
     "shell.execute_reply.started": "2024-07-24T06:29:40.543308Z"
    }
   },
   "outputs": [
    {
     "data": {
      "text/html": [
       "<div>\n",
       "<style scoped>\n",
       "    .dataframe tbody tr th:only-of-type {\n",
       "        vertical-align: middle;\n",
       "    }\n",
       "\n",
       "    .dataframe tbody tr th {\n",
       "        vertical-align: top;\n",
       "    }\n",
       "\n",
       "    .dataframe thead th {\n",
       "        text-align: right;\n",
       "    }\n",
       "</style>\n",
       "<table border=\"1\" class=\"dataframe\">\n",
       "  <thead>\n",
       "    <tr style=\"text-align: right;\">\n",
       "      <th></th>\n",
       "      <th>label</th>\n",
       "      <th>pixel0</th>\n",
       "      <th>pixel1</th>\n",
       "      <th>pixel2</th>\n",
       "      <th>pixel3</th>\n",
       "      <th>pixel4</th>\n",
       "      <th>pixel5</th>\n",
       "      <th>pixel6</th>\n",
       "      <th>pixel7</th>\n",
       "      <th>pixel8</th>\n",
       "      <th>...</th>\n",
       "      <th>pixel774</th>\n",
       "      <th>pixel775</th>\n",
       "      <th>pixel776</th>\n",
       "      <th>pixel777</th>\n",
       "      <th>pixel778</th>\n",
       "      <th>pixel779</th>\n",
       "      <th>pixel780</th>\n",
       "      <th>pixel781</th>\n",
       "      <th>pixel782</th>\n",
       "      <th>pixel783</th>\n",
       "    </tr>\n",
       "  </thead>\n",
       "  <tbody>\n",
       "    <tr>\n",
       "      <th>5604</th>\n",
       "      <td>8</td>\n",
       "      <td>0</td>\n",
       "      <td>0</td>\n",
       "      <td>0</td>\n",
       "      <td>0</td>\n",
       "      <td>0</td>\n",
       "      <td>0</td>\n",
       "      <td>0</td>\n",
       "      <td>0</td>\n",
       "      <td>0</td>\n",
       "      <td>...</td>\n",
       "      <td>0</td>\n",
       "      <td>0</td>\n",
       "      <td>0</td>\n",
       "      <td>0</td>\n",
       "      <td>0</td>\n",
       "      <td>0</td>\n",
       "      <td>0</td>\n",
       "      <td>0</td>\n",
       "      <td>0</td>\n",
       "      <td>0</td>\n",
       "    </tr>\n",
       "    <tr>\n",
       "      <th>5838</th>\n",
       "      <td>3</td>\n",
       "      <td>0</td>\n",
       "      <td>0</td>\n",
       "      <td>0</td>\n",
       "      <td>0</td>\n",
       "      <td>0</td>\n",
       "      <td>0</td>\n",
       "      <td>0</td>\n",
       "      <td>0</td>\n",
       "      <td>0</td>\n",
       "      <td>...</td>\n",
       "      <td>0</td>\n",
       "      <td>0</td>\n",
       "      <td>0</td>\n",
       "      <td>0</td>\n",
       "      <td>0</td>\n",
       "      <td>0</td>\n",
       "      <td>0</td>\n",
       "      <td>0</td>\n",
       "      <td>0</td>\n",
       "      <td>0</td>\n",
       "    </tr>\n",
       "    <tr>\n",
       "      <th>12445</th>\n",
       "      <td>2</td>\n",
       "      <td>0</td>\n",
       "      <td>0</td>\n",
       "      <td>0</td>\n",
       "      <td>0</td>\n",
       "      <td>0</td>\n",
       "      <td>0</td>\n",
       "      <td>0</td>\n",
       "      <td>0</td>\n",
       "      <td>0</td>\n",
       "      <td>...</td>\n",
       "      <td>0</td>\n",
       "      <td>0</td>\n",
       "      <td>0</td>\n",
       "      <td>0</td>\n",
       "      <td>0</td>\n",
       "      <td>0</td>\n",
       "      <td>0</td>\n",
       "      <td>0</td>\n",
       "      <td>0</td>\n",
       "      <td>0</td>\n",
       "    </tr>\n",
       "    <tr>\n",
       "      <th>26204</th>\n",
       "      <td>4</td>\n",
       "      <td>0</td>\n",
       "      <td>0</td>\n",
       "      <td>0</td>\n",
       "      <td>0</td>\n",
       "      <td>0</td>\n",
       "      <td>0</td>\n",
       "      <td>0</td>\n",
       "      <td>0</td>\n",
       "      <td>0</td>\n",
       "      <td>...</td>\n",
       "      <td>0</td>\n",
       "      <td>0</td>\n",
       "      <td>0</td>\n",
       "      <td>0</td>\n",
       "      <td>0</td>\n",
       "      <td>0</td>\n",
       "      <td>0</td>\n",
       "      <td>0</td>\n",
       "      <td>0</td>\n",
       "      <td>0</td>\n",
       "    </tr>\n",
       "    <tr>\n",
       "      <th>33272</th>\n",
       "      <td>5</td>\n",
       "      <td>0</td>\n",
       "      <td>0</td>\n",
       "      <td>0</td>\n",
       "      <td>0</td>\n",
       "      <td>0</td>\n",
       "      <td>0</td>\n",
       "      <td>0</td>\n",
       "      <td>0</td>\n",
       "      <td>0</td>\n",
       "      <td>...</td>\n",
       "      <td>0</td>\n",
       "      <td>0</td>\n",
       "      <td>0</td>\n",
       "      <td>0</td>\n",
       "      <td>0</td>\n",
       "      <td>0</td>\n",
       "      <td>0</td>\n",
       "      <td>0</td>\n",
       "      <td>0</td>\n",
       "      <td>0</td>\n",
       "    </tr>\n",
       "  </tbody>\n",
       "</table>\n",
       "<p>5 rows × 785 columns</p>\n",
       "</div>"
      ],
      "text/plain": [
       "       label  pixel0  pixel1  pixel2  pixel3  pixel4  pixel5  pixel6  pixel7  \\\n",
       "5604       8       0       0       0       0       0       0       0       0   \n",
       "5838       3       0       0       0       0       0       0       0       0   \n",
       "12445      2       0       0       0       0       0       0       0       0   \n",
       "26204      4       0       0       0       0       0       0       0       0   \n",
       "33272      5       0       0       0       0       0       0       0       0   \n",
       "\n",
       "       pixel8  ...  pixel774  pixel775  pixel776  pixel777  pixel778  \\\n",
       "5604        0  ...         0         0         0         0         0   \n",
       "5838        0  ...         0         0         0         0         0   \n",
       "12445       0  ...         0         0         0         0         0   \n",
       "26204       0  ...         0         0         0         0         0   \n",
       "33272       0  ...         0         0         0         0         0   \n",
       "\n",
       "       pixel779  pixel780  pixel781  pixel782  pixel783  \n",
       "5604          0         0         0         0         0  \n",
       "5838          0         0         0         0         0  \n",
       "12445         0         0         0         0         0  \n",
       "26204         0         0         0         0         0  \n",
       "33272         0         0         0         0         0  \n",
       "\n",
       "[5 rows x 785 columns]"
      ]
     },
     "execution_count": 4,
     "metadata": {},
     "output_type": "execute_result"
    }
   ],
   "source": [
    "df.sample(5)"
   ]
  },
  {
   "cell_type": "code",
   "execution_count": 7,
   "metadata": {
    "execution": {
     "iopub.execute_input": "2024-07-24T06:32:00.639299Z",
     "iopub.status.busy": "2024-07-24T06:32:00.638894Z",
     "iopub.status.idle": "2024-07-24T06:32:00.649215Z",
     "shell.execute_reply": "2024-07-24T06:32:00.648006Z",
     "shell.execute_reply.started": "2024-07-24T06:32:00.639268Z"
    }
   },
   "outputs": [
    {
     "data": {
      "text/plain": [
       "array([[  0,   0,   0,   0,   0,   0,   0,   0,   0,   0,   0,   0,   0,\n",
       "          0,   0,   0,   0,   0,   0,   0,   0,   0,   0,   0,   0,   0,\n",
       "          0,   0],\n",
       "       [  0,   0,   0,   0,   0,   0,   0,   0,   0,   0,   0,   0,   0,\n",
       "          0,   0,   0,   0,   0,   0,   0,   0,   0,   0,   0,   0,   0,\n",
       "          0,   0],\n",
       "       [  0,   0,   0,   0,   0,   0,   0,   0,   0,   0,   0,   0,   0,\n",
       "          0,   0,   0,   0,   0,   0,   0,   0,   0,   0,   0,   0,   0,\n",
       "          0,   0],\n",
       "       [  0,   0,   0,   0,   0,   0,   0,   0,   0,   0,   0,   0,   0,\n",
       "          0,   0,   0,   0,   0,   0,   0,   0,   0,   0,   0,   0,   0,\n",
       "          0,   0],\n",
       "       [  0,   0,   0,   0,   0,   0,   0,   0,   0,   0,   0,   0,   0,\n",
       "          0,   0,   0,   0,   0,   0,   0,   0,   0,   0,   0,   0,   0,\n",
       "          0,   0],\n",
       "       [  0,   0,   0,   0,   0,   0,   6,  76, 134, 200, 249, 202, 174,\n",
       "        114,  81,  13,   2,   0,   0,   0,   0,   0,   0,   0,   0,   0,\n",
       "          0,   0],\n",
       "       [  0,   0,   0,   0,   0,   0, 157, 254, 254, 254, 232, 231, 254,\n",
       "        254, 255, 254, 194, 162,  17,   0,   0,   0,   0,   0,   0,   0,\n",
       "          0,   0],\n",
       "       [  0,   0,   0,   0,   0,   0,  57, 217, 254, 169,   5,   1,  62,\n",
       "        137, 150, 218, 239, 254, 206,  34,   0,   0,   0,   0,   0,   0,\n",
       "          0,   0],\n",
       "       [  0,   0,   0,   0,   0,   0,   0,  21, 112,  30,   0,   0,   0,\n",
       "          0,   0,   0,  38, 245, 254, 125,   0,   0,   0,   0,   0,   0,\n",
       "          0,   0],\n",
       "       [  0,   0,   0,   0,   0,   0,   0,   0,   0,   0,   0,   0,   0,\n",
       "          0,   0,  69, 170, 254, 250,  32,   0,   0,   0,   0,   0,   0,\n",
       "          0,   0],\n",
       "       [  0,   0,   0,   0,   0,   0,   0,   0,   0,   0,   0,   0,   0,\n",
       "         55, 202, 251, 254, 254, 126,   0,   0,   0,   0,   0,   0,   0,\n",
       "          0,   0],\n",
       "       [  0,   0,   0,   0,   0,   0,   0,   0,   0,  23,  86, 164, 223,\n",
       "        253, 254, 254, 251, 125,   2,   0,   0,   0,   0,   0,   0,   0,\n",
       "          0,   0],\n",
       "       [  0,   0,   0,   0,   0,   0,   0,   0,  35, 245, 255, 254, 254,\n",
       "        254, 255, 254, 115,  98,  69,   0,   0,   0,   0,   0,   0,   0,\n",
       "          0,   0],\n",
       "       [  0,   0,   0,   0,   0,   0,   0,   0,  44, 251, 254, 254, 254,\n",
       "        254, 254, 254, 254, 254, 252, 184, 110,  96,  48,   0,   0,   0,\n",
       "          0,   0],\n",
       "       [  0,   0,   0,   0,   0,   0,   0,   0,   0, 161, 214, 214, 214,\n",
       "        205, 146, 162, 214, 214, 215, 254, 254, 254, 225,  63,   0,   0,\n",
       "          0,   0],\n",
       "       [  0,   0,   0,   0,   0,   0,   0,   0,   0,   0,   0,   0,   0,\n",
       "          0,   0,   0,   0,   0,   2,  83, 254, 254, 254, 143,   0,   0,\n",
       "          0,   0],\n",
       "       [  0,   0,   0,   0,   0,   0,   0,   0,   0,   0,   0,   0,   0,\n",
       "          0,   0,   0,   0,   0,   3, 106, 254, 254, 222,  19,   0,   0,\n",
       "          0,   0],\n",
       "       [  0,   0,   0,   0,   0,   0,   0,   0,   0,   0,   0,   0,   0,\n",
       "          0,   0,   0,   0,  48, 186, 254, 254, 254,  72,   0,   0,   0,\n",
       "          0,   0],\n",
       "       [  0,   0,   0,   0,   0,   0,   0,   0,   0,   0,   0,   0,   0,\n",
       "          0,   4,  77, 156, 253, 254, 254, 236, 137,   1,   0,   0,   0,\n",
       "          0,   0],\n",
       "       [  0,   0,   0,   0,   0,   0,   0,   0,   0,   0,   0,   0,  20,\n",
       "        111, 217, 254, 254, 254, 254, 190,   0,   0,   0,   0,   0,   0,\n",
       "          0,   0],\n",
       "       [  0,   0,   0,   0,   0,   0,   0,   0,   0,   8,  82, 166, 237,\n",
       "        254, 254, 254, 246, 146,  60,   0,   0,   0,   0,   0,   0,   0,\n",
       "          0,   0],\n",
       "       [  0,   0,   0,   0,   0,   0,   0,  21, 112, 208, 254, 254, 254,\n",
       "        254, 247, 167,  45,   0,   0,   0,   0,   0,   0,   0,   0,   0,\n",
       "          0,   0],\n",
       "       [  0,   0,   0,   0,   0,   0,   0, 187, 254, 254, 254, 254, 215,\n",
       "        137,  47,   0,   0,   0,   0,   0,   0,   0,   0,   0,   0,   0,\n",
       "          0,   0],\n",
       "       [  0,   0,   0,   0,   0,   0,   0, 126, 254, 254, 235,  55,   8,\n",
       "          0,   0,   0,   0,   0,   0,   0,   0,   0,   0,   0,   0,   0,\n",
       "          0,   0],\n",
       "       [  0,   0,   0,   0,   0,   0,   0,  81, 241,  94,   9,   0,   0,\n",
       "          0,   0,   0,   0,   0,   0,   0,   0,   0,   0,   0,   0,   0,\n",
       "          0,   0],\n",
       "       [  0,   0,   0,   0,   0,   0,   0,   0,   0,   0,   0,   0,   0,\n",
       "          0,   0,   0,   0,   0,   0,   0,   0,   0,   0,   0,   0,   0,\n",
       "          0,   0],\n",
       "       [  0,   0,   0,   0,   0,   0,   0,   0,   0,   0,   0,   0,   0,\n",
       "          0,   0,   0,   0,   0,   0,   0,   0,   0,   0,   0,   0,   0,\n",
       "          0,   0],\n",
       "       [  0,   0,   0,   0,   0,   0,   0,   0,   0,   0,   0,   0,   0,\n",
       "          0,   0,   0,   0,   0,   0,   0,   0,   0,   0,   0,   0,   0,\n",
       "          0,   0]])"
      ]
     },
     "execution_count": 7,
     "metadata": {},
     "output_type": "execute_result"
    }
   ],
   "source": [
    "df.iloc[5838,1:].values.reshape(28,28)"
   ]
  },
  {
   "cell_type": "code",
   "execution_count": 8,
   "metadata": {
    "execution": {
     "iopub.execute_input": "2024-07-24T06:32:08.335791Z",
     "iopub.status.busy": "2024-07-24T06:32:08.335404Z",
     "iopub.status.idle": "2024-07-24T06:32:08.537523Z",
     "shell.execute_reply": "2024-07-24T06:32:08.536481Z",
     "shell.execute_reply.started": "2024-07-24T06:32:08.335760Z"
    }
   },
   "outputs": [
    {
     "data": {
      "text/plain": [
       "<matplotlib.image.AxesImage at 0x7fbfc6005690>"
      ]
     },
     "execution_count": 8,
     "metadata": {},
     "output_type": "execute_result"
    },
    {
     "data": {
      "image/png": "[encoded data removed]",
      "text/plain": [
       "<Figure size 640x480 with 1 Axes>"
      ]
     },
     "metadata": {},
     "output_type": "display_data"
    }
   ],
   "source": [
    "import matplotlib.pyplot as plt\n",
    "plt.imshow(df.iloc[5838,1:].values.reshape(28,28))"
   ]
  },
  {
   "cell_type": "markdown",
   "metadata": {},
   "source": [
    "## ml algo without pca"
   ]
  },
  {
   "cell_type": "code",
   "execution_count": 9,
   "metadata": {
    "execution": {
     "iopub.execute_input": "2024-07-24T06:34:10.696697Z",
     "iopub.status.busy": "2024-07-24T06:34:10.695810Z",
     "iopub.status.idle": "2024-07-24T06:34:10.702027Z",
     "shell.execute_reply": "2024-07-24T06:34:10.700870Z",
     "shell.execute_reply.started": "2024-07-24T06:34:10.696661Z"
    }
   },
   "outputs": [],
   "source": [
    "x = df.iloc[:,1:]\n",
    "y = df.iloc[:,0]"
   ]
  },
  {
   "cell_type": "code",
   "execution_count": 10,
   "metadata": {
    "execution": {
     "iopub.execute_input": "2024-07-24T06:35:06.209861Z",
     "iopub.status.busy": "2024-07-24T06:35:06.208999Z",
     "iopub.status.idle": "2024-07-24T06:35:06.442497Z",
     "shell.execute_reply": "2024-07-24T06:35:06.441637Z",
     "shell.execute_reply.started": "2024-07-24T06:35:06.209821Z"
    }
   },
   "outputs": [],
   "source": [
    "from sklearn.model_selection import train_test_split\n",
    "xtrain, xtest, ytrain, ytest = train_test_split(x,y, test_size = 0.2, random_state=42)"
   ]
  },
  {
   "cell_type": "code",
   "execution_count": 11,
   "metadata": {
    "execution": {
     "iopub.execute_input": "2024-07-24T06:35:12.984748Z",
     "iopub.status.busy": "2024-07-24T06:35:12.984361Z",
     "iopub.status.idle": "2024-07-24T06:35:12.992022Z",
     "shell.execute_reply": "2024-07-24T06:35:12.990863Z",
     "shell.execute_reply.started": "2024-07-24T06:35:12.984717Z"
    }
   },
   "outputs": [
    {
     "data": {
      "text/plain": [
       "(33600, 784)"
      ]
     },
     "execution_count": 11,
     "metadata": {},
     "output_type": "execute_result"
    }
   ],
   "source": [
    "xtrain.shape"
   ]
  },
  {
   "cell_type": "code",
   "execution_count": 12,
   "metadata": {
    "execution": {
     "iopub.execute_input": "2024-07-24T06:35:56.283954Z",
     "iopub.status.busy": "2024-07-24T06:35:56.283523Z",
     "iopub.status.idle": "2024-07-24T06:35:56.442799Z",
     "shell.execute_reply": "2024-07-24T06:35:56.441903Z",
     "shell.execute_reply.started": "2024-07-24T06:35:56.283921Z"
    }
   },
   "outputs": [],
   "source": [
    "from sklearn.neighbors import KNeighborsClassifier"
   ]
  },
  {
   "cell_type": "code",
   "execution_count": 14,
   "metadata": {
    "execution": {
     "iopub.execute_input": "2024-07-24T06:37:13.985856Z",
     "iopub.status.busy": "2024-07-24T06:37:13.985456Z",
     "iopub.status.idle": "2024-07-24T06:37:14.133554Z",
     "shell.execute_reply": "2024-07-24T06:37:14.132446Z",
     "shell.execute_reply.started": "2024-07-24T06:37:13.985825Z"
    }
   },
   "outputs": [
    {
     "data": {
      "text/html": [
       "<style>#sk-container-id-1 {color: black;background-color: white;}#sk-container-id-1 pre{padding: 0;}#sk-container-id-1 div.sk-toggleable {background-color: white;}#sk-container-id-1 label.sk-toggleable__label {cursor: pointer;display: block;width: 100%;margin-bottom: 0;padding: 0.3em;box-sizing: border-box;text-align: center;}#sk-container-id-1 label.sk-toggleable__label-arrow:before {content: \"▸\";float: left;margin-right: 0.25em;color: #696969;}#sk-container-id-1 label.sk-toggleable__label-arrow:hover:before {color: black;}#sk-container-id-1 div.sk-estimator:hover label.sk-toggleable__label-arrow:before {color: black;}#sk-container-id-1 div.sk-toggleable__content {max-height: 0;max-width: 0;overflow: hidden;text-align: left;background-color: #f0f8ff;}#sk-container-id-1 div.sk-toggleable__content pre {margin: 0.2em;color: black;border-radius: 0.25em;background-color: #f0f8ff;}#sk-container-id-1 input.sk-toggleable__control:checked~div.sk-toggleable__content {max-height: 200px;max-width: 100%;overflow: auto;}#sk-container-id-1 input.sk-toggleable__control:checked~label.sk-toggleable__label-arrow:before {content: \"▾\";}#sk-container-id-1 div.sk-estimator input.sk-toggleable__control:checked~label.sk-toggleable__label {background-color: #d4ebff;}#sk-container-id-1 div.sk-label input.sk-toggleable__control:checked~label.sk-toggleable__label {background-color: #d4ebff;}#sk-container-id-1 input.sk-hidden--visually {border: 0;clip: rect(1px 1px 1px 1px);clip: rect(1px, 1px, 1px, 1px);height: 1px;margin: -1px;overflow: hidden;padding: 0;position: absolute;width: 1px;}#sk-container-id-1 div.sk-estimator {font-family: monospace;background-color: #f0f8ff;border: 1px dotted black;border-radius: 0.25em;box-sizing: border-box;margin-bottom: 0.5em;}#sk-container-id-1 div.sk-estimator:hover {background-color: #d4ebff;}#sk-container-id-1 div.sk-parallel-item::after {content: \"\";width: 100%;border-bottom: 1px solid gray;flex-grow: 1;}#sk-container-id-1 div.sk-label:hover label.sk-toggleable__label {background-color: #d4ebff;}#sk-container-id-1 div.sk-serial::before {content: \"\";position: absolute;border-left: 1px solid gray;box-sizing: border-box;top: 0;bottom: 0;left: 50%;z-index: 0;}#sk-container-id-1 div.sk-serial {display: flex;flex-direction: column;align-items: center;background-color: white;padding-right: 0.2em;padding-left: 0.2em;position: relative;}#sk-container-id-1 div.sk-item {position: relative;z-index: 1;}#sk-container-id-1 div.sk-parallel {display: flex;align-items: stretch;justify-content: center;background-color: white;position: relative;}#sk-container-id-1 div.sk-item::before, #sk-container-id-1 div.sk-parallel-item::before {content: \"\";position: absolute;border-left: 1px solid gray;box-sizing: border-box;top: 0;bottom: 0;left: 50%;z-index: -1;}#sk-container-id-1 div.sk-parallel-item {display: flex;flex-direction: column;z-index: 1;position: relative;background-color: white;}#sk-container-id-1 div.sk-parallel-item:first-child::after {align-self: flex-end;width: 50%;}#sk-container-id-1 div.sk-parallel-item:last-child::after {align-self: flex-start;width: 50%;}#sk-container-id-1 div.sk-parallel-item:only-child::after {width: 0;}#sk-container-id-1 div.sk-dashed-wrapped {border: 1px dashed gray;margin: 0 0.4em 0.5em 0.4em;box-sizing: border-box;padding-bottom: 0.4em;background-color: white;}#sk-container-id-1 div.sk-label label {font-family: monospace;font-weight: bold;display: inline-block;line-height: 1.2em;}#sk-container-id-1 div.sk-label-container {text-align: center;}#sk-container-id-1 div.sk-container {/* jupyter's `normalize.less` sets `[hidden] { display: none; }` but bootstrap.min.css set `[hidden] { display: none !important; }` so we also need the `!important` here to be able to override the default hidden behavior on the sphinx rendered scikit-learn.org. See: https://github.com/scikit-learn/scikit-learn/issues/21755 */display: inline-block !important;position: relative;}#sk-container-id-1 div.sk-text-repr-fallback {display: none;}</style><div id=\"sk-container-id-1\" class=\"sk-top-container\"><div class=\"sk-text-repr-fallback\"><pre>KNeighborsClassifier()</pre><b>In a Jupyter environment, please rerun this cell to show the HTML representation or trust the notebook. <br />On GitHub, the HTML representation is unable to render, please try loading this page with nbviewer.org.</b></div><div class=\"sk-container\" hidden><div class=\"sk-item\"><div class=\"sk-estimator sk-toggleable\"><input class=\"sk-toggleable__control sk-hidden--visually\" id=\"sk-estimator-id-1\" type=\"checkbox\" checked><label for=\"sk-estimator-id-1\" class=\"sk-toggleable__label sk-toggleable__label-arrow\">KNeighborsClassifier</label><div class=\"sk-toggleable__content\"><pre>KNeighborsClassifier()</pre></div></div></div></div></div>"
      ],
      "text/plain": [
       "KNeighborsClassifier()"
      ]
     },
     "execution_count": 14,
     "metadata": {},
     "output_type": "execute_result"
    }
   ],
   "source": [
    "knn = KNeighborsClassifier()\n",
    "knn.fit(xtrain,ytrain)"
   ]
  },
  {
   "cell_type": "code",
   "execution_count": 15,
   "metadata": {
    "execution": {
     "iopub.execute_input": "2024-07-24T06:39:07.059405Z",
     "iopub.status.busy": "2024-07-24T06:39:07.058982Z",
     "iopub.status.idle": "2024-07-24T06:39:19.047478Z",
     "shell.execute_reply": "2024-07-24T06:39:19.046437Z",
     "shell.execute_reply.started": "2024-07-24T06:39:07.059374Z"
    }
   },
   "outputs": [
    {
     "name": "stdout",
     "output_type": "stream",
     "text": [
      "11.983298301696777\n"
     ]
    }
   ],
   "source": [
    "import time\n",
    "start = time.time()\n",
    "ypred = knn.predict(xtest)\n",
    "print(time.time()-start)"
   ]
  },
  {
   "cell_type": "code",
   "execution_count": 16,
   "metadata": {
    "execution": {
     "iopub.execute_input": "2024-07-24T06:40:04.697220Z",
     "iopub.status.busy": "2024-07-24T06:40:04.696814Z",
     "iopub.status.idle": "2024-07-24T06:40:04.706117Z",
     "shell.execute_reply": "2024-07-24T06:40:04.705006Z",
     "shell.execute_reply.started": "2024-07-24T06:40:04.697189Z"
    }
   },
   "outputs": [
    {
     "data": {
      "text/plain": [
       "0.9648809523809524"
      ]
     },
     "execution_count": 16,
     "metadata": {},
     "output_type": "execute_result"
    }
   ],
   "source": [
    "from sklearn.metrics import accuracy_score\n",
    "accuracy_score(ytest,ypred)"
   ]
  },
  {
   "cell_type": "markdown",
   "metadata": {},
   "source": [
    "## ML modelling after PCA"
   ]
  },
  {
   "cell_type": "code",
   "execution_count": 27,
   "metadata": {
    "execution": {
     "iopub.execute_input": "2024-07-24T06:49:26.998922Z",
     "iopub.status.busy": "2024-07-24T06:49:26.997857Z",
     "iopub.status.idle": "2024-07-24T06:49:27.487235Z",
     "shell.execute_reply": "2024-07-24T06:49:27.486105Z",
     "shell.execute_reply.started": "2024-07-24T06:49:26.998884Z"
    }
   },
   "outputs": [],
   "source": [
    "# step 1 - standardize\n",
    "from sklearn.preprocessing import StandardScaler\n",
    "ss = StandardScaler()\n",
    "xtrainT = ss.fit_transform(xtrain)\n",
    "xtestT = ss.transform(xtest)"
   ]
  },
  {
   "cell_type": "code",
   "execution_count": 28,
   "metadata": {
    "execution": {
     "iopub.execute_input": "2024-07-24T06:49:31.234062Z",
     "iopub.status.busy": "2024-07-24T06:49:31.233697Z",
     "iopub.status.idle": "2024-07-24T06:49:35.092564Z",
     "shell.execute_reply": "2024-07-24T06:49:35.091378Z",
     "shell.execute_reply.started": "2024-07-24T06:49:31.234033Z"
    }
   },
   "outputs": [],
   "source": [
    "from sklearn.decomposition import PCA\n",
    "pca = PCA(n_components = None)\n",
    "xtrainPC = pca.fit_transform(xtrainT)\n",
    "xtestTPC = pca.transform(xtestT)"
   ]
  },
  {
   "cell_type": "code",
   "execution_count": 29,
   "metadata": {
    "execution": {
     "iopub.execute_input": "2024-07-24T06:49:39.561560Z",
     "iopub.status.busy": "2024-07-24T06:49:39.561203Z",
     "iopub.status.idle": "2024-07-24T06:49:39.568601Z",
     "shell.execute_reply": "2024-07-24T06:49:39.567460Z",
     "shell.execute_reply.started": "2024-07-24T06:49:39.561534Z"
    }
   },
   "outputs": [
    {
     "data": {
      "text/plain": [
       "(33600, 784)"
      ]
     },
     "execution_count": 29,
     "metadata": {},
     "output_type": "execute_result"
    }
   ],
   "source": [
    "xtrainT.shape"
   ]
  },
  {
   "cell_type": "code",
   "execution_count": 30,
   "metadata": {
    "execution": {
     "iopub.execute_input": "2024-07-24T06:49:49.874405Z",
     "iopub.status.busy": "2024-07-24T06:49:49.873993Z",
     "iopub.status.idle": "2024-07-24T06:49:49.881117Z",
     "shell.execute_reply": "2024-07-24T06:49:49.880046Z",
     "shell.execute_reply.started": "2024-07-24T06:49:49.874376Z"
    }
   },
   "outputs": [
    {
     "data": {
      "text/plain": [
       "(33600, 784)"
      ]
     },
     "execution_count": 30,
     "metadata": {},
     "output_type": "execute_result"
    }
   ],
   "source": [
    "xtrainPC.shape"
   ]
  },
  {
   "cell_type": "code",
   "execution_count": 31,
   "metadata": {
    "execution": {
     "iopub.execute_input": "2024-07-24T06:49:57.305456Z",
     "iopub.status.busy": "2024-07-24T06:49:57.305101Z",
     "iopub.status.idle": "2024-07-24T06:50:01.844380Z",
     "shell.execute_reply": "2024-07-24T06:50:01.843280Z",
     "shell.execute_reply.started": "2024-07-24T06:49:57.305430Z"
    }
   },
   "outputs": [],
   "source": [
    "pca = PCA(n_components = 200)\n",
    "xtrainPC = pca.fit_transform(xtrainT)\n",
    "xtestPC = pca.transform(xtestT)"
   ]
  },
  {
   "cell_type": "code",
   "execution_count": 33,
   "metadata": {
    "execution": {
     "iopub.execute_input": "2024-07-24T06:50:02.274402Z",
     "iopub.status.busy": "2024-07-24T06:50:02.273930Z",
     "iopub.status.idle": "2024-07-24T06:50:02.281760Z",
     "shell.execute_reply": "2024-07-24T06:50:02.280450Z",
     "shell.execute_reply.started": "2024-07-24T06:50:02.274366Z"
    }
   },
   "outputs": [
    {
     "data": {
      "text/plain": [
       "(33600, 784)"
      ]
     },
     "execution_count": 33,
     "metadata": {},
     "output_type": "execute_result"
    }
   ],
   "source": [
    "xtrainT.shape"
   ]
  },
  {
   "cell_type": "code",
   "execution_count": 34,
   "metadata": {
    "execution": {
     "iopub.execute_input": "2024-07-24T06:50:18.413697Z",
     "iopub.status.busy": "2024-07-24T06:50:18.413323Z",
     "iopub.status.idle": "2024-07-24T06:50:18.420499Z",
     "shell.execute_reply": "2024-07-24T06:50:18.419448Z",
     "shell.execute_reply.started": "2024-07-24T06:50:18.413668Z"
    }
   },
   "outputs": [
    {
     "data": {
      "text/plain": [
       "(33600, 200)"
      ]
     },
     "execution_count": 34,
     "metadata": {},
     "output_type": "execute_result"
    }
   ],
   "source": [
    "xtrainPC.shape"
   ]
  },
  {
   "cell_type": "code",
   "execution_count": 36,
   "metadata": {
    "execution": {
     "iopub.execute_input": "2024-07-24T06:50:56.858912Z",
     "iopub.status.busy": "2024-07-24T06:50:56.858529Z",
     "iopub.status.idle": "2024-07-24T06:50:59.473026Z",
     "shell.execute_reply": "2024-07-24T06:50:59.471976Z",
     "shell.execute_reply.started": "2024-07-24T06:50:56.858881Z"
    }
   },
   "outputs": [
    {
     "data": {
      "text/plain": [
       "0.9502380952380952"
      ]
     },
     "execution_count": 36,
     "metadata": {},
     "output_type": "execute_result"
    }
   ],
   "source": [
    "knn = KNeighborsClassifier()\n",
    "knn.fit(xtrainPC,ytrain)\n",
    "pred = knn.predict(xtestPC)\n",
    "accuracy_score(ytest,pred)"
   ]
  },
  {
   "cell_type": "code",
   "execution_count": 38,
   "metadata": {
    "execution": {
     "iopub.execute_input": "2024-07-24T07:03:30.375837Z",
     "iopub.status.busy": "2024-07-24T07:03:30.375444Z",
     "iopub.status.idle": "2024-07-24T07:04:24.766326Z",
     "shell.execute_reply": "2024-07-24T07:04:24.765034Z",
     "shell.execute_reply.started": "2024-07-24T07:03:30.375805Z"
    }
   },
   "outputs": [
    {
     "data": {
      "text/plain": [
       "[(1, 0.2580952380952381),\n",
       " (2, 0.3233333333333333),\n",
       " (3, 0.5103571428571428),\n",
       " (4, 0.666547619047619),\n",
       " (5, 0.7376190476190476),\n",
       " (6, 0.8226190476190476),\n",
       " (7, 0.8435714285714285),\n",
       " (8, 0.8720238095238095),\n",
       " (9, 0.8866666666666667),\n",
       " (10, 0.9054761904761904),\n",
       " (11, 0.9120238095238096),\n",
       " (12, 0.9186904761904762),\n",
       " (13, 0.9276190476190476),\n",
       " (14, 0.9345238095238095),\n",
       " (15, 0.9389285714285714),\n",
       " (16, 0.9373809523809524),\n",
       " (17, 0.9402380952380952)]"
      ]
     },
     "execution_count": 38,
     "metadata": {},
     "output_type": "execute_result"
    }
   ],
   "source": [
    "lst = []\n",
    "for i in range(1,785):\n",
    "    pca = PCA(n_components = i)\n",
    "    xtrainPC = pca.fit_transform(xtrainT)\n",
    "    xtestPC = pca.transform(xtestT)\n",
    "    \n",
    "    knn = KNeighborsClassifier()\n",
    "    knn.fit(xtrainPC,ytrain)\n",
    "    pred = knn.predict(xtestPC)\n",
    "    acc = accuracy_score(ytest,pred)\n",
    "    if(len(lst) != 0 and lst[-1][1] == acc):\n",
    "        break\n",
    "    else:\n",
    "        lst.append((i, acc))\n",
    "        \n",
    "lst\n",
    "    "
   ]
  },
  {
   "cell_type": "code",
   "execution_count": null,
   "metadata": {
    "execution": {
     "iopub.execute_input": "2024-07-24T07:12:29.282139Z",
     "iopub.status.busy": "2024-07-24T07:12:29.281288Z"
    }
   },
   "outputs": [
    {
     "name": "stdout",
     "output_type": "stream",
     "text": [
      "(1, 0.25666666666666665)\n",
      "(2, 0.3242857142857143)\n",
      "(3, 0.5105952380952381)\n",
      "(4, 0.6664285714285715)\n",
      "(5, 0.7376190476190476)\n",
      "(6, 0.8227380952380953)\n",
      "(7, 0.8435714285714285)\n",
      "(8, 0.8717857142857143)\n",
      "(9, 0.8870238095238095)\n",
      "(10, 0.9058333333333334)\n",
      "(11, 0.9119047619047619)\n",
      "(12, 0.9182142857142858)\n",
      "(13, 0.9266666666666666)\n",
      "(14, 0.9341666666666667)\n",
      "(15, 0.9389285714285714)\n",
      "(16, 0.9383333333333334)\n",
      "(17, 0.9404761904761905)\n",
      "(18, 0.940952380952381)\n",
      "(19, 0.9428571428571428)\n",
      "(20, 0.944047619047619)\n",
      "(21, 0.9444047619047619)\n",
      "(22, 0.944047619047619)\n",
      "(23, 0.9438095238095238)\n",
      "(24, 0.9458333333333333)\n",
      "(25, 0.9479761904761905)\n",
      "(26, 0.9475)\n",
      "(27, 0.9473809523809524)\n",
      "(28, 0.9472619047619047)\n",
      "(29, 0.9488095238095238)\n",
      "(30, 0.9482142857142857)\n",
      "(31, 0.9511904761904761)\n",
      "(32, 0.9507142857142857)\n",
      "(33, 0.950595238095238)\n",
      "(34, 0.9497619047619048)\n",
      "(35, 0.9517857142857142)\n",
      "(36, 0.9514285714285714)\n",
      "(37, 0.9514285714285714)\n",
      "(38, 0.9513095238095238)\n",
      "(39, 0.9511904761904761)\n",
      "(40, 0.9536904761904762)\n",
      "(41, 0.9519047619047619)\n",
      "(42, 0.9528571428571428)\n",
      "(43, 0.954047619047619)\n",
      "(44, 0.9538095238095238)\n",
      "(45, 0.9536904761904762)\n",
      "(46, 0.9544047619047619)\n",
      "(47, 0.9538095238095238)\n",
      "(48, 0.9546428571428571)\n",
      "(49, 0.9534523809523809)\n",
      "(50, 0.9538095238095238)\n",
      "(51, 0.9539285714285715)\n",
      "(52, 0.954047619047619)\n",
      "(53, 0.9544047619047619)\n",
      "(54, 0.954047619047619)\n",
      "(55, 0.9552380952380952)\n",
      "(56, 0.9534523809523809)\n",
      "(57, 0.9542857142857143)\n",
      "(58, 0.954047619047619)\n",
      "(59, 0.9534523809523809)\n",
      "(60, 0.9541666666666667)\n",
      "(61, 0.9547619047619048)\n",
      "(62, 0.9551190476190476)\n",
      "(63, 0.9546428571428571)\n",
      "(64, 0.955)\n",
      "(65, 0.9551190476190476)\n",
      "(66, 0.9527380952380953)\n",
      "(67, 0.9539285714285715)\n",
      "(68, 0.9544047619047619)\n",
      "(69, 0.9544047619047619)\n",
      "(70, 0.9544047619047619)\n",
      "(71, 0.9536904761904762)\n",
      "(72, 0.9546428571428571)\n",
      "(73, 0.9548809523809524)\n",
      "(74, 0.9538095238095238)\n",
      "(75, 0.955)\n",
      "(76, 0.9536904761904762)\n",
      "(77, 0.9552380952380952)\n",
      "(78, 0.954047619047619)\n",
      "(79, 0.9538095238095238)\n",
      "(80, 0.955)\n",
      "(81, 0.9538095238095238)\n",
      "(82, 0.9548809523809524)\n",
      "(83, 0.9554761904761905)\n",
      "(84, 0.9557142857142857)\n",
      "(85, 0.9548809523809524)\n",
      "(86, 0.9542857142857143)\n",
      "(87, 0.9546428571428571)\n",
      "(88, 0.955)\n",
      "(89, 0.9558333333333333)\n",
      "(90, 0.9560714285714286)\n",
      "(91, 0.9544047619047619)\n",
      "(92, 0.9548809523809524)\n",
      "(93, 0.9542857142857143)\n",
      "(94, 0.954047619047619)\n",
      "(95, 0.9539285714285715)\n",
      "(96, 0.9538095238095238)\n",
      "(97, 0.9545238095238096)\n",
      "(98, 0.9541666666666667)\n",
      "(99, 0.9541666666666667)\n",
      "(100, 0.9539285714285715)\n",
      "(101, 0.9528571428571428)\n",
      "(102, 0.9541666666666667)\n",
      "(103, 0.9534523809523809)\n",
      "(104, 0.9532142857142857)\n",
      "(105, 0.9529761904761904)\n",
      "(106, 0.9532142857142857)\n",
      "(107, 0.9530952380952381)\n",
      "(108, 0.9528571428571428)\n",
      "(109, 0.9539285714285715)\n",
      "(110, 0.9538095238095238)\n",
      "(111, 0.9533333333333334)\n",
      "(112, 0.9532142857142857)\n",
      "(113, 0.9539285714285715)\n",
      "(114, 0.9535714285714286)\n",
      "(115, 0.9526190476190476)\n",
      "(116, 0.9535714285714286)\n",
      "(117, 0.9529761904761904)\n",
      "(118, 0.9523809523809523)\n",
      "(119, 0.9526190476190476)\n",
      "(120, 0.9527380952380953)\n",
      "(121, 0.9532142857142857)\n",
      "(122, 0.9535714285714286)\n",
      "(123, 0.9530952380952381)\n",
      "(124, 0.9522619047619048)\n",
      "(125, 0.9527380952380953)\n",
      "(126, 0.9523809523809523)\n",
      "(127, 0.9535714285714286)\n",
      "(128, 0.9533333333333334)\n",
      "(129, 0.9517857142857142)\n",
      "(130, 0.9529761904761904)\n",
      "(131, 0.9527380952380953)\n",
      "(132, 0.9529761904761904)\n",
      "(133, 0.9528571428571428)\n",
      "(134, 0.9528571428571428)\n",
      "(135, 0.9534523809523809)\n",
      "(136, 0.9527380952380953)\n",
      "(137, 0.9525)\n",
      "(138, 0.9520238095238095)\n",
      "(139, 0.9527380952380953)\n",
      "(140, 0.9526190476190476)\n",
      "(141, 0.9527380952380953)\n",
      "(142, 0.9528571428571428)\n",
      "(143, 0.9528571428571428)\n",
      "(144, 0.9522619047619048)\n",
      "(145, 0.9519047619047619)\n",
      "(146, 0.9523809523809523)\n",
      "(147, 0.9519047619047619)\n",
      "(148, 0.9527380952380953)\n",
      "(149, 0.9520238095238095)\n",
      "(150, 0.9526190476190476)\n",
      "(151, 0.9522619047619048)\n",
      "(152, 0.9514285714285714)\n",
      "(153, 0.9519047619047619)\n",
      "(154, 0.9515476190476191)\n",
      "(155, 0.9508333333333333)\n",
      "(156, 0.9525)\n",
      "(157, 0.9519047619047619)\n",
      "(158, 0.9516666666666667)\n",
      "(159, 0.9513095238095238)\n",
      "(160, 0.9516666666666667)\n",
      "(161, 0.9508333333333333)\n",
      "(162, 0.950595238095238)\n",
      "(163, 0.9520238095238095)\n",
      "(164, 0.9514285714285714)\n",
      "(165, 0.9510714285714286)\n",
      "(166, 0.9514285714285714)\n",
      "(167, 0.9513095238095238)\n",
      "(168, 0.9508333333333333)\n",
      "(169, 0.950952380952381)\n",
      "(170, 0.9508333333333333)\n",
      "(171, 0.9517857142857142)\n",
      "(172, 0.9515476190476191)\n",
      "(173, 0.950595238095238)\n",
      "(174, 0.9515476190476191)\n",
      "(175, 0.9517857142857142)\n",
      "(176, 0.950595238095238)\n",
      "(177, 0.9517857142857142)\n",
      "(178, 0.9507142857142857)\n",
      "(179, 0.9504761904761905)\n",
      "(180, 0.9515476190476191)\n",
      "(181, 0.9510714285714286)\n",
      "(182, 0.9511904761904761)\n",
      "(183, 0.9511904761904761)\n",
      "(184, 0.9514285714285714)\n",
      "(185, 0.9510714285714286)\n",
      "(186, 0.9515476190476191)\n",
      "(187, 0.9510714285714286)\n",
      "(188, 0.9507142857142857)\n",
      "(189, 0.9516666666666667)\n",
      "(190, 0.9508333333333333)\n",
      "(191, 0.9504761904761905)\n",
      "(192, 0.9514285714285714)\n",
      "(193, 0.9501190476190476)\n",
      "(194, 0.9507142857142857)\n",
      "(195, 0.9504761904761905)\n",
      "(196, 0.950952380952381)\n",
      "(197, 0.950952380952381)\n",
      "(198, 0.950595238095238)\n",
      "(199, 0.9508333333333333)\n",
      "(200, 0.95)\n",
      "(201, 0.9502380952380952)\n",
      "(202, 0.9507142857142857)\n",
      "(203, 0.9513095238095238)\n",
      "(204, 0.9504761904761905)\n",
      "(205, 0.9507142857142857)\n",
      "(206, 0.9513095238095238)\n",
      "(207, 0.9504761904761905)\n",
      "(208, 0.9507142857142857)\n",
      "(209, 0.9489285714285715)\n",
      "(210, 0.9496428571428571)\n",
      "(211, 0.9498809523809524)\n",
      "(212, 0.950952380952381)\n",
      "(213, 0.9501190476190476)\n",
      "(214, 0.9504761904761905)\n",
      "(215, 0.9496428571428571)\n",
      "(216, 0.9501190476190476)\n",
      "(217, 0.9495238095238095)\n",
      "(218, 0.9503571428571429)\n",
      "(219, 0.9495238095238095)\n",
      "(220, 0.9498809523809524)\n",
      "(221, 0.9501190476190476)\n",
      "(222, 0.9504761904761905)\n",
      "(223, 0.9491666666666667)\n",
      "(224, 0.9502380952380952)\n",
      "(225, 0.9491666666666667)\n",
      "(226, 0.9485714285714286)\n",
      "(227, 0.9480952380952381)\n",
      "(228, 0.9492857142857143)\n",
      "(229, 0.9485714285714286)\n",
      "(230, 0.9475)\n",
      "(231, 0.95)\n",
      "(232, 0.9477380952380953)\n",
      "(233, 0.9494047619047619)\n",
      "(234, 0.9489285714285715)\n",
      "(235, 0.9485714285714286)\n",
      "(236, 0.9480952380952381)\n",
      "(237, 0.9480952380952381)\n",
      "(238, 0.9498809523809524)\n",
      "(239, 0.9491666666666667)\n",
      "(240, 0.9491666666666667)\n",
      "(241, 0.9483333333333334)\n"
     ]
    }
   ],
   "source": [
    "#lstN = []\n",
    "for i in range(1,785):\n",
    "    pca = PCA(n_components = i)\n",
    "    xtrainPC = pca.fit_transform(xtrainT)\n",
    "    xtestPC = pca.transform(xtestT)\n",
    "    \n",
    "    knn = KNeighborsClassifier()\n",
    "    knn.fit(xtrainPC,ytrain)\n",
    "    pred = knn.predict(xtestPC)\n",
    "    acc = accuracy_score(ytest,pred)\n",
    "    if(len(lstN) != 0 and lstN[-1][1] > 96):\n",
    "        break\n",
    "    else:\n",
    "        print((i,acc))\n",
    "        \n",
    "\n",
    "    "
   ]
  },
  {
   "cell_type": "markdown",
   "metadata": {},
   "source": [
    "## 1st goal - reduce dimensionality - improve accuracy and reduce computation"
   ]
  },
  {
   "cell_type": "markdown",
   "metadata": {},
   "source": [
    "## 2nd goal of pca - Visualization "
   ]
  },
  {
   "cell_type": "code",
   "execution_count": null,
   "metadata": {},
   "outputs": [],
   "source": [
    "# first taking only 2 principal components to get a 2d visualization\n",
    "pca = PCA(n_components = 2)\n",
    "xtraintrf = pca.fit_transform(xtrainT)\n",
    "xtesttrf = pca.transform(xtestT)"
   ]
  },
  {
   "cell_type": "code",
   "execution_count": null,
   "metadata": {},
   "outputs": [],
   "source": [
    "xtraintrf"
   ]
  },
  {
   "cell_type": "code",
   "execution_count": null,
   "metadata": {},
   "outputs": [],
   "source": [
    "import plotly.express as px\n",
    "ytraintrf = ytrain.astype(str)\n",
    "fig = px.scatter(x = xtraintrf[:,0],\n",
    "    y = xtraintrf[:,1],\n",
    "    color = ytraintrf,\n",
    "    color_discrete_sequence = px.colors.qualitative.G10\n",
    ")\n",
    "fig.show()"
   ]
  },
  {
   "cell_type": "code",
   "execution_count": null,
   "metadata": {},
   "outputs": [],
   "source": [
    "# transforming to 3D so taking 3 PCs\n",
    "pca = PCA(n_components = 3)\n",
    "xtraintrf = pca.fit_transform(xtrainT)\n",
    "xtesttrf = pca.transform(xtestT)"
   ]
  },
  {
   "cell_type": "code",
   "execution_count": null,
   "metadata": {},
   "outputs": [],
   "source": [
    "ytraintrf = ytrain.astype(str)\n",
    "fig = px.scatter_3D(df, x = xtraintrf[:,0], \n",
    "                   y=xtraintrf[:,1],\n",
    "                   z=xtraintrf[:,2],\n",
    "                   color = ytraintrf)\n",
    "fig.update_layout(margin=dict(l=20,r=20,t=20,b=20))\n",
    "fig.show()"
   ]
  },
  {
   "cell_type": "code",
   "execution_count": null,
   "metadata": {},
   "outputs": [],
   "source": [
    "pca.explained_variance_ # gives the eigen values"
   ]
  },
  {
   "cell_type": "code",
   "execution_count": null,
   "metadata": {},
   "outputs": [],
   "source": [
    "pca.components_ # "
   ]
  },
  {
   "cell_type": "code",
   "execution_count": null,
   "metadata": {},
   "outputs": [],
   "source": [
    "pca.components_.shape"
   ]
  }
 ],
 "metadata": {
  "kaggle": {
   "accelerator": "none",
   "dataSources": [
    {
     "databundleVersionId": 861823,
     "sourceId": 3004,
     "sourceType": "competition"
    }
   ],
   "dockerImageVersionId": 30746,
   "isGpuEnabled": false,
   "isInternetEnabled": false,
   "language": "python",
   "sourceType": "notebook"
  },
  "kernelspec": {
   "display_name": "Python 3 (ipykernel)",
   "language": "python",
   "name": "python3"
  },
  "language_info": {
   "codemirror_mode": {
    "name": "ipython",
    "version": 3
   },
   "file_extension": ".py",
   "mimetype": "text/x-python",
   "name": "python",
   "nbconvert_exporter": "python",
   "pygments_lexer": "ipython3",
   "version": "3.9.13"
  }
 },
 "nbformat": 4,
 "nbformat_minor": 4
}
