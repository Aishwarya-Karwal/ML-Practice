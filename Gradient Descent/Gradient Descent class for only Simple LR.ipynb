{
 "cells": [
  {
   "cell_type": "markdown",
   "id": "8e9a98cc",
   "metadata": {},
   "source": [
    "For animations of Gradient Descent -https://github.com/campusx-official/100-days-of-machine-learning/blob/main/day51-gradient-descent/animation9.gif"
   ]
  },
  {
   "cell_type": "code",
   "execution_count": 1,
   "id": "16861bf0",
   "metadata": {},
   "outputs": [],
   "source": [
    "from sklearn.datasets import make_regression\n",
    "import numpy as np\n",
    "import matplotlib.pyplot as plt"
   ]
  },
  {
   "cell_type": "code",
   "execution_count": 2,
   "id": "8f908ec1",
   "metadata": {},
   "outputs": [],
   "source": [
    "x,y = make_regression(n_samples = 100, n_features = 1, n_informative = 1, n_targets = 1, noise = 20 , random_state=20)"
   ]
  },
  {
   "cell_type": "code",
   "execution_count": 5,
   "id": "23436843",
   "metadata": {},
   "outputs": [
    {
     "data": {
      "text/plain": [
       "(array([[-1.62950152e+00],\n",
       "        [-5.13145106e-01],\n",
       "        [-1.41666675e+00],\n",
       "        [ 1.56763255e+00],\n",
       "        [ 5.54274933e-01],\n",
       "        [-5.55185797e-01],\n",
       "        [ 1.35179619e+00],\n",
       "        [-1.55110074e+00],\n",
       "        [-2.28321031e-01],\n",
       "        [-8.42367934e-01],\n",
       "        [-4.93410882e-01],\n",
       "        [ 5.27728470e-01],\n",
       "        [ 6.91002119e-01],\n",
       "        [ 1.33277821e+00],\n",
       "        [ 2.05983800e+00],\n",
       "        [ 9.87886147e-02],\n",
       "        [ 4.87402961e-01],\n",
       "        [ 1.35778902e+00],\n",
       "        [ 3.81924687e-02],\n",
       "        [-1.61299022e+00],\n",
       "        [-2.19661122e-01],\n",
       "        [-4.04534024e-01],\n",
       "        [ 3.57536516e-01],\n",
       "        [ 1.55838222e-01],\n",
       "        [-8.28692770e-01],\n",
       "        [ 9.39469350e-01],\n",
       "        [-1.48238505e+00],\n",
       "        [ 3.23461010e-01],\n",
       "        [ 1.95865022e-01],\n",
       "        [-2.06694872e+00],\n",
       "        [-1.90146405e+00],\n",
       "        [-1.48571961e+00],\n",
       "        [ 5.27069718e-01],\n",
       "        [ 3.20970784e-01],\n",
       "        [ 1.05110868e+00],\n",
       "        [ 9.89486559e-01],\n",
       "        [-2.43338766e-01],\n",
       "        [-8.56164218e-01],\n",
       "        [-1.81525581e+00],\n",
       "        [ 6.47034084e-01],\n",
       "        [ 1.09543335e+00],\n",
       "        [-1.68646101e-01],\n",
       "        [-1.10457948e+00],\n",
       "        [-4.09571425e-01],\n",
       "        [ 8.57093817e-01],\n",
       "        [-1.44184857e+00],\n",
       "        [ 5.93217213e-01],\n",
       "        [-9.62215984e-01],\n",
       "        [ 3.29613339e-01],\n",
       "        [-2.39469757e-01],\n",
       "        [-1.09017371e-01],\n",
       "        [-9.94801908e-01],\n",
       "        [-9.34937958e-01],\n",
       "        [-4.41948007e-02],\n",
       "        [-1.08483259e+00],\n",
       "        [ 1.20451128e+00],\n",
       "        [ 1.50856026e-03],\n",
       "        [ 8.57999351e-01],\n",
       "        [-1.27950266e+00],\n",
       "        [ 1.44740705e+00],\n",
       "        [ 4.59744227e-01],\n",
       "        [-7.92016791e-01],\n",
       "        [-1.13652654e+00],\n",
       "        [ 1.28778353e-01],\n",
       "        [ 4.06368426e-01],\n",
       "        [-2.70436525e+00],\n",
       "        [ 9.32866347e-01],\n",
       "        [-3.33543787e-01],\n",
       "        [ 4.06414469e-01],\n",
       "        [-3.38490605e-01],\n",
       "        [ 3.59428994e-01],\n",
       "        [-9.78481042e-01],\n",
       "        [ 7.50297928e-01],\n",
       "        [-8.85493155e-01],\n",
       "        [-3.18970279e+00],\n",
       "        [-4.82450911e-01],\n",
       "        [-9.50018010e-01],\n",
       "        [ 1.48114365e+00],\n",
       "        [ 1.55618644e+00],\n",
       "        [ 4.38024497e-01],\n",
       "        [-2.34326191e+00],\n",
       "        [ 4.93437236e-01],\n",
       "        [ 2.09466534e+00],\n",
       "        [ 2.45715170e-01],\n",
       "        [ 1.14047603e-01],\n",
       "        [ 5.03096840e-01],\n",
       "        [-6.02308018e-01],\n",
       "        [ 1.50339816e+00],\n",
       "        [-8.54775487e-01],\n",
       "        [-9.38910491e-01],\n",
       "        [-1.30030711e-01],\n",
       "        [ 1.43622635e-01],\n",
       "        [ 1.12013226e+00],\n",
       "        [ 8.83893113e-01],\n",
       "        [ 6.46430166e-01],\n",
       "        [ 1.54472836e+00],\n",
       "        [ 5.59696289e-01],\n",
       "        [ 1.14892501e+00],\n",
       "        [ 1.30142940e+00],\n",
       "        [-1.05616900e+00]]),\n",
       " array([-160.21724552,   -6.85817001, -166.23500687,  158.9419784 ,\n",
       "          23.31451425,  -53.88529615,  142.73785527, -134.9155051 ,\n",
       "          -4.19708567,  -83.99097279,  -29.34774844,   60.78101685,\n",
       "          -3.9982954 ,  161.98858436,  200.5117642 ,   -0.90325071,\n",
       "          -0.87737873,  161.0071413 ,   12.96971312, -183.43013621,\n",
       "          -3.83189011,  -24.31560106,   20.91014954,   23.6920263 ,\n",
       "         -89.05056331,   63.50854532, -134.16570781,   49.93846576,\n",
       "          12.43504048, -181.61370012, -182.59794169, -130.51320099,\n",
       "          56.84793116,   51.55184078,  113.58786554,   99.15043836,\n",
       "         -25.16781231,  -77.45618251, -154.23294568,   90.3286902 ,\n",
       "          84.84065422,  -23.30495682, -106.89444153,  -46.18186416,\n",
       "          66.27332356, -142.34048051,   77.65214553,  -81.30432026,\n",
       "          69.05084364,   -9.17338498,  -25.88527376,  -81.83124006,\n",
       "         -76.40451634,   16.05141242,  -73.1645243 ,  116.87095289,\n",
       "           6.77022789,   50.03545971, -136.46495296,  157.3667071 ,\n",
       "          30.18138584,  -65.0954939 ,  -90.37587959,   35.70333864,\n",
       "          47.1374177 , -273.0476757 ,   37.5413044 ,  -49.09652037,\n",
       "          28.07932913,  -46.38416767,   41.76520005,  -51.85682265,\n",
       "          75.91023419, -107.0165302 , -311.8896202 ,  -36.42763597,\n",
       "        -120.50505649,  152.12546519,  120.63918657,   35.71913587,\n",
       "        -230.29580169,   27.29753536,  200.09308974,   39.77021719,\n",
       "          36.87968223,   84.79494052, -110.34326492,  169.63450689,\n",
       "         -62.17882692,  -67.39852941,   19.77872252,    1.88561033,\n",
       "         104.38740731,   90.4523234 ,   41.76407351,  159.13333895,\n",
       "          49.39209398,  115.61156709,  168.61889168, -102.37448975]))"
      ]
     },
     "execution_count": 5,
     "metadata": {},
     "output_type": "execute_result"
    }
   ],
   "source": [
    "x,y"
   ]
  },
  {
   "cell_type": "code",
   "execution_count": 3,
   "id": "8709a91a",
   "metadata": {},
   "outputs": [
    {
     "data": {
      "text/plain": [
       "((100, 1), (100,))"
      ]
     },
     "execution_count": 3,
     "metadata": {},
     "output_type": "execute_result"
    }
   ],
   "source": [
    "x.shape,y.shape"
   ]
  },
  {
   "cell_type": "code",
   "execution_count": 4,
   "id": "27359a11",
   "metadata": {},
   "outputs": [
    {
     "data": {
      "text/plain": [
       "<matplotlib.collections.PathCollection at 0x1eb8c68bd00>"
      ]
     },
     "execution_count": 4,
     "metadata": {},
     "output_type": "execute_result"
    },
    {
     "data": {
      "image/png": "[encoded data removed]",
      "text/plain": [
       "<Figure size 640x480 with 1 Axes>"
      ]
     },
     "metadata": {},
     "output_type": "display_data"
    }
   ],
   "source": [
    "plt.scatter(x,y)"
   ]
  },
  {
   "cell_type": "code",
   "execution_count": 5,
   "id": "5a5c4903",
   "metadata": {},
   "outputs": [],
   "source": [
    "from sklearn.model_selection import train_test_split\n",
    "xtrain,xtest,ytrain,ytest = train_test_split(x,y,test_size=0.2,random_state=2)"
   ]
  },
  {
   "cell_type": "code",
   "execution_count": 6,
   "id": "be74de4c",
   "metadata": {},
   "outputs": [
    {
     "name": "stdout",
     "output_type": "stream",
     "text": [
      "[95.32476501]\n",
      "2.8209156086280234\n"
     ]
    },
    {
     "data": {
      "text/plain": [
       "0.9727848758778775"
      ]
     },
     "execution_count": 6,
     "metadata": {},
     "output_type": "execute_result"
    }
   ],
   "source": [
    "from sklearn.linear_model import LinearRegression\n",
    "lr = LinearRegression()\n",
    "lr.fit(xtrain,ytrain)\n",
    "print(lr.coef_)\n",
    "print(lr.intercept_)\n",
    "\n",
    "ypred = lr.predict(xtest)\n",
    "from sklearn.metrics import r2_score\n",
    "r2_score(ytest,ypred)"
   ]
  },
  {
   "cell_type": "markdown",
   "id": "72d616cf",
   "metadata": {},
   "source": [
    "### The problem we were facing in below class implementation is that integer is overflowing on larger epochs so we need to take the mean squared error function instead of the squared error function "
   ]
  },
  {
   "cell_type": "code",
   "execution_count": 44,
   "id": "a44c8aab",
   "metadata": {},
   "outputs": [],
   "source": [
    "# our own implemented class for GD\n",
    "\n",
    "class Gd:\n",
    "    \n",
    "    def __init__(self, learning_rate, epochs):\n",
    "        self.lr = learning_rate\n",
    "        self.epochs = epochs\n",
    "        self.slope = -150\n",
    "        self.intercept = 200\n",
    "    \n",
    "    def fit(self,xtrain,ytrain):\n",
    "        #cost func = sigma (yi-mxi-b)^2 / n \n",
    "        #slope_der = del cost func / del slope = -2* sigma(yi-mxi-b)*xi\n",
    "        #intercept_der = del cost func / del intercept\n",
    "        n = xtrain.shape[0]\n",
    "        for i in range(self.epochs):\n",
    "            intercept_der = -2 * np.mean(ytrain - self.slope*xtrain.ravel()-self.intercept)\n",
    "            slope_der = -2* np.sum((ytrain- self.slope*xtrain.ravel() - self.intercept) * xtrain.ravel())/n\n",
    "        \n",
    "            self.intercept = self.intercept - self.lr * intercept_der\n",
    "            self.slope = self.slope - self.lr * slope_der\n",
    "        print(self.slope, self.intercept)\n",
    "    def predict(self,xtest):\n",
    "        return (self.slope*xtest) + self.intercept\n",
    "        "
   ]
  },
  {
   "cell_type": "code",
   "execution_count": 58,
   "id": "794e101c",
   "metadata": {},
   "outputs": [
    {
     "name": "stdout",
     "output_type": "stream",
     "text": [
      "95.32448857741595 2.8223663059698785\n",
      "0.9727840045545095\n"
     ]
    }
   ],
   "source": [
    "gd = Gd(0.05, 110)\n",
    "gd.fit(xtrain,ytrain)\n",
    "pred = gd.predict(xtest)\n",
    "#print(gd.intercept)\n",
    "#print(gd.slope)\n",
    "print(r2_score(ytest,pred))"
   ]
  },
  {
   "cell_type": "code",
   "execution_count": 19,
   "id": "40801ff2",
   "metadata": {},
   "outputs": [
    {
     "data": {
      "text/plain": [
       "(80, 1)"
      ]
     },
     "execution_count": 19,
     "metadata": {},
     "output_type": "execute_result"
    }
   ],
   "source": [
    "xtrain.shape"
   ]
  },
  {
   "cell_type": "markdown",
   "id": "30d1df68",
   "metadata": {},
   "source": [
    "The empty tuple indicates that the array has no dimensions, meaning it's a scalar (0-dimensional). Scalars are treated as single values rather than as arrays with dimensions, hence they have no shape."
   ]
  },
  {
   "cell_type": "code",
   "execution_count": 15,
   "id": "560b735d",
   "metadata": {},
   "outputs": [
    {
     "data": {
      "text/plain": [
       "()"
      ]
     },
     "execution_count": 15,
     "metadata": {},
     "output_type": "execute_result"
    }
   ],
   "source": [
    "np.array(1).shape # scalars have no shape"
   ]
  },
  {
   "cell_type": "code",
   "execution_count": 33,
   "id": "ed0ef504",
   "metadata": {},
   "outputs": [
    {
     "name": "stderr",
     "output_type": "stream",
     "text": [
      "C:\\Users\\dell\\AppData\\Local\\Temp\\ipykernel_9696\\3698954598.py:14: RuntimeWarning: invalid value encountered in double_scalars\n",
      "  slope = slope - (0.05 * slope_der)\n"
     ]
    }
   ],
   "source": [
    "slope = -150\n",
    "intercept = 200\n",
    "\n",
    "for i in range(500):\n",
    "    # slope w.r.t. beta knot \n",
    "    intercept_der = np.sum(ytrain - slope*xtrain.ravel()-intercept)#.shape\n",
    "\n",
    "    # slope w.r.t. Beta 1\n",
    "    slope_der = -2* np.sum((ytrain - slope*xtrain.ravel() - intercept) * xtrain.ravel())\n",
    "\n",
    "    #coefficients updation \n",
    "    # here lr = 0.05\n",
    "    intercept = intercept - (0.05 * intercept_der)\n",
    "    slope = slope - (0.05 * slope_der)"
   ]
  },
  {
   "cell_type": "code",
   "execution_count": 34,
   "id": "024f26ee",
   "metadata": {},
   "outputs": [
    {
     "data": {
      "text/plain": [
       "(nan, nan)"
      ]
     },
     "execution_count": 34,
     "metadata": {},
     "output_type": "execute_result"
    }
   ],
   "source": [
    "intercept, slope"
   ]
  },
  {
   "cell_type": "code",
   "execution_count": 19,
   "id": "db8d00c8",
   "metadata": {
    "collapsed": true
   },
   "outputs": [
    {
     "data": {
      "text/plain": [
       "()"
      ]
     },
     "execution_count": 19,
     "metadata": {},
     "output_type": "execute_result"
    }
   ],
   "source": [
    "np.sum(ytrain - (-150)*xtrain.ravel()-(200)).shape"
   ]
  },
  {
   "cell_type": "code",
   "execution_count": 11,
   "id": "bd3111ce",
   "metadata": {
    "collapsed": true
   },
   "outputs": [
    {
     "data": {
      "text/plain": [
       "(80,)"
      ]
     },
     "execution_count": 11,
     "metadata": {},
     "output_type": "execute_result"
    }
   ],
   "source": [
    "(ytrain - 100*xtrain.ravel()-(-120)).shape"
   ]
  },
  {
   "cell_type": "markdown",
   "id": "80f7014b",
   "metadata": {},
   "source": [
    "Below is without taking the mean , so it overflows on larger values of epoch"
   ]
  },
  {
   "cell_type": "code",
   "execution_count": 37,
   "id": "af78dbd9",
   "metadata": {},
   "outputs": [],
   "source": [
    "# below code directly from campusx:\n",
    "class GDRegressor:\n",
    "    \n",
    "    def __init__(self,learning_rate,epochs):\n",
    "        self.m = 100\n",
    "        self.b = -120\n",
    "        self.lr = learning_rate\n",
    "        self.epochs = epochs\n",
    "        \n",
    "    def fit(self,X,y):\n",
    "        # calcualte the b using GD\n",
    "        for i in range(self.epochs):\n",
    "            loss_slope_b = -2 * np.sum(y - self.m*X.ravel() - self.b)\n",
    "            loss_slope_m = -2 * np.sum((y - self.m*X.ravel() - self.b)*X.ravel())\n",
    "            \n",
    "            self.b = self.b - (self.lr * loss_slope_b)\n",
    "            self.m = self.m - (self.lr * loss_slope_m)\n",
    "        print(self.m,self.b)\n",
    "        \n",
    "    def predict(self,X):\n",
    "        return self.m * X + self.b\n",
    "    "
   ]
  },
  {
   "cell_type": "code",
   "execution_count": 41,
   "id": "b1d66d95",
   "metadata": {
    "scrolled": true
   },
   "outputs": [
    {
     "name": "stdout",
     "output_type": "stream",
     "text": [
      "nan nan\n"
     ]
    },
    {
     "name": "stderr",
     "output_type": "stream",
     "text": [
      "C:\\Users\\dell\\AppData\\Local\\Temp\\ipykernel_9696\\2231519698.py:12: RuntimeWarning: overflow encountered in double_scalars\n",
      "  loss_slope_b = -2 * np.sum(y - self.m*X.ravel() - self.b)\n",
      "C:\\Users\\dell\\AppData\\Local\\Temp\\ipykernel_9696\\2231519698.py:12: RuntimeWarning: invalid value encountered in subtract\n",
      "  loss_slope_b = -2 * np.sum(y - self.m*X.ravel() - self.b)\n",
      "C:\\Users\\dell\\AppData\\Local\\Temp\\ipykernel_9696\\2231519698.py:13: RuntimeWarning: invalid value encountered in subtract\n",
      "  loss_slope_m = -2 * np.sum((y - self.m*X.ravel() - self.b)*X.ravel())\n"
     ]
    }
   ],
   "source": [
    "gd = GDRegressor(0.05, 1500)\n",
    "gd.fit(xtrain,ytrain)\n",
    "#print(gd.b)\n",
    "#print(gd.m)"
   ]
  },
  {
   "cell_type": "code",
   "execution_count": null,
   "id": "8294956a",
   "metadata": {},
   "outputs": [],
   "source": []
  }
 ],
 "metadata": {
  "kernelspec": {
   "display_name": "Python 3 (ipykernel)",
   "language": "python",
   "name": "python3"
  },
  "language_info": {
   "codemirror_mode": {
    "name": "ipython",
    "version": 3
   },
   "file_extension": ".py",
   "mimetype": "text/x-python",
   "name": "python",
   "nbconvert_exporter": "python",
   "pygments_lexer": "ipython3",
   "version": "3.9.13"
  }
 },
 "nbformat": 4,
 "nbformat_minor": 5
}
