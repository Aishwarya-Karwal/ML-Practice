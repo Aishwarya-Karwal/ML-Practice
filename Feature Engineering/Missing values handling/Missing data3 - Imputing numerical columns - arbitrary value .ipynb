{
 "cells": [
  {
   "cell_type": "code",
   "execution_count": 33,
   "id": "bb00df68",
   "metadata": {},
   "outputs": [],
   "source": [
    "import pandas as pd\n",
    "import numpy as np\n",
    "import matplotlib.pyplot as plt"
   ]
  },
  {
   "cell_type": "code",
   "execution_count": 34,
   "id": "a0ab6d4b",
   "metadata": {},
   "outputs": [],
   "source": [
    "from sklearn.model_selection import train_test_split\n",
    "from sklearn.impute import SimpleImputer\n",
    "from sklearn.compose import ColumnTransformer"
   ]
  },
  {
   "cell_type": "code",
   "execution_count": 35,
   "id": "b86c2b0a",
   "metadata": {},
   "outputs": [],
   "source": [
    "df = pd.read_csv(r\"E:\\Jupyter Notebooks\\titanic_toy.csv\")"
   ]
  },
  {
   "cell_type": "code",
   "execution_count": 36,
   "id": "9b3f12ca",
   "metadata": {},
   "outputs": [
    {
     "data": {
      "text/plain": [
       "Age         0.198653\n",
       "Fare        0.050505\n",
       "Family      0.000000\n",
       "Survived    0.000000\n",
       "dtype: float64"
      ]
     },
     "execution_count": 36,
     "metadata": {},
     "output_type": "execute_result"
    }
   ],
   "source": [
    "df.isnull().mean() # this is like how much percent of null values we have "
   ]
  },
  {
   "cell_type": "code",
   "execution_count": 37,
   "id": "f5a421c4",
   "metadata": {},
   "outputs": [],
   "source": [
    "xtrain, xtest, ytrain, ytest = train_test_split(df.drop(['Survived'], axis = 1), df['Survived'], \n",
    "                                               random_state = 42, test_size = 0.2)"
   ]
  },
  {
   "cell_type": "code",
   "execution_count": 38,
   "id": "c43bcb49",
   "metadata": {},
   "outputs": [
    {
     "data": {
      "text/plain": [
       "((712, 3), (179, 3), (712,), (179,))"
      ]
     },
     "execution_count": 38,
     "metadata": {},
     "output_type": "execute_result"
    }
   ],
   "source": [
    "xtrain.shape, xtest.shape, ytrain.shape, ytest.shape"
   ]
  },
  {
   "cell_type": "markdown",
   "id": "751294ba",
   "metadata": {},
   "source": [
    "Filling with arbitrary values"
   ]
  },
  {
   "cell_type": "code",
   "execution_count": 39,
   "id": "f12c54bd",
   "metadata": {},
   "outputs": [
    {
     "data": {
      "text/html": [
       "<div>\n",
       "<style scoped>\n",
       "    .dataframe tbody tr th:only-of-type {\n",
       "        vertical-align: middle;\n",
       "    }\n",
       "\n",
       "    .dataframe tbody tr th {\n",
       "        vertical-align: top;\n",
       "    }\n",
       "\n",
       "    .dataframe thead th {\n",
       "        text-align: right;\n",
       "    }\n",
       "</style>\n",
       "<table border=\"1\" class=\"dataframe\">\n",
       "  <thead>\n",
       "    <tr style=\"text-align: right;\">\n",
       "      <th></th>\n",
       "      <th>Age</th>\n",
       "      <th>Fare</th>\n",
       "      <th>Family</th>\n",
       "    </tr>\n",
       "  </thead>\n",
       "  <tbody>\n",
       "    <tr>\n",
       "      <th>count</th>\n",
       "      <td>572.000000</td>\n",
       "      <td>676.000000</td>\n",
       "      <td>712.000000</td>\n",
       "    </tr>\n",
       "    <tr>\n",
       "      <th>mean</th>\n",
       "      <td>29.498846</td>\n",
       "      <td>32.517788</td>\n",
       "      <td>0.932584</td>\n",
       "    </tr>\n",
       "    <tr>\n",
       "      <th>std</th>\n",
       "      <td>14.500059</td>\n",
       "      <td>52.545518</td>\n",
       "      <td>1.682525</td>\n",
       "    </tr>\n",
       "    <tr>\n",
       "      <th>min</th>\n",
       "      <td>0.420000</td>\n",
       "      <td>0.000000</td>\n",
       "      <td>0.000000</td>\n",
       "    </tr>\n",
       "    <tr>\n",
       "      <th>25%</th>\n",
       "      <td>21.000000</td>\n",
       "      <td>7.925000</td>\n",
       "      <td>0.000000</td>\n",
       "    </tr>\n",
       "    <tr>\n",
       "      <th>50%</th>\n",
       "      <td>28.000000</td>\n",
       "      <td>14.400000</td>\n",
       "      <td>0.000000</td>\n",
       "    </tr>\n",
       "    <tr>\n",
       "      <th>75%</th>\n",
       "      <td>38.000000</td>\n",
       "      <td>30.500000</td>\n",
       "      <td>1.000000</td>\n",
       "    </tr>\n",
       "    <tr>\n",
       "      <th>max</th>\n",
       "      <td>80.000000</td>\n",
       "      <td>512.329200</td>\n",
       "      <td>10.000000</td>\n",
       "    </tr>\n",
       "  </tbody>\n",
       "</table>\n",
       "</div>"
      ],
      "text/plain": [
       "              Age        Fare      Family\n",
       "count  572.000000  676.000000  712.000000\n",
       "mean    29.498846   32.517788    0.932584\n",
       "std     14.500059   52.545518    1.682525\n",
       "min      0.420000    0.000000    0.000000\n",
       "25%     21.000000    7.925000    0.000000\n",
       "50%     28.000000   14.400000    0.000000\n",
       "75%     38.000000   30.500000    1.000000\n",
       "max     80.000000  512.329200   10.000000"
      ]
     },
     "execution_count": 39,
     "metadata": {},
     "output_type": "execute_result"
    }
   ],
   "source": [
    "xtrain.describe()"
   ]
  },
  {
   "cell_type": "markdown",
   "id": "97b07251",
   "metadata": {},
   "source": [
    "From above we see that max values of age = 80 and fare = around 500 \n",
    "\n",
    "so fillna with values above it or below the min value"
   ]
  },
  {
   "cell_type": "code",
   "execution_count": 40,
   "id": "fc8dd1b3",
   "metadata": {},
   "outputs": [],
   "source": [
    "xtrain['fare999'] = xtrain['Fare'].fillna(999)\n",
    "xtrain['fareminus1'] = xtrain['Fare'].fillna(-1)\n",
    "\n",
    "xtrain['age99'] = xtrain['Age'].fillna(99)\n",
    "xtrain['ageminus1'] = xtrain['Age'].fillna(-1)"
   ]
  },
  {
   "cell_type": "code",
   "execution_count": 41,
   "id": "fb8e8649",
   "metadata": {},
   "outputs": [
    {
     "data": {
      "text/html": [
       "<div>\n",
       "<style scoped>\n",
       "    .dataframe tbody tr th:only-of-type {\n",
       "        vertical-align: middle;\n",
       "    }\n",
       "\n",
       "    .dataframe tbody tr th {\n",
       "        vertical-align: top;\n",
       "    }\n",
       "\n",
       "    .dataframe thead th {\n",
       "        text-align: right;\n",
       "    }\n",
       "</style>\n",
       "<table border=\"1\" class=\"dataframe\">\n",
       "  <thead>\n",
       "    <tr style=\"text-align: right;\">\n",
       "      <th></th>\n",
       "      <th>Age</th>\n",
       "      <th>Fare</th>\n",
       "      <th>Family</th>\n",
       "      <th>fare999</th>\n",
       "      <th>fareminus1</th>\n",
       "      <th>age99</th>\n",
       "      <th>ageminus1</th>\n",
       "    </tr>\n",
       "  </thead>\n",
       "  <tbody>\n",
       "    <tr>\n",
       "      <th>331</th>\n",
       "      <td>45.5</td>\n",
       "      <td>28.5000</td>\n",
       "      <td>0</td>\n",
       "      <td>28.5000</td>\n",
       "      <td>28.5000</td>\n",
       "      <td>45.5</td>\n",
       "      <td>45.5</td>\n",
       "    </tr>\n",
       "    <tr>\n",
       "      <th>733</th>\n",
       "      <td>23.0</td>\n",
       "      <td>13.0000</td>\n",
       "      <td>0</td>\n",
       "      <td>13.0000</td>\n",
       "      <td>13.0000</td>\n",
       "      <td>23.0</td>\n",
       "      <td>23.0</td>\n",
       "    </tr>\n",
       "    <tr>\n",
       "      <th>382</th>\n",
       "      <td>32.0</td>\n",
       "      <td>7.9250</td>\n",
       "      <td>0</td>\n",
       "      <td>7.9250</td>\n",
       "      <td>7.9250</td>\n",
       "      <td>32.0</td>\n",
       "      <td>32.0</td>\n",
       "    </tr>\n",
       "    <tr>\n",
       "      <th>704</th>\n",
       "      <td>26.0</td>\n",
       "      <td>7.8542</td>\n",
       "      <td>1</td>\n",
       "      <td>7.8542</td>\n",
       "      <td>7.8542</td>\n",
       "      <td>26.0</td>\n",
       "      <td>26.0</td>\n",
       "    </tr>\n",
       "    <tr>\n",
       "      <th>813</th>\n",
       "      <td>6.0</td>\n",
       "      <td>31.2750</td>\n",
       "      <td>6</td>\n",
       "      <td>31.2750</td>\n",
       "      <td>31.2750</td>\n",
       "      <td>6.0</td>\n",
       "      <td>6.0</td>\n",
       "    </tr>\n",
       "    <tr>\n",
       "      <th>...</th>\n",
       "      <td>...</td>\n",
       "      <td>...</td>\n",
       "      <td>...</td>\n",
       "      <td>...</td>\n",
       "      <td>...</td>\n",
       "      <td>...</td>\n",
       "      <td>...</td>\n",
       "    </tr>\n",
       "    <tr>\n",
       "      <th>106</th>\n",
       "      <td>21.0</td>\n",
       "      <td>7.6500</td>\n",
       "      <td>0</td>\n",
       "      <td>7.6500</td>\n",
       "      <td>7.6500</td>\n",
       "      <td>21.0</td>\n",
       "      <td>21.0</td>\n",
       "    </tr>\n",
       "    <tr>\n",
       "      <th>270</th>\n",
       "      <td>NaN</td>\n",
       "      <td>31.0000</td>\n",
       "      <td>0</td>\n",
       "      <td>31.0000</td>\n",
       "      <td>31.0000</td>\n",
       "      <td>99.0</td>\n",
       "      <td>-1.0</td>\n",
       "    </tr>\n",
       "    <tr>\n",
       "      <th>860</th>\n",
       "      <td>41.0</td>\n",
       "      <td>NaN</td>\n",
       "      <td>2</td>\n",
       "      <td>999.0000</td>\n",
       "      <td>-1.0000</td>\n",
       "      <td>41.0</td>\n",
       "      <td>41.0</td>\n",
       "    </tr>\n",
       "    <tr>\n",
       "      <th>435</th>\n",
       "      <td>14.0</td>\n",
       "      <td>120.0000</td>\n",
       "      <td>3</td>\n",
       "      <td>120.0000</td>\n",
       "      <td>120.0000</td>\n",
       "      <td>14.0</td>\n",
       "      <td>14.0</td>\n",
       "    </tr>\n",
       "    <tr>\n",
       "      <th>102</th>\n",
       "      <td>21.0</td>\n",
       "      <td>77.2875</td>\n",
       "      <td>1</td>\n",
       "      <td>77.2875</td>\n",
       "      <td>77.2875</td>\n",
       "      <td>21.0</td>\n",
       "      <td>21.0</td>\n",
       "    </tr>\n",
       "  </tbody>\n",
       "</table>\n",
       "<p>712 rows × 7 columns</p>\n",
       "</div>"
      ],
      "text/plain": [
       "      Age      Fare  Family   fare999  fareminus1  age99  ageminus1\n",
       "331  45.5   28.5000       0   28.5000     28.5000   45.5       45.5\n",
       "733  23.0   13.0000       0   13.0000     13.0000   23.0       23.0\n",
       "382  32.0    7.9250       0    7.9250      7.9250   32.0       32.0\n",
       "704  26.0    7.8542       1    7.8542      7.8542   26.0       26.0\n",
       "813   6.0   31.2750       6   31.2750     31.2750    6.0        6.0\n",
       "..    ...       ...     ...       ...         ...    ...        ...\n",
       "106  21.0    7.6500       0    7.6500      7.6500   21.0       21.0\n",
       "270   NaN   31.0000       0   31.0000     31.0000   99.0       -1.0\n",
       "860  41.0       NaN       2  999.0000     -1.0000   41.0       41.0\n",
       "435  14.0  120.0000       3  120.0000    120.0000   14.0       14.0\n",
       "102  21.0   77.2875       1   77.2875     77.2875   21.0       21.0\n",
       "\n",
       "[712 rows x 7 columns]"
      ]
     },
     "execution_count": 41,
     "metadata": {},
     "output_type": "execute_result"
    }
   ],
   "source": [
    "xtrain"
   ]
  },
  {
   "cell_type": "code",
   "execution_count": 42,
   "id": "67faab74",
   "metadata": {},
   "outputs": [
    {
     "data": {
      "text/plain": [
       "<matplotlib.legend.Legend at 0x21a28479b20>"
      ]
     },
     "execution_count": 42,
     "metadata": {},
     "output_type": "execute_result"
    },
    {
     "data": {
      "image/png": "[encoded data removed]",
      "text/plain": [
       "<Figure size 640x480 with 1 Axes>"
      ]
     },
     "metadata": {},
     "output_type": "display_data"
    }
   ],
   "source": [
    "# distributions\n",
    "xtrain['fare999'].plot(kind = 'kde', legend = '999')\n",
    "xtrain['fareminus1'].plot(kind = 'kde', legend = '-1')\n",
    "xtrain['Fare'].plot(kind = 'kde', legend = 'Fare')\n",
    "\n",
    "plt.legend()"
   ]
  },
  {
   "cell_type": "code",
   "execution_count": 43,
   "id": "d84ed905",
   "metadata": {},
   "outputs": [
    {
     "data": {
      "text/plain": [
       "<matplotlib.legend.Legend at 0x21a222e0460>"
      ]
     },
     "execution_count": 43,
     "metadata": {},
     "output_type": "execute_result"
    },
    {
     "data": {
      "image/png": "[encoded data removed]",
      "text/plain": [
       "<Figure size 640x480 with 1 Axes>"
      ]
     },
     "metadata": {},
     "output_type": "display_data"
    }
   ],
   "source": [
    "# bimodal ho gye distr kyuki null values kafi thi \n",
    "xtrain['age99'].plot(kind = 'kde', legend = '99')\n",
    "xtrain['ageminus1'].plot(kind = 'kde', legend = '-1')\n",
    "xtrain['Age'].plot(kind = 'kde', legend = 'Age')\n",
    "plt.legend()"
   ]
  },
  {
   "cell_type": "code",
   "execution_count": 44,
   "id": "a43ecccb",
   "metadata": {},
   "outputs": [
    {
     "data": {
      "text/html": [
       "<div>\n",
       "<style scoped>\n",
       "    .dataframe tbody tr th:only-of-type {\n",
       "        vertical-align: middle;\n",
       "    }\n",
       "\n",
       "    .dataframe tbody tr th {\n",
       "        vertical-align: top;\n",
       "    }\n",
       "\n",
       "    .dataframe thead th {\n",
       "        text-align: right;\n",
       "    }\n",
       "</style>\n",
       "<table border=\"1\" class=\"dataframe\">\n",
       "  <thead>\n",
       "    <tr style=\"text-align: right;\">\n",
       "      <th></th>\n",
       "      <th>Age</th>\n",
       "      <th>Fare</th>\n",
       "      <th>Family</th>\n",
       "      <th>fare999</th>\n",
       "      <th>fareminus1</th>\n",
       "      <th>age99</th>\n",
       "      <th>ageminus1</th>\n",
       "    </tr>\n",
       "  </thead>\n",
       "  <tbody>\n",
       "    <tr>\n",
       "      <th>Age</th>\n",
       "      <td>210.251707</td>\n",
       "      <td>75.481375</td>\n",
       "      <td>-6.993325</td>\n",
       "      <td>130.495777</td>\n",
       "      <td>69.137162</td>\n",
       "      <td>210.251707</td>\n",
       "      <td>210.251707</td>\n",
       "    </tr>\n",
       "    <tr>\n",
       "      <th>Fare</th>\n",
       "      <td>75.481375</td>\n",
       "      <td>2761.031435</td>\n",
       "      <td>18.599163</td>\n",
       "      <td>2761.031435</td>\n",
       "      <td>2761.031435</td>\n",
       "      <td>-111.965046</td>\n",
       "      <td>135.785804</td>\n",
       "    </tr>\n",
       "    <tr>\n",
       "      <th>Family</th>\n",
       "      <td>-6.993325</td>\n",
       "      <td>18.599163</td>\n",
       "      <td>2.830892</td>\n",
       "      <td>16.878492</td>\n",
       "      <td>17.684447</td>\n",
       "      <td>-6.941982</td>\n",
       "      <td>-5.034556</td>\n",
       "    </tr>\n",
       "    <tr>\n",
       "      <th>fare999</th>\n",
       "      <td>130.495777</td>\n",
       "      <td>2761.031435</td>\n",
       "      <td>16.878492</td>\n",
       "      <td>47525.470595</td>\n",
       "      <td>1063.944817</td>\n",
       "      <td>-255.051165</td>\n",
       "      <td>262.712284</td>\n",
       "    </tr>\n",
       "    <tr>\n",
       "      <th>fareminus1</th>\n",
       "      <td>69.137162</td>\n",
       "      <td>2761.031435</td>\n",
       "      <td>17.684447</td>\n",
       "      <td>1063.944817</td>\n",
       "      <td>2675.239405</td>\n",
       "      <td>-101.137070</td>\n",
       "      <td>124.270305</td>\n",
       "    </tr>\n",
       "    <tr>\n",
       "      <th>age99</th>\n",
       "      <td>210.251707</td>\n",
       "      <td>-111.965046</td>\n",
       "      <td>-6.941982</td>\n",
       "      <td>-255.051165</td>\n",
       "      <td>-101.137070</td>\n",
       "      <td>932.966537</td>\n",
       "      <td>-166.460682</td>\n",
       "    </tr>\n",
       "    <tr>\n",
       "      <th>ageminus1</th>\n",
       "      <td>210.251707</td>\n",
       "      <td>135.785804</td>\n",
       "      <td>-5.034556</td>\n",
       "      <td>262.712284</td>\n",
       "      <td>124.270305</td>\n",
       "      <td>-166.460682</td>\n",
       "      <td>315.995504</td>\n",
       "    </tr>\n",
       "  </tbody>\n",
       "</table>\n",
       "</div>"
      ],
      "text/plain": [
       "                   Age         Fare     Family       fare999   fareminus1  \\\n",
       "Age         210.251707    75.481375  -6.993325    130.495777    69.137162   \n",
       "Fare         75.481375  2761.031435  18.599163   2761.031435  2761.031435   \n",
       "Family       -6.993325    18.599163   2.830892     16.878492    17.684447   \n",
       "fare999     130.495777  2761.031435  16.878492  47525.470595  1063.944817   \n",
       "fareminus1   69.137162  2761.031435  17.684447   1063.944817  2675.239405   \n",
       "age99       210.251707  -111.965046  -6.941982   -255.051165  -101.137070   \n",
       "ageminus1   210.251707   135.785804  -5.034556    262.712284   124.270305   \n",
       "\n",
       "                 age99   ageminus1  \n",
       "Age         210.251707  210.251707  \n",
       "Fare       -111.965046  135.785804  \n",
       "Family       -6.941982   -5.034556  \n",
       "fare999    -255.051165  262.712284  \n",
       "fareminus1 -101.137070  124.270305  \n",
       "age99       932.966537 -166.460682  \n",
       "ageminus1  -166.460682  315.995504  "
      ]
     },
     "execution_count": 44,
     "metadata": {},
     "output_type": "execute_result"
    }
   ],
   "source": [
    "xtrain.cov()"
   ]
  },
  {
   "cell_type": "code",
   "execution_count": 45,
   "id": "92eda191",
   "metadata": {},
   "outputs": [
    {
     "data": {
      "text/html": [
       "<div>\n",
       "<style scoped>\n",
       "    .dataframe tbody tr th:only-of-type {\n",
       "        vertical-align: middle;\n",
       "    }\n",
       "\n",
       "    .dataframe tbody tr th {\n",
       "        vertical-align: top;\n",
       "    }\n",
       "\n",
       "    .dataframe thead th {\n",
       "        text-align: right;\n",
       "    }\n",
       "</style>\n",
       "<table border=\"1\" class=\"dataframe\">\n",
       "  <thead>\n",
       "    <tr style=\"text-align: right;\">\n",
       "      <th></th>\n",
       "      <th>Age</th>\n",
       "      <th>Fare</th>\n",
       "      <th>Family</th>\n",
       "      <th>fare999</th>\n",
       "      <th>fareminus1</th>\n",
       "      <th>age99</th>\n",
       "      <th>ageminus1</th>\n",
       "    </tr>\n",
       "  </thead>\n",
       "  <tbody>\n",
       "    <tr>\n",
       "      <th>Age</th>\n",
       "      <td>1.000000</td>\n",
       "      <td>0.091482</td>\n",
       "      <td>-0.319651</td>\n",
       "      <td>0.039967</td>\n",
       "      <td>0.085422</td>\n",
       "      <td>1.000000</td>\n",
       "      <td>1.000000</td>\n",
       "    </tr>\n",
       "    <tr>\n",
       "      <th>Fare</th>\n",
       "      <td>0.091482</td>\n",
       "      <td>1.000000</td>\n",
       "      <td>0.207193</td>\n",
       "      <td>1.000000</td>\n",
       "      <td>1.000000</td>\n",
       "      <td>-0.069365</td>\n",
       "      <td>0.145071</td>\n",
       "    </tr>\n",
       "    <tr>\n",
       "      <th>Family</th>\n",
       "      <td>-0.319651</td>\n",
       "      <td>0.207193</td>\n",
       "      <td>1.000000</td>\n",
       "      <td>0.046016</td>\n",
       "      <td>0.203212</td>\n",
       "      <td>-0.135079</td>\n",
       "      <td>-0.168329</td>\n",
       "    </tr>\n",
       "    <tr>\n",
       "      <th>fare999</th>\n",
       "      <td>0.039967</td>\n",
       "      <td>1.000000</td>\n",
       "      <td>0.046016</td>\n",
       "      <td>1.000000</td>\n",
       "      <td>0.094357</td>\n",
       "      <td>-0.038303</td>\n",
       "      <td>0.067792</td>\n",
       "    </tr>\n",
       "    <tr>\n",
       "      <th>fareminus1</th>\n",
       "      <td>0.085422</td>\n",
       "      <td>1.000000</td>\n",
       "      <td>0.203212</td>\n",
       "      <td>0.094357</td>\n",
       "      <td>1.000000</td>\n",
       "      <td>-0.064017</td>\n",
       "      <td>0.135159</td>\n",
       "    </tr>\n",
       "    <tr>\n",
       "      <th>age99</th>\n",
       "      <td>1.000000</td>\n",
       "      <td>-0.069365</td>\n",
       "      <td>-0.135079</td>\n",
       "      <td>-0.038303</td>\n",
       "      <td>-0.064017</td>\n",
       "      <td>1.000000</td>\n",
       "      <td>-0.306576</td>\n",
       "    </tr>\n",
       "    <tr>\n",
       "      <th>ageminus1</th>\n",
       "      <td>1.000000</td>\n",
       "      <td>0.145071</td>\n",
       "      <td>-0.168329</td>\n",
       "      <td>0.067792</td>\n",
       "      <td>0.135159</td>\n",
       "      <td>-0.306576</td>\n",
       "      <td>1.000000</td>\n",
       "    </tr>\n",
       "  </tbody>\n",
       "</table>\n",
       "</div>"
      ],
      "text/plain": [
       "                 Age      Fare    Family   fare999  fareminus1     age99  \\\n",
       "Age         1.000000  0.091482 -0.319651  0.039967    0.085422  1.000000   \n",
       "Fare        0.091482  1.000000  0.207193  1.000000    1.000000 -0.069365   \n",
       "Family     -0.319651  0.207193  1.000000  0.046016    0.203212 -0.135079   \n",
       "fare999     0.039967  1.000000  0.046016  1.000000    0.094357 -0.038303   \n",
       "fareminus1  0.085422  1.000000  0.203212  0.094357    1.000000 -0.064017   \n",
       "age99       1.000000 -0.069365 -0.135079 -0.038303   -0.064017  1.000000   \n",
       "ageminus1   1.000000  0.145071 -0.168329  0.067792    0.135159 -0.306576   \n",
       "\n",
       "            ageminus1  \n",
       "Age          1.000000  \n",
       "Fare         0.145071  \n",
       "Family      -0.168329  \n",
       "fare999      0.067792  \n",
       "fareminus1   0.135159  \n",
       "age99       -0.306576  \n",
       "ageminus1    1.000000  "
      ]
     },
     "execution_count": 45,
     "metadata": {},
     "output_type": "execute_result"
    }
   ],
   "source": [
    "xtrain.corr()"
   ]
  },
  {
   "cell_type": "code",
   "execution_count": 46,
   "id": "a76bcf95",
   "metadata": {},
   "outputs": [
    {
     "name": "stdout",
     "output_type": "stream",
     "text": [
      "Age = 210.2517072477438\n",
      "Fare = 2761.031434948639\n",
      "Family = 2.830891765040513\n",
      "fare999 = 47525.47059536007\n",
      "fareminus1 = 2675.2394049177087\n",
      "age99 = 932.9665366701436\n",
      "ageminus1 = 315.99550362600644\n"
     ]
    }
   ],
   "source": [
    "for col in xtrain.columns:\n",
    "    print(col, \"=\" ,xtrain[col].var())"
   ]
  },
  {
   "cell_type": "markdown",
   "id": "2f91314d",
   "metadata": {},
   "source": [
    "Using sklearn"
   ]
  },
  {
   "cell_type": "code",
   "execution_count": 47,
   "id": "47d70d65",
   "metadata": {},
   "outputs": [],
   "source": [
    "xtrain, xtest, ytrain, ytest = train_test_split(df.drop(['Survived'], axis = 1), df['Survived'], \n",
    "                                               random_state = 42, test_size = 0.2)"
   ]
  },
  {
   "cell_type": "code",
   "execution_count": 48,
   "id": "295f631c",
   "metadata": {},
   "outputs": [],
   "source": [
    "# we could have taken diff objects for both the variables to impute them with different values\n",
    "si = SimpleImputer(strategy = 'constant', fill_value = 999) \n",
    "xtrain['ageImpute'] = si.fit_transform(xtrain[['Age']])\n",
    "xtrain['fareImpute'] = si.fit_transform(xtrain[['Fare']])"
   ]
  },
  {
   "cell_type": "code",
   "execution_count": 49,
   "id": "1c4495fb",
   "metadata": {},
   "outputs": [
    {
     "data": {
      "text/html": [
       "<div>\n",
       "<style scoped>\n",
       "    .dataframe tbody tr th:only-of-type {\n",
       "        vertical-align: middle;\n",
       "    }\n",
       "\n",
       "    .dataframe tbody tr th {\n",
       "        vertical-align: top;\n",
       "    }\n",
       "\n",
       "    .dataframe thead th {\n",
       "        text-align: right;\n",
       "    }\n",
       "</style>\n",
       "<table border=\"1\" class=\"dataframe\">\n",
       "  <thead>\n",
       "    <tr style=\"text-align: right;\">\n",
       "      <th></th>\n",
       "      <th>Age</th>\n",
       "      <th>Fare</th>\n",
       "      <th>Family</th>\n",
       "      <th>ageImpute</th>\n",
       "      <th>fareImpute</th>\n",
       "    </tr>\n",
       "  </thead>\n",
       "  <tbody>\n",
       "    <tr>\n",
       "      <th>331</th>\n",
       "      <td>45.5</td>\n",
       "      <td>28.5000</td>\n",
       "      <td>0</td>\n",
       "      <td>45.5</td>\n",
       "      <td>28.5000</td>\n",
       "    </tr>\n",
       "    <tr>\n",
       "      <th>733</th>\n",
       "      <td>23.0</td>\n",
       "      <td>13.0000</td>\n",
       "      <td>0</td>\n",
       "      <td>23.0</td>\n",
       "      <td>13.0000</td>\n",
       "    </tr>\n",
       "    <tr>\n",
       "      <th>382</th>\n",
       "      <td>32.0</td>\n",
       "      <td>7.9250</td>\n",
       "      <td>0</td>\n",
       "      <td>32.0</td>\n",
       "      <td>7.9250</td>\n",
       "    </tr>\n",
       "    <tr>\n",
       "      <th>704</th>\n",
       "      <td>26.0</td>\n",
       "      <td>7.8542</td>\n",
       "      <td>1</td>\n",
       "      <td>26.0</td>\n",
       "      <td>7.8542</td>\n",
       "    </tr>\n",
       "    <tr>\n",
       "      <th>813</th>\n",
       "      <td>6.0</td>\n",
       "      <td>31.2750</td>\n",
       "      <td>6</td>\n",
       "      <td>6.0</td>\n",
       "      <td>31.2750</td>\n",
       "    </tr>\n",
       "    <tr>\n",
       "      <th>...</th>\n",
       "      <td>...</td>\n",
       "      <td>...</td>\n",
       "      <td>...</td>\n",
       "      <td>...</td>\n",
       "      <td>...</td>\n",
       "    </tr>\n",
       "    <tr>\n",
       "      <th>106</th>\n",
       "      <td>21.0</td>\n",
       "      <td>7.6500</td>\n",
       "      <td>0</td>\n",
       "      <td>21.0</td>\n",
       "      <td>7.6500</td>\n",
       "    </tr>\n",
       "    <tr>\n",
       "      <th>270</th>\n",
       "      <td>NaN</td>\n",
       "      <td>31.0000</td>\n",
       "      <td>0</td>\n",
       "      <td>999.0</td>\n",
       "      <td>31.0000</td>\n",
       "    </tr>\n",
       "    <tr>\n",
       "      <th>860</th>\n",
       "      <td>41.0</td>\n",
       "      <td>NaN</td>\n",
       "      <td>2</td>\n",
       "      <td>41.0</td>\n",
       "      <td>999.0000</td>\n",
       "    </tr>\n",
       "    <tr>\n",
       "      <th>435</th>\n",
       "      <td>14.0</td>\n",
       "      <td>120.0000</td>\n",
       "      <td>3</td>\n",
       "      <td>14.0</td>\n",
       "      <td>120.0000</td>\n",
       "    </tr>\n",
       "    <tr>\n",
       "      <th>102</th>\n",
       "      <td>21.0</td>\n",
       "      <td>77.2875</td>\n",
       "      <td>1</td>\n",
       "      <td>21.0</td>\n",
       "      <td>77.2875</td>\n",
       "    </tr>\n",
       "  </tbody>\n",
       "</table>\n",
       "<p>712 rows × 5 columns</p>\n",
       "</div>"
      ],
      "text/plain": [
       "      Age      Fare  Family  ageImpute  fareImpute\n",
       "331  45.5   28.5000       0       45.5     28.5000\n",
       "733  23.0   13.0000       0       23.0     13.0000\n",
       "382  32.0    7.9250       0       32.0      7.9250\n",
       "704  26.0    7.8542       1       26.0      7.8542\n",
       "813   6.0   31.2750       6        6.0     31.2750\n",
       "..    ...       ...     ...        ...         ...\n",
       "106  21.0    7.6500       0       21.0      7.6500\n",
       "270   NaN   31.0000       0      999.0     31.0000\n",
       "860  41.0       NaN       2       41.0    999.0000\n",
       "435  14.0  120.0000       3       14.0    120.0000\n",
       "102  21.0   77.2875       1       21.0     77.2875\n",
       "\n",
       "[712 rows x 5 columns]"
      ]
     },
     "execution_count": 49,
     "metadata": {},
     "output_type": "execute_result"
    }
   ],
   "source": [
    "xtrain"
   ]
  },
  {
   "cell_type": "code",
   "execution_count": 50,
   "id": "32532ea3",
   "metadata": {},
   "outputs": [
    {
     "data": {
      "text/plain": [
       "<AxesSubplot:ylabel='Density'>"
      ]
     },
     "execution_count": 50,
     "metadata": {},
     "output_type": "execute_result"
    },
    {
     "data": {
      "image/png": "[encoded data removed]",
      "text/plain": [
       "<Figure size 640x480 with 1 Axes>"
      ]
     },
     "metadata": {},
     "output_type": "display_data"
    }
   ],
   "source": [
    "xtrain['Age'].plot(kind = 'kde')\n",
    "xtrain['ageImpute'].plot(kind = 'kde')"
   ]
  },
  {
   "cell_type": "code",
   "execution_count": 51,
   "id": "63f4b148",
   "metadata": {},
   "outputs": [
    {
     "data": {
      "text/plain": [
       "<AxesSubplot:ylabel='Density'>"
      ]
     },
     "execution_count": 51,
     "metadata": {},
     "output_type": "execute_result"
    },
    {
     "data": {
      "image/png": "[encoded data removed]",
      "text/plain": [
       "<Figure size 640x480 with 1 Axes>"
      ]
     },
     "metadata": {},
     "output_type": "display_data"
    }
   ],
   "source": [
    "xtrain['Fare'].plot(kind = 'kde')\n",
    "xtrain['fareImpute'].plot(kind = 'kde')"
   ]
  },
  {
   "cell_type": "code",
   "execution_count": null,
   "id": "3aa9a230",
   "metadata": {},
   "outputs": [],
   "source": []
  }
 ],
 "metadata": {
  "kernelspec": {
   "display_name": "Python 3 (ipykernel)",
   "language": "python",
   "name": "python3"
  },
  "language_info": {
   "codemirror_mode": {
    "name": "ipython",
    "version": 3
   },
   "file_extension": ".py",
   "mimetype": "text/x-python",
   "name": "python",
   "nbconvert_exporter": "python",
   "pygments_lexer": "ipython3",
   "version": "3.9.13"
  }
 },
 "nbformat": 4,
 "nbformat_minor": 5
}
