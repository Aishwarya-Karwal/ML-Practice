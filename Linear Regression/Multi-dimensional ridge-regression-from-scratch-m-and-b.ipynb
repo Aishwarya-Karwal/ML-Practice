{
 "cells": [
  {
   "cell_type": "code",
   "execution_count": 45,
   "id": "1a84667c",
   "metadata": {},
   "outputs": [],
   "source": [
    "from sklearn.datasets import load_diabetes\n",
    "import numpy as np"
   ]
  },
  {
   "cell_type": "code",
   "execution_count": 7,
   "id": "73877036",
   "metadata": {},
   "outputs": [],
   "source": [
    "x,y = load_diabetes(return_X_y = True) # y default loads scaled data"
   ]
  },
  {
   "cell_type": "code",
   "execution_count": 9,
   "id": "053a1298",
   "metadata": {},
   "outputs": [
    {
     "data": {
      "text/plain": [
       "(442, 10)"
      ]
     },
     "execution_count": 9,
     "metadata": {},
     "output_type": "execute_result"
    }
   ],
   "source": [
    "x.shape"
   ]
  },
  {
   "cell_type": "code",
   "execution_count": 10,
   "id": "3ff6d633",
   "metadata": {},
   "outputs": [
    {
     "data": {
      "text/plain": [
       "(442,)"
      ]
     },
     "execution_count": 10,
     "metadata": {},
     "output_type": "execute_result"
    }
   ],
   "source": [
    "y.shape"
   ]
  },
  {
   "cell_type": "code",
   "execution_count": 12,
   "id": "6f9f3664",
   "metadata": {},
   "outputs": [],
   "source": [
    "from sklearn.model_selection import train_test_split\n",
    "xtrain,xtest,ytrain,ytest = train_test_split(x,y,test_size=0.2,random_state=4)"
   ]
  },
  {
   "cell_type": "code",
   "execution_count": 13,
   "id": "58c990cc",
   "metadata": {},
   "outputs": [
    {
     "data": {
      "text/plain": [
       "(array([  44.02063391, -241.69329987,  452.98665299,  332.04420177,\n",
       "         -76.33686744,  -68.52143809, -164.98809083,  149.96908118,\n",
       "         431.61347417,   58.51862681]),\n",
       " 150.89053425602808)"
      ]
     },
     "execution_count": 13,
     "metadata": {},
     "output_type": "execute_result"
    }
   ],
   "source": [
    "from sklearn.linear_model import Ridge\n",
    "\n",
    "r = Ridge(alpha = 0.1, solver = 'cholesky') # this solver uses ols not gd to solve coef values\n",
    "r.fit(xtrain,ytrain)\n",
    "r.coef_, r.intercept_"
   ]
  },
  {
   "cell_type": "code",
   "execution_count": 19,
   "id": "64873404",
   "metadata": {},
   "outputs": [
    {
     "data": {
      "text/plain": [
       "array([[1., 0., 0., 0., 0.],\n",
       "       [0., 1., 0., 0., 0.],\n",
       "       [0., 0., 1., 0., 0.],\n",
       "       [0., 0., 0., 1., 0.],\n",
       "       [0., 0., 0., 0., 1.]])"
      ]
     },
     "execution_count": 19,
     "metadata": {},
     "output_type": "execute_result"
    }
   ],
   "source": [
    "np.identity(5)"
   ]
  },
  {
   "cell_type": "code",
   "execution_count": 24,
   "id": "7ea01dbb",
   "metadata": {},
   "outputs": [
    {
     "data": {
      "text/plain": [
       "array([[1., 0., 0., 0., 0., 0., 0., 0., 0., 0.],\n",
       "       [0., 1., 0., 0., 0., 0., 0., 0., 0., 0.],\n",
       "       [0., 0., 1., 0., 0., 0., 0., 0., 0., 0.],\n",
       "       [0., 0., 0., 1., 0., 0., 0., 0., 0., 0.],\n",
       "       [0., 0., 0., 0., 1., 0., 0., 0., 0., 0.],\n",
       "       [0., 0., 0., 0., 0., 1., 0., 0., 0., 0.],\n",
       "       [0., 0., 0., 0., 0., 0., 1., 0., 0., 0.],\n",
       "       [0., 0., 0., 0., 0., 0., 0., 1., 0., 0.],\n",
       "       [0., 0., 0., 0., 0., 0., 0., 0., 1., 0.],\n",
       "       [0., 0., 0., 0., 0., 0., 0., 0., 0., 1.]])"
      ]
     },
     "execution_count": 24,
     "metadata": {},
     "output_type": "execute_result"
    }
   ],
   "source": [
    "np.identity(xtrain.shape[1])"
   ]
  },
  {
   "cell_type": "code",
   "execution_count": null,
   "id": "b2a09754",
   "metadata": {},
   "outputs": [],
   "source": [
    "np.insert(xtrain, )"
   ]
  },
  {
   "cell_type": "code",
   "execution_count": 28,
   "id": "266b7e89",
   "metadata": {},
   "outputs": [
    {
     "data": {
      "text/plain": [
       "((10, 353), (353, 10))"
      ]
     },
     "execution_count": 28,
     "metadata": {},
     "output_type": "execute_result"
    }
   ],
   "source": [
    "xtrain.T.shape, xtrain.shape # this upon dot product gives a matrix of shape 10,10 so we can easily add it to the lambda W term\n",
    "#  "
   ]
  },
  {
   "cell_type": "code",
   "execution_count": 29,
   "id": "0f77dbe0",
   "metadata": {},
   "outputs": [
    {
     "data": {
      "text/plain": [
       "(10, 10)"
      ]
     },
     "execution_count": 29,
     "metadata": {},
     "output_type": "execute_result"
    }
   ],
   "source": [
    "np.dot(xtrain.T, xtrain).shape"
   ]
  },
  {
   "cell_type": "code",
   "execution_count": 43,
   "id": "eb544c40",
   "metadata": {},
   "outputs": [],
   "source": [
    "class MeraRidge :\n",
    "    \n",
    "    def __init__(self, alpha = 0.1):\n",
    "        self.alpha = alpha\n",
    "        self.coef_ = 0\n",
    "        self.intercept_ = 0\n",
    "        \n",
    "        \n",
    "    def fit(self, xtrain, ytrain):\n",
    "        xtrain = np.insert(xtrain, 0, 1, axis = 1)\n",
    "        identity = np.identity(xtrain.shape[1])\n",
    "        identity[0][0] = 0 #done since the solver of Ridge class uses this\n",
    "        calculations = np.linalg.inv(np.dot(xtrain.T, xtrain) + self.alpha * identity).dot(xtrain.T).dot(ytrain)\n",
    "        self.coef_ = calculations[1:]\n",
    "        self.intercept_ = calculations[0]\n",
    "        \n",
    "        "
   ]
  },
  {
   "cell_type": "code",
   "execution_count": 44,
   "id": "5f06f686",
   "metadata": {},
   "outputs": [
    {
     "data": {
      "text/plain": [
       "(150.89053425602813,\n",
       " array([  44.02063391, -241.69329987,  452.98665299,  332.04420177,\n",
       "         -76.33686744,  -68.52143809, -164.98809083,  149.96908118,\n",
       "         431.61347417,   58.51862681]))"
      ]
     },
     "execution_count": 44,
     "metadata": {},
     "output_type": "execute_result"
    }
   ],
   "source": [
    "meraR = MeraRidge()\n",
    "meraR.fit(xtrain,ytrain)\n",
    "meraR.intercept_, meraR.coef_"
   ]
  },
  {
   "cell_type": "code",
   "execution_count": 37,
   "id": "4fe6c7a3",
   "metadata": {},
   "outputs": [
    {
     "data": {
      "text/plain": [
       "array([[ 0.        ,  0.0090156 , -0.04464164, ...,  0.02323852,\n",
       "         0.05568623,  0.10661708],\n",
       "       [ 0.        ,  0.03081083,  0.05068012, ...,  0.05755657,\n",
       "         0.0354587 ,  0.08590655],\n",
       "       [ 0.        ,  0.01628068, -0.04464164, ..., -0.03949338,\n",
       "        -0.05947118, -0.06735141],\n",
       "       ...,\n",
       "       [ 0.        ,  0.04170844,  0.05068012, ..., -0.01107952,\n",
       "        -0.04688253,  0.01549073],\n",
       "       [ 0.        ,  0.01628068,  0.05068012, ..., -0.03949338,\n",
       "         0.01703607,  0.00720652],\n",
       "       [ 0.        ,  0.04897352,  0.05068012, ...,  0.07120998,\n",
       "         0.03243232,  0.04862759]])"
      ]
     },
     "execution_count": 37,
     "metadata": {},
     "output_type": "execute_result"
    }
   ],
   "source": [
    "np.insert(xtrain, 0, 0, axis = 1)"
   ]
  },
  {
   "cell_type": "code",
   "execution_count": null,
   "id": "09a6fe3f",
   "metadata": {},
   "outputs": [],
   "source": []
  }
 ],
 "metadata": {
  "kernelspec": {
   "display_name": "Python 3 (ipykernel)",
   "language": "python",
   "name": "python3"
  },
  "language_info": {
   "codemirror_mode": {
    "name": "ipython",
    "version": 3
   },
   "file_extension": ".py",
   "mimetype": "text/x-python",
   "name": "python",
   "nbconvert_exporter": "python",
   "pygments_lexer": "ipython3",
   "version": "3.9.13"
  }
 },
 "nbformat": 4,
 "nbformat_minor": 5
}
